{
  "nbformat": 4,
  "nbformat_minor": 0,
  "metadata": {
    "colab": {
      "name": "binder_codigo.ipynb",
      "provenance": [],
      "collapsed_sections": []
    },
    "kernelspec": {
      "name": "python3",
      "display_name": "Python 3"
    },
    "language_info": {
      "name": "python"
    }
  },
  "cells": [
    {
      "cell_type": "code",
      "metadata": {
        "colab": {
          "base_uri": "https://localhost:8080/"
        },
        "id": "srXgqJHYTVEz",
        "outputId": "d1aee3d8-385f-4543-9ebd-e7c72a22dc9a"
      },
      "source": [
        "import pandas as pd\n",
        "\n",
        "binder = pd.read_csv('2013stu4binder.csv')\n",
        "\n",
        "print(binder.head(6))\n",
        "\n",
        "#'PROGRAMA_EDUCATIVO', 'DIVISION', 'NIVEL_EDUCATIVO', 'SEXO', 'EDAD',\n",
        " #      'ESTADO_CIVIL', 'NUMERO_HIJOS', 'TRABAJA', 'SOSTEN_ECONOMICO',\n",
        "  #     'INTERNET', 'INTERNET_LUGAR', 'EQUIPO_COMPUTO', 'EQUIPO_COMPUTO_DESC',\n",
        "   #    'EXPERIENCIA_MODALIDAD', 'MODALIDAD_ESTUDIOS_BACHILLERATO',\n",
        "    #   'PROMEDIO_BACHILLERATO', 'HORAS_ESTUDIO_SEMANA', 'DISCAPACIDAD',\n",
        "     #  'PERIODO_ESCOLAR', 'ASIGNATURA', 'SEMESTRE', 'CALIFICACION',\n",
        "      # 'TIPO_CALIFICACIÓN'"
      ],
      "execution_count": 69,
      "outputs": [
        {
          "output_type": "stream",
          "name": "stdout",
          "text": [
            "                    PROGRAMA_EDUCATIVO  ...  TIPO_CALIFICACIÓN\n",
            "0  Lic. en Mercadotecnia Internacional  ...                  1\n",
            "1  Lic. en Mercadotecnia Internacional  ...                  1\n",
            "2  Lic. en Mercadotecnia Internacional  ...                  1\n",
            "3  Lic. en Mercadotecnia Internacional  ...                  1\n",
            "4  Lic. en Mercadotecnia Internacional  ...                  1\n",
            "5  Lic. en Mercadotecnia Internacional  ...                  1\n",
            "\n",
            "[6 rows x 23 columns]\n"
          ]
        }
      ]
    },
    {
      "cell_type": "code",
      "metadata": {
        "colab": {
          "base_uri": "https://localhost:8080/"
        },
        "id": "qHbAxAdsK2ZD",
        "outputId": "8d7c757e-8cdd-4b2d-c50f-ca487f8e79b8"
      },
      "source": [
        "binder.dtypes"
      ],
      "execution_count": 70,
      "outputs": [
        {
          "output_type": "execute_result",
          "data": {
            "text/plain": [
              "PROGRAMA_EDUCATIVO                 object\n",
              "DIVISION                            int64\n",
              "NIVEL_EDUCATIVO                     int64\n",
              "SEXO                                int64\n",
              "EDAD                                int64\n",
              "ESTADO_CIVIL                        int64\n",
              "NUMERO_HIJOS                        int64\n",
              "TRABAJA                             int64\n",
              "SOSTEN_ECONOMICO                    int64\n",
              "INTERNET                            int64\n",
              "INTERNET_LUGAR                      int64\n",
              "EQUIPO_COMPUTO                      int64\n",
              "EQUIPO_COMPUTO_DESC                 int64\n",
              "EXPERIENCIA_MODALIDAD               int64\n",
              "MODALIDAD_ESTUDIOS_BACHILLERATO     int64\n",
              "PROMEDIO_BACHILLERATO               int64\n",
              "HORAS_ESTUDIO_SEMANA                int64\n",
              "DISCAPACIDAD                        int64\n",
              "PERIODO_ESCOLAR                     int64\n",
              "ASIGNATURA                         object\n",
              "SEMESTRE                            int64\n",
              "CALIFICACION                        int64\n",
              "TIPO_CALIFICACIÓN                   int64\n",
              "dtype: object"
            ]
          },
          "metadata": {},
          "execution_count": 70
        }
      ]
    },
    {
      "cell_type": "code",
      "metadata": {
        "colab": {
          "base_uri": "https://localhost:8080/"
        },
        "id": "opsNg9VJXvsT",
        "outputId": "fb0c48d9-db05-4158-caea-43efcd49dca1"
      },
      "source": [
        "ttl_DIVISION= binder['DIVISION'].sum()\n",
        "ttl_NIVEL_EDUCATIVO= binder['NIVEL_EDUCATIVO'].sum()\n",
        "ttl_SEXO= binder['SEXO'].sum()\n",
        "ttl_EDAD= binder['EDAD'].sum()\n",
        "ttl_ESTADO_CIVIL= binder['ESTADO_CIVIL'].sum()\n",
        "ttl_NUMERO_HIJOS= binder['NUMERO_HIJOS'].sum()\n",
        "ttl_TRABAJA= binder['TRABAJA'].sum()\n",
        "ttl_SOSTEN_ECONOMICO= binder['SOSTEN_ECONOMICO'].sum()\n",
        "ttl_INTERNET= binder['INTERNET'].sum()\n",
        "ttl_INTERNET_LUGAR= binder['INTERNET_LUGAR'].sum()\n",
        "ttl_EQUIPO_COMPUTO= binder['EQUIPO_COMPUTO'].sum()\n",
        "ttl_EQUIPO_COMPUTO_DESC= binder['EQUIPO_COMPUTO_DESC'].sum()\n",
        "ttl_EXPERIENCIA_MODALIDAD= binder['EXPERIENCIA_MODALIDAD'].sum()\n",
        "ttl_MODALIDAD_ESTUDIOS_BACHILLERATO= binder['MODALIDAD_ESTUDIOS_BACHILLERATO'].sum()\n",
        "ttl_PROMEDIO_BACHILLERATO= binder['PROMEDIO_BACHILLERATO'].sum()\n",
        "ttl_HORAS_ESTUDIO_SEMANA= binder['HORAS_ESTUDIO_SEMANA'].sum()\n",
        "ttl_DISCAPACIDAD= binder['DISCAPACIDAD'].sum()\n",
        "ttl_PERIODO_ESCOLAR= binder['PERIODO_ESCOLAR'].sum()\n",
        "ttl_SEMESTRE= binder['SEMESTRE'].sum()\n",
        "ttl_CALIFICACION= binder['CALIFICACION'].sum()\n",
        "ttl_TIPO_CALIFICACIÓN= binder['TIPO_CALIFICACIÓN'].sum()\n",
        "\n",
        "\n",
        "print(\"ttl_DIVISION: \", ttl_DIVISION)\n",
        "print(\"ttl_NIVEL_EDUCATIVO: \", ttl_NIVEL_EDUCATIVO)\n",
        "print(\"ttl_SEXO: \", ttl_SEXO)\n",
        "print(\"ttl_EDAD: \", ttl_EDAD)\n",
        "print(\"ttl_ESTADO_CIVIL: \", ttl_ESTADO_CIVIL)\n",
        "print(\"ttl_NUMERO_HIJOS: \", ttl_NUMERO_HIJOS)\n",
        "print(\"ttl_TRABAJA: \", ttl_TRABAJA)\n",
        "print(\"ttl_SOSTEN_ECONOMICO: \", ttl_SOSTEN_ECONOMICO)\n",
        "print(\"ttl_INTERNET: \", ttl_INTERNET)\n",
        "print(\"ttl_INTERNET_LUGAR: \", ttl_INTERNET_LUGAR)\n",
        "print(\"ttl_EQUIPO_COMPUTO: \", ttl_EQUIPO_COMPUTO)\n",
        "print(\"ttl_EQUIPO_COMPUTO_DESC: \", ttl_EQUIPO_COMPUTO_DESC)\n",
        "print(\"ttl_EXPERIENCIA_MODALIDAD: \", ttl_EXPERIENCIA_MODALIDAD)\n",
        "print(\"ttl_MODALIDAD_ESTUDIOS_BACHILLERATO: \", ttl_MODALIDAD_ESTUDIOS_BACHILLERATO)\n",
        "print(\"ttl_PROMEDIO_BACHILLERATO: \", ttl_PROMEDIO_BACHILLERATO)\n",
        "print(\"ttl_HORAS_ESTUDIO_SEMANA: \", ttl_HORAS_ESTUDIO_SEMANA)\n",
        "print(\"ttl_DISCAPACIDAD: \", ttl_DISCAPACIDAD)\n",
        "print(\"ttl_PERIODO_ESCOLAR: \", ttl_PERIODO_ESCOLAR)\n",
        "print(\"ttl_SEMESTRE: \", ttl_SEMESTRE)\n",
        "print(\"ttl_CALIFICACION: \", ttl_CALIFICACION)\n",
        "print(\"ttl_TIPO_CALIFICACIÓN: \", ttl_TIPO_CALIFICACIÓN)"
      ],
      "execution_count": 71,
      "outputs": [
        {
          "output_type": "stream",
          "name": "stdout",
          "text": [
            "ttl_DIVISION:  49627\n",
            "ttl_NIVEL_EDUCATIVO:  1416\n",
            "ttl_SEXO:  24075\n",
            "ttl_EDAD:  56505\n",
            "ttl_ESTADO_CIVIL:  74509\n",
            "ttl_NUMERO_HIJOS:  9034\n",
            "ttl_TRABAJA:  34199\n",
            "ttl_SOSTEN_ECONOMICO:  205862\n",
            "ttl_INTERNET:  44801\n",
            "ttl_INTERNET_LUGAR:  11712\n",
            "ttl_EQUIPO_COMPUTO:  43941\n",
            "ttl_EQUIPO_COMPUTO_DESC:  64147\n",
            "ttl_EXPERIENCIA_MODALIDAD:  15955\n",
            "ttl_MODALIDAD_ESTUDIOS_BACHILLERATO:  79541\n",
            "ttl_PROMEDIO_BACHILLERATO:  73639\n",
            "ttl_HORAS_ESTUDIO_SEMANA:  69839\n",
            "ttl_DISCAPACIDAD:  995\n",
            "ttl_PERIODO_ESCOLAR:  69307\n",
            "ttl_SEMESTRE:  100409\n",
            "ttl_CALIFICACION:  73223\n",
            "ttl_TIPO_CALIFICACIÓN:  44287\n"
          ]
        }
      ]
    },
    {
      "cell_type": "code",
      "metadata": {
        "id": "RUR-USoqZMCc"
      },
      "source": [
        "binder['DIVISION']=binder['DIVISION']/ttl_DIVISION\n",
        "binder['NIVEL_EDUCATIVO']=binder['NIVEL_EDUCATIVO']/ttl_NIVEL_EDUCATIVO\n",
        "binder['SEXO']=binder['SEXO']/ttl_SEXO\n",
        "binder['EDAD']=binder['EDAD']/ttl_EDAD\n",
        "binder['ESTADO_CIVIL']=binder['ESTADO_CIVIL']/ttl_ESTADO_CIVIL\n",
        "binder['NUMERO_HIJOS']=binder['NUMERO_HIJOS']/ttl_NUMERO_HIJOS\n",
        "binder['TRABAJA']=binder['TRABAJA']/ttl_TRABAJA\n",
        "binder['SOSTEN_ECONOMICO']=binder['SOSTEN_ECONOMICO']/ttl_SOSTEN_ECONOMICO\n",
        "binder['INTERNET']=binder['INTERNET']/ttl_INTERNET\n",
        "binder['INTERNET_LUGAR']=binder['INTERNET_LUGAR']/ttl_INTERNET_LUGAR\n",
        "binder['EQUIPO_COMPUTO']=binder['EQUIPO_COMPUTO']/ttl_EQUIPO_COMPUTO\n",
        "binder['EQUIPO_COMPUTO_DESC']=binder['EQUIPO_COMPUTO_DESC']/ttl_EQUIPO_COMPUTO_DESC\n",
        "binder['EXPERIENCIA_MODALIDAD']=binder['EXPERIENCIA_MODALIDAD']/ttl_EXPERIENCIA_MODALIDAD\n",
        "binder['MODALIDAD_ESTUDIOS_BACHILLERATO']=binder['MODALIDAD_ESTUDIOS_BACHILLERATO']/ttl_MODALIDAD_ESTUDIOS_BACHILLERATO\n",
        "binder['PROMEDIO_BACHILLERATO']=binder['PROMEDIO_BACHILLERATO']/ttl_PROMEDIO_BACHILLERATO\n",
        "binder['HORAS_ESTUDIO_SEMANA']=binder['HORAS_ESTUDIO_SEMANA']/ttl_HORAS_ESTUDIO_SEMANA\n",
        "binder['DISCAPACIDAD']=binder['DISCAPACIDAD']/ttl_DISCAPACIDAD\n",
        "binder['PERIODO_ESCOLAR']=binder['PERIODO_ESCOLAR']/ttl_PERIODO_ESCOLAR\n",
        "binder['SEMESTRE']=binder['SEMESTRE']/ttl_SEMESTRE\n",
        "binder['CALIFICACION']=binder['CALIFICACION']/ttl_CALIFICACION\n",
        "binder['TIPO_CALIFICACIÓN']=binder['TIPO_CALIFICACIÓN']/ttl_TIPO_CALIFICACIÓN"
      ],
      "execution_count": 73,
      "outputs": []
    },
    {
      "cell_type": "code",
      "metadata": {
        "colab": {
          "base_uri": "https://localhost:8080/"
        },
        "id": "uH0DsrcoZ6ns",
        "outputId": "e4357f39-d6ad-45dc-def4-591148a9f801"
      },
      "source": [
        "\n",
        "print(galaxy.head())"
      ],
      "execution_count": 74,
      "outputs": [
        {
          "output_type": "stream",
          "name": "stdout",
          "text": [
            "                    PROGRAMA_EDUCATIVO  ...  TIPO_CALIFICACIÓN\n",
            "0  Lic. en Mercadotecnia Internacional  ...                  1\n",
            "1  Lic. en Mercadotecnia Internacional  ...                  1\n",
            "2  Lic. en Mercadotecnia Internacional  ...                  1\n",
            "3  Lic. en Mercadotecnia Internacional  ...                  1\n",
            "4  Lic. en Mercadotecnia Internacional  ...                  1\n",
            "\n",
            "[5 rows x 23 columns]\n"
          ]
        }
      ]
    },
    {
      "cell_type": "code",
      "metadata": {
        "colab": {
          "base_uri": "https://localhost:8080/"
        },
        "id": "PmcMhov3a596",
        "outputId": "095c75f9-9254-43ac-e333-787a1431c1fa"
      },
      "source": [
        "ttl_DIVISION = binder['DIVISION'].sum()\n",
        "ttl_NIVEL_EDUCATIVO = binder['NIVEL_EDUCATIVO'].sum()\n",
        "ttl_SEXO = binder['SEXO'].sum()\n",
        "ttl_EDAD = binder['EDAD'].sum()\n",
        "ttl_ESTADO_CIVIL = binder['ESTADO_CIVIL'].sum()\n",
        "ttl_NUMERO_HIJOS = binder['NUMERO_HIJOS'].sum()\n",
        "ttl_TRABAJA = binder['TRABAJA'].sum()\n",
        "ttl_SOSTEN_ECONOMICO = binder['SOSTEN_ECONOMICO'].sum()\n",
        "ttl_INTERNET = binder['INTERNET'].sum()\n",
        "ttl_INTERNET_LUGAR = binder['INTERNET_LUGAR'].sum()\n",
        "ttl_EQUIPO_COMPUTO = binder['EQUIPO_COMPUTO'].sum()\n",
        "ttl_EQUIPO_COMPUTO_DESC = binder['EQUIPO_COMPUTO_DESC'].sum()\n",
        "ttl_EXPERIENCIA_MODALIDAD = binder['EXPERIENCIA_MODALIDAD'].sum()\n",
        "ttl_MODALIDAD_ESTUDIOS_BACHILLERATO = binder['MODALIDAD_ESTUDIOS_BACHILLERATO'].sum()\n",
        "ttl_PROMEDIO_BACHILLERATO = binder['PROMEDIO_BACHILLERATO'].sum()\n",
        "ttl_HORAS_ESTUDIO_SEMANA = binder['HORAS_ESTUDIO_SEMANA'].sum()\n",
        "ttl_DISCAPACIDAD = binder['DISCAPACIDAD'].sum()\n",
        "ttl_PERIODO_ESCOLAR = binder['PERIODO_ESCOLAR'].sum()\n",
        "ttl_SEMESTRE = binder['SEMESTRE'].sum()\n",
        "ttl_CALIFICACION = binder['CALIFICACION'].sum()\n",
        "ttl_TIPO_CALIFICACIÓN = binder['TIPO_CALIFICACIÓN'].sum()\n",
        "ttl_ttl = ttl_DIVISION + ttl_NIVEL_EDUCATIVO + ttl_SEXO + ttl_EDAD + ttl_ESTADO_CIVIL + ttl_NUMERO_HIJOS + ttl_TRABAJA + ttl_SOSTEN_ECONOMICO + ttl_INTERNET + ttl_INTERNET_LUGAR + ttl_EQUIPO_COMPUTO + ttl_EQUIPO_COMPUTO_DESC + ttl_EXPERIENCIA_MODALIDAD + ttl_MODALIDAD_ESTUDIOS_BACHILLERATO + ttl_PROMEDIO_BACHILLERATO + ttl_HORAS_ESTUDIO_SEMANA + ttl_DISCAPACIDAD + ttl_PERIODO_ESCOLAR + ttl_SEMESTRE + ttl_CALIFICACION + ttl_TIPO_CALIFICACIÓN\n",
        "\n",
        "print(ttl_DIVISION)\n",
        "print(ttl_NIVEL_EDUCATIVO)\n",
        "print(ttl_SEXO)\n",
        "print(ttl_EDAD)\n",
        "print(ttl_ESTADO_CIVIL)\n",
        "print(ttl_NUMERO_HIJOS)\n",
        "print(ttl_TRABAJA)\n",
        "print(ttl_SOSTEN_ECONOMICO)\n",
        "print(ttl_INTERNET)\n",
        "print(ttl_INTERNET_LUGAR)\n",
        "print(ttl_EQUIPO_COMPUTO)\n",
        "print(ttl_EQUIPO_COMPUTO_DESC)\n",
        "print(ttl_EXPERIENCIA_MODALIDAD)\n",
        "print(ttl_MODALIDAD_ESTUDIOS_BACHILLERATO)\n",
        "print(ttl_PROMEDIO_BACHILLERATO)\n",
        "print(ttl_HORAS_ESTUDIO_SEMANA)\n",
        "print(ttl_DISCAPACIDAD)\n",
        "print(ttl_PERIODO_ESCOLAR)\n",
        "print(ttl_SEMESTRE)\n",
        "print(ttl_CALIFICACION)\n",
        "print(ttl_TIPO_CALIFICACIÓN)\n",
        "print(ttl_ttl)"
      ],
      "execution_count": 78,
      "outputs": [
        {
          "output_type": "stream",
          "name": "stdout",
          "text": [
            "1.0\n",
            "1.0\n",
            "1.0000000000000002\n",
            "0.9999999999999998\n",
            "0.9999999999999999\n",
            "1.0\n",
            "1.0000000000000002\n",
            "0.9999999999999998\n",
            "1.0000000000000002\n",
            "1.0\n",
            "0.9999999999999998\n",
            "1.0\n",
            "0.9999999999999999\n",
            "1.0\n",
            "1.0000000000000002\n",
            "1.0\n",
            "1.0000000000000002\n",
            "0.9999999999999999\n",
            "0.9999999999999998\n",
            "1.0\n",
            "0.9999999999999996\n",
            "21.0\n"
          ]
        }
      ]
    },
    {
      "cell_type": "code",
      "metadata": {
        "id": "Q3wH_XV3bTrO"
      },
      "source": [
        "binder['DIVISION']=binder['DIVISION']/ttl_ttl\n",
        "binder['NIVEL_EDUCATIVO']=binder['NIVEL_EDUCATIVO']/ttl_ttl\n",
        "binder['SEXO']=binder['SEXO']/ttl_ttl\n",
        "binder['EDAD']=binder['EDAD']/ttl_ttl\n",
        "binder['ESTADO_CIVIL']=binder['ESTADO_CIVIL']/ttl_ttl\n",
        "binder['NUMERO_HIJOS']=binder['NUMERO_HIJOS']/ttl_ttl\n",
        "binder['TRABAJA']=binder['TRABAJA']/ttl_ttl\n",
        "binder['SOSTEN_ECONOMICO']=binder['SOSTEN_ECONOMICO']/ttl_ttl\n",
        "binder['INTERNET']=binder['INTERNET']/ttl_ttl\n",
        "binder['INTERNET_LUGAR']=binder['INTERNET_LUGAR']/ttl_ttl\n",
        "binder['EQUIPO_COMPUTO']=binder['EQUIPO_COMPUTO']/ttl_ttl\n",
        "binder['EQUIPO_COMPUTO_DESC']=binder['EQUIPO_COMPUTO_DESC']/ttl_ttl\n",
        "binder['EXPERIENCIA_MODALIDAD']=binder['EXPERIENCIA_MODALIDAD']/ttl_ttl\n",
        "binder['MODALIDAD_ESTUDIOS_BACHILLERATO']=binder['MODALIDAD_ESTUDIOS_BACHILLERATO']/ttl_ttl\n",
        "binder['PROMEDIO_BACHILLERATO']=binder['PROMEDIO_BACHILLERATO']/ttl_ttl\n",
        "binder['HORAS_ESTUDIO_SEMANA']=binder['HORAS_ESTUDIO_SEMANA']/ttl_ttl\n",
        "binder['DISCAPACIDAD']=binder['DISCAPACIDAD']/ttl_ttl\n",
        "binder['PERIODO_ESCOLAR']=binder['PERIODO_ESCOLAR']/ttl_ttl\n",
        "binder['SEMESTRE']=binder['SEMESTRE']/ttl_ttl\n",
        "binder['CALIFICACION']=binder['CALIFICACION']/ttl_ttl\n",
        "binder['TIPO_CALIFICACIÓN']=binder['TIPO_CALIFICACIÓN']/ttl_ttl"
      ],
      "execution_count": 79,
      "outputs": []
    },
    {
      "cell_type": "code",
      "metadata": {
        "colab": {
          "base_uri": "https://localhost:8080/"
        },
        "id": "YiEN37u7bhaZ",
        "outputId": "b5b1c609-e89a-4e72-e300-71e50309f2d0"
      },
      "source": [
        "print(galaxy.head())"
      ],
      "execution_count": 80,
      "outputs": [
        {
          "output_type": "stream",
          "name": "stdout",
          "text": [
            "                    PROGRAMA_EDUCATIVO  ...  TIPO_CALIFICACIÓN\n",
            "0  Lic. en Mercadotecnia Internacional  ...                  1\n",
            "1  Lic. en Mercadotecnia Internacional  ...                  1\n",
            "2  Lic. en Mercadotecnia Internacional  ...                  1\n",
            "3  Lic. en Mercadotecnia Internacional  ...                  1\n",
            "4  Lic. en Mercadotecnia Internacional  ...                  1\n",
            "\n",
            "[5 rows x 23 columns]\n"
          ]
        }
      ]
    },
    {
      "cell_type": "code",
      "metadata": {
        "colab": {
          "base_uri": "https://localhost:8080/"
        },
        "id": "JXxzpGJDbpEO",
        "outputId": "e60992ff-427e-455f-ccd3-f9469ddcaf91"
      },
      "source": [
        "ttl_DIVISION = binder['DIVISION'].sum()\n",
        "ttl_NIVEL_EDUCATIVO = binder['NIVEL_EDUCATIVO'].sum()\n",
        "ttl_SEXO = binder['SEXO'].sum()\n",
        "ttl_EDAD = binder['EDAD'].sum()\n",
        "ttl_ESTADO_CIVIL = binder['ESTADO_CIVIL'].sum()\n",
        "ttl_NUMERO_HIJOS = binder['NUMERO_HIJOS'].sum()\n",
        "ttl_TRABAJA = binder['TRABAJA'].sum()\n",
        "ttl_SOSTEN_ECONOMICO = binder['SOSTEN_ECONOMICO'].sum()\n",
        "ttl_INTERNET = binder['INTERNET'].sum()\n",
        "ttl_INTERNET_LUGAR = binder['INTERNET_LUGAR'].sum()\n",
        "ttl_EQUIPO_COMPUTO = binder['EQUIPO_COMPUTO'].sum()\n",
        "ttl_EQUIPO_COMPUTO_DESC = binder['EQUIPO_COMPUTO_DESC'].sum()\n",
        "ttl_EXPERIENCIA_MODALIDAD = binder['EXPERIENCIA_MODALIDAD'].sum()\n",
        "ttl_MODALIDAD_ESTUDIOS_BACHILLERATO = binder['MODALIDAD_ESTUDIOS_BACHILLERATO'].sum()\n",
        "ttl_PROMEDIO_BACHILLERATO = binder['PROMEDIO_BACHILLERATO'].sum()\n",
        "ttl_HORAS_ESTUDIO_SEMANA = binder['HORAS_ESTUDIO_SEMANA'].sum()\n",
        "ttl_DISCAPACIDAD = binder['DISCAPACIDAD'].sum()\n",
        "ttl_PERIODO_ESCOLAR = binder['PERIODO_ESCOLAR'].sum()\n",
        "ttl_SEMESTRE = binder['SEMESTRE'].sum()\n",
        "ttl_CALIFICACION = binder['CALIFICACION'].sum()\n",
        "ttl_TIPO_CALIFICACIÓN = binder['TIPO_CALIFICACIÓN'].sum()\n",
        "ttl_ttl = ttl_DIVISION + ttl_NIVEL_EDUCATIVO + ttl_SEXO + ttl_EDAD + ttl_ESTADO_CIVIL + ttl_NUMERO_HIJOS + ttl_TRABAJA + ttl_SOSTEN_ECONOMICO + ttl_INTERNET + ttl_INTERNET_LUGAR + ttl_EQUIPO_COMPUTO + ttl_EQUIPO_COMPUTO_DESC + ttl_EXPERIENCIA_MODALIDAD + ttl_MODALIDAD_ESTUDIOS_BACHILLERATO + ttl_PROMEDIO_BACHILLERATO + ttl_HORAS_ESTUDIO_SEMANA + ttl_DISCAPACIDAD + ttl_PERIODO_ESCOLAR + ttl_SEMESTRE + ttl_CALIFICACION + ttl_TIPO_CALIFICACIÓN\n",
        "\n",
        "print(ttl_DIVISION)\n",
        "print(ttl_NIVEL_EDUCATIVO)\n",
        "print(ttl_SEXO)\n",
        "print(ttl_EDAD)\n",
        "print(ttl_ESTADO_CIVIL)\n",
        "print(ttl_NUMERO_HIJOS)\n",
        "print(ttl_TRABAJA)\n",
        "print(ttl_SOSTEN_ECONOMICO)\n",
        "print(ttl_INTERNET)\n",
        "print(ttl_INTERNET_LUGAR)\n",
        "print(ttl_EQUIPO_COMPUTO)\n",
        "print(ttl_EQUIPO_COMPUTO_DESC)\n",
        "print(ttl_EXPERIENCIA_MODALIDAD)\n",
        "print(ttl_MODALIDAD_ESTUDIOS_BACHILLERATO)\n",
        "print(ttl_PROMEDIO_BACHILLERATO)\n",
        "print(ttl_HORAS_ESTUDIO_SEMANA)\n",
        "print(ttl_DISCAPACIDAD)\n",
        "print(ttl_PERIODO_ESCOLAR)\n",
        "print(ttl_SEMESTRE)\n",
        "print(ttl_CALIFICACION)\n",
        "print(ttl_TIPO_CALIFICACIÓN)\n",
        "print(ttl_ttl)"
      ],
      "execution_count": 81,
      "outputs": [
        {
          "output_type": "stream",
          "name": "stdout",
          "text": [
            "0.04761904761904761\n",
            "0.047619047619047616\n",
            "0.04761904761904762\n",
            "0.047619047619047616\n",
            "0.04761904761904761\n",
            "0.047619047619047616\n",
            "0.04761904761904763\n",
            "0.047619047619047616\n",
            "0.047619047619047616\n",
            "0.047619047619047616\n",
            "0.04761904761904762\n",
            "0.047619047619047616\n",
            "0.047619047619047616\n",
            "0.04761904761904761\n",
            "0.04761904761904762\n",
            "0.04761904761904761\n",
            "0.04761904761904763\n",
            "0.04761904761904762\n",
            "0.04761904761904763\n",
            "0.04761904761904762\n",
            "0.04761904761904761\n",
            "1.0000000000000002\n"
          ]
        }
      ]
    },
    {
      "cell_type": "code",
      "metadata": {
        "colab": {
          "base_uri": "https://localhost:8080/"
        },
        "id": "R_PQJTSGVMA4",
        "outputId": "6f4e74a9-99b7-49ce-9a5e-fc9df98931b3"
      },
      "source": [
        "# Metadata\n",
        "\n",
        "print('Type: ',type(binder))\n",
        "print('Info: \\n',binder.info)\n",
        "print('Keys: ',binder.keys())\n",
        "print('Columns: ',binder.columns)"
      ],
      "execution_count": 82,
      "outputs": [
        {
          "output_type": "stream",
          "name": "stdout",
          "text": [
            "Type:  <class 'pandas.core.frame.DataFrame'>\n",
            "Info: \n",
            " <bound method DataFrame.info of                                   PROGRAMA_EDUCATIVO  ...  TIPO_CALIFICACIÓN\n",
            "0                Lic. en Mercadotecnia Internacional  ...           0.000001\n",
            "1                Lic. en Mercadotecnia Internacional  ...           0.000001\n",
            "2                Lic. en Mercadotecnia Internacional  ...           0.000001\n",
            "3                Lic. en Mercadotecnia Internacional  ...           0.000001\n",
            "4                Lic. en Mercadotecnia Internacional  ...           0.000001\n",
            "...                                              ...  ...                ...\n",
            "44899       Lic. en Administración y Gestión Pública  ...           0.000001\n",
            "44900       Lic. en Administración y Gestión Pública  ...           0.000001\n",
            "44901  Lic. en Administración de Empresas Turísticas  ...           0.000001\n",
            "44902                                Lic. en Derecho  ...           0.000001\n",
            "44903                                Lic. en Derecho  ...           0.000001\n",
            "\n",
            "[44904 rows x 23 columns]>\n",
            "Keys:  Index(['PROGRAMA_EDUCATIVO', 'DIVISION', 'NIVEL_EDUCATIVO', 'SEXO', 'EDAD',\n",
            "       'ESTADO_CIVIL', 'NUMERO_HIJOS', 'TRABAJA', 'SOSTEN_ECONOMICO',\n",
            "       'INTERNET', 'INTERNET_LUGAR', 'EQUIPO_COMPUTO', 'EQUIPO_COMPUTO_DESC',\n",
            "       'EXPERIENCIA_MODALIDAD', 'MODALIDAD_ESTUDIOS_BACHILLERATO',\n",
            "       'PROMEDIO_BACHILLERATO', 'HORAS_ESTUDIO_SEMANA', 'DISCAPACIDAD',\n",
            "       'PERIODO_ESCOLAR', 'ASIGNATURA', 'SEMESTRE', 'CALIFICACION',\n",
            "       'TIPO_CALIFICACIÓN'],\n",
            "      dtype='object')\n",
            "Columns:  Index(['PROGRAMA_EDUCATIVO', 'DIVISION', 'NIVEL_EDUCATIVO', 'SEXO', 'EDAD',\n",
            "       'ESTADO_CIVIL', 'NUMERO_HIJOS', 'TRABAJA', 'SOSTEN_ECONOMICO',\n",
            "       'INTERNET', 'INTERNET_LUGAR', 'EQUIPO_COMPUTO', 'EQUIPO_COMPUTO_DESC',\n",
            "       'EXPERIENCIA_MODALIDAD', 'MODALIDAD_ESTUDIOS_BACHILLERATO',\n",
            "       'PROMEDIO_BACHILLERATO', 'HORAS_ESTUDIO_SEMANA', 'DISCAPACIDAD',\n",
            "       'PERIODO_ESCOLAR', 'ASIGNATURA', 'SEMESTRE', 'CALIFICACION',\n",
            "       'TIPO_CALIFICACIÓN'],\n",
            "      dtype='object')\n"
          ]
        }
      ]
    },
    {
      "cell_type": "code",
      "metadata": {
        "colab": {
          "base_uri": "https://localhost:8080/"
        },
        "id": "lNFzDs2_apZK",
        "outputId": "50c27f1e-9056-4f63-8bfd-5a47ff1b3b1a"
      },
      "source": [
        "# Analyse\n",
        "print('Mean: ',binder[\"SEXO\"].mean())\n",
        "print('Value counts: \\n',binder[\"SEXO\"].value_counts().head())\n",
        "print('Shape: ',binder[\"SEXO\"].value_counts().shape)"
      ],
      "execution_count": 83,
      "outputs": [
        {
          "output_type": "stream",
          "name": "stdout",
          "text": [
            "Mean:  1.0604633800789286e-06\n",
            "Value counts: \n",
            " 0.000002    24075\n",
            "0.000000    20829\n",
            "Name: SEXO, dtype: int64\n",
            "Shape:  (2,)\n"
          ]
        }
      ]
    },
    {
      "cell_type": "code",
      "metadata": {
        "colab": {
          "base_uri": "https://localhost:8080/"
        },
        "id": "hUCxraxnaHyp",
        "outputId": "7a070cac-2de9-4ccf-b83d-42ac08b2108d"
      },
      "source": [
        "# Descriptive stats\n",
        "print(binder.describe())"
      ],
      "execution_count": 84,
      "outputs": [
        {
          "output_type": "stream",
          "name": "stdout",
          "text": [
            "           DIVISION  NIVEL_EDUCATIVO  ...  CALIFICACION  TIPO_CALIFICACIÓN\n",
            "count  4.490400e+04     44904.000000  ...  4.490400e+04       4.490400e+04\n",
            "mean   1.060463e-06         0.000001  ...  1.060463e-06       1.060463e-06\n",
            "std    6.489430e-07         0.000006  ...  3.138699e-07       1.251714e-07\n",
            "min    0.000000e+00         0.000000  ...  6.503291e-07       0.000000e+00\n",
            "25%    9.595391e-07         0.000000  ...  6.503291e-07       1.075238e-06\n",
            "50%    9.595391e-07         0.000000  ...  1.300658e-06       1.075238e-06\n",
            "75%    1.919078e-06         0.000000  ...  1.300658e-06       1.075238e-06\n",
            "max    1.919078e-06         0.000034  ...  1.300658e-06       1.075238e-06\n",
            "\n",
            "[8 rows x 21 columns]\n"
          ]
        }
      ]
    },
    {
      "cell_type": "code",
      "metadata": {
        "colab": {
          "base_uri": "https://localhost:8080/"
        },
        "id": "74QxFf-kbgGP",
        "outputId": "f2fee428-0249-4851-bb8a-b124d480e19f"
      },
      "source": [
        "# Vs\n",
        "print('For each feature: ')\n",
        "print('SUM: \\n',binder.sum())\n",
        "print('Mean: \\n',binder.mean())\n",
        "print('Min: \\n',binder.min())\n",
        "print('Max: \\n',binder.max())"
      ],
      "execution_count": 85,
      "outputs": [
        {
          "output_type": "stream",
          "name": "stdout",
          "text": [
            "For each feature: \n",
            "SUM: \n",
            " PROGRAMA_EDUCATIVO                 Lic. en Mercadotecnia InternacionalLic. en Mer...\n",
            "DIVISION                                                                    0.047619\n",
            "NIVEL_EDUCATIVO                                                             0.047619\n",
            "SEXO                                                                        0.047619\n",
            "EDAD                                                                        0.047619\n",
            "ESTADO_CIVIL                                                                0.047619\n",
            "NUMERO_HIJOS                                                                0.047619\n",
            "TRABAJA                                                                     0.047619\n",
            "SOSTEN_ECONOMICO                                                            0.047619\n",
            "INTERNET                                                                    0.047619\n",
            "INTERNET_LUGAR                                                              0.047619\n",
            "EQUIPO_COMPUTO                                                              0.047619\n",
            "EQUIPO_COMPUTO_DESC                                                         0.047619\n",
            "EXPERIENCIA_MODALIDAD                                                       0.047619\n",
            "MODALIDAD_ESTUDIOS_BACHILLERATO                                             0.047619\n",
            "PROMEDIO_BACHILLERATO                                                       0.047619\n",
            "HORAS_ESTUDIO_SEMANA                                                        0.047619\n",
            "DISCAPACIDAD                                                                0.047619\n",
            "PERIODO_ESCOLAR                                                             0.047619\n",
            "ASIGNATURA                         Fundamentos de investigaciónFundamentos de adm...\n",
            "SEMESTRE                                                                    0.047619\n",
            "CALIFICACION                                                                0.047619\n",
            "TIPO_CALIFICACIÓN                                                           0.047619\n",
            "dtype: object\n",
            "Mean: \n",
            " DIVISION                           0.000001\n",
            "NIVEL_EDUCATIVO                    0.000001\n",
            "SEXO                               0.000001\n",
            "EDAD                               0.000001\n",
            "ESTADO_CIVIL                       0.000001\n",
            "NUMERO_HIJOS                       0.000001\n",
            "TRABAJA                            0.000001\n",
            "SOSTEN_ECONOMICO                   0.000001\n",
            "INTERNET                           0.000001\n",
            "INTERNET_LUGAR                     0.000001\n",
            "EQUIPO_COMPUTO                     0.000001\n",
            "EQUIPO_COMPUTO_DESC                0.000001\n",
            "EXPERIENCIA_MODALIDAD              0.000001\n",
            "MODALIDAD_ESTUDIOS_BACHILLERATO    0.000001\n",
            "PROMEDIO_BACHILLERATO              0.000001\n",
            "HORAS_ESTUDIO_SEMANA               0.000001\n",
            "DISCAPACIDAD                       0.000001\n",
            "PERIODO_ESCOLAR                    0.000001\n",
            "SEMESTRE                           0.000001\n",
            "CALIFICACION                       0.000001\n",
            "TIPO_CALIFICACIÓN                  0.000001\n",
            "dtype: float64\n",
            "Min: \n",
            " PROGRAMA_EDUCATIVO                          Ing. en Biotecnología\n",
            "DIVISION                                                        0\n",
            "NIVEL_EDUCATIVO                                                 0\n",
            "SEXO                                                            0\n",
            "EDAD                                                            0\n",
            "ESTADO_CIVIL                                                    0\n",
            "NUMERO_HIJOS                                                    0\n",
            "TRABAJA                                                         0\n",
            "SOSTEN_ECONOMICO                                                0\n",
            "INTERNET                                                        0\n",
            "INTERNET_LUGAR                                                  0\n",
            "EQUIPO_COMPUTO                                                  0\n",
            "EQUIPO_COMPUTO_DESC                                             0\n",
            "EXPERIENCIA_MODALIDAD                                           0\n",
            "MODALIDAD_ESTUDIOS_BACHILLERATO                                 0\n",
            "PROMEDIO_BACHILLERATO                                           0\n",
            "HORAS_ESTUDIO_SEMANA                                            0\n",
            "DISCAPACIDAD                                                    0\n",
            "PERIODO_ESCOLAR                                                 0\n",
            "ASIGNATURA                         Actos y sociedades mercantiles\n",
            "SEMESTRE                                              4.74251e-07\n",
            "CALIFICACION                                          6.50329e-07\n",
            "TIPO_CALIFICACIÓN                                               0\n",
            "dtype: object\n",
            "Max: \n",
            " PROGRAMA_EDUCATIVO                          TSU en Urgencias Médicas\n",
            "DIVISION                                                 1.91908e-06\n",
            "NIVEL_EDUCATIVO                                          3.36293e-05\n",
            "SEXO                                                     1.97795e-06\n",
            "EDAD                                                     3.37096e-06\n",
            "ESTADO_CIVIL                                             3.19552e-06\n",
            "NUMERO_HIJOS                                             1.05422e-05\n",
            "TRABAJA                                                  1.39241e-06\n",
            "SOSTEN_ECONOMICO                                         1.15658e-06\n",
            "INTERNET                                                  1.0629e-06\n",
            "INTERNET_LUGAR                                           1.62633e-05\n",
            "EQUIPO_COMPUTO                                            1.0837e-06\n",
            "EQUIPO_COMPUTO_DESC                                      3.71171e-06\n",
            "EXPERIENCIA_MODALIDAD                                    2.98458e-06\n",
            "MODALIDAD_ESTUDIOS_BACHILLERATO                          1.79602e-06\n",
            "PROMEDIO_BACHILLERATO                                    1.93997e-06\n",
            "HORAS_ESTUDIO_SEMANA                                     4.09104e-06\n",
            "DISCAPACIDAD                                             4.78583e-05\n",
            "PERIODO_ESCOLAR                                           2.7483e-06\n",
            "ASIGNATURA                         Óptica, electricidad y magnetismo\n",
            "SEMESTRE                                                 3.79401e-06\n",
            "CALIFICACION                                             1.30066e-06\n",
            "TIPO_CALIFICACIÓN                                        1.07524e-06\n",
            "dtype: object\n"
          ]
        }
      ]
    },
    {
      "cell_type": "code",
      "metadata": {
        "colab": {
          "base_uri": "https://localhost:8080/"
        },
        "id": "hnYLhHm5bviW",
        "outputId": "aa2576bb-6744-47ad-a4a2-bff7c19e67fd"
      },
      "source": [
        "# Excerpts \n",
        "print('Cumsum: \\n',binder[\"DISCAPACIDAD\"].cumsum().head())\n",
        "print('Diff: \\n',binder[\"DISCAPACIDAD\"].diff().tail())"
      ],
      "execution_count": 87,
      "outputs": [
        {
          "output_type": "stream",
          "name": "stdout",
          "text": [
            "Cumsum: \n",
            " 0    0.0\n",
            "1    0.0\n",
            "2    0.0\n",
            "3    0.0\n",
            "4    0.0\n",
            "Name: DISCAPACIDAD, dtype: float64\n",
            "Diff: \n",
            " 44899    0.0\n",
            "44900    0.0\n",
            "44901    0.0\n",
            "44902    0.0\n",
            "44903    0.0\n",
            "Name: DISCAPACIDAD, dtype: float64\n"
          ]
        }
      ]
    },
    {
      "cell_type": "code",
      "metadata": {
        "colab": {
          "base_uri": "https://localhost:8080/",
          "height": 192
        },
        "id": "mV442Fo3coz3",
        "outputId": "6ed0f448-0487-4067-a4ce-bf2651f16cf0"
      },
      "source": [
        "# Feature means by class\n",
        "binder.groupby(by = \"DISCAPACIDAD\").mean()"
      ],
      "execution_count": 88,
      "outputs": [
        {
          "output_type": "execute_result",
          "data": {
            "text/html": [
              "<div>\n",
              "<style scoped>\n",
              "    .dataframe tbody tr th:only-of-type {\n",
              "        vertical-align: middle;\n",
              "    }\n",
              "\n",
              "    .dataframe tbody tr th {\n",
              "        vertical-align: top;\n",
              "    }\n",
              "\n",
              "    .dataframe thead th {\n",
              "        text-align: right;\n",
              "    }\n",
              "</style>\n",
              "<table border=\"1\" class=\"dataframe\">\n",
              "  <thead>\n",
              "    <tr style=\"text-align: right;\">\n",
              "      <th></th>\n",
              "      <th>DIVISION</th>\n",
              "      <th>NIVEL_EDUCATIVO</th>\n",
              "      <th>SEXO</th>\n",
              "      <th>EDAD</th>\n",
              "      <th>ESTADO_CIVIL</th>\n",
              "      <th>NUMERO_HIJOS</th>\n",
              "      <th>TRABAJA</th>\n",
              "      <th>SOSTEN_ECONOMICO</th>\n",
              "      <th>INTERNET</th>\n",
              "      <th>INTERNET_LUGAR</th>\n",
              "      <th>EQUIPO_COMPUTO</th>\n",
              "      <th>EQUIPO_COMPUTO_DESC</th>\n",
              "      <th>EXPERIENCIA_MODALIDAD</th>\n",
              "      <th>MODALIDAD_ESTUDIOS_BACHILLERATO</th>\n",
              "      <th>PROMEDIO_BACHILLERATO</th>\n",
              "      <th>HORAS_ESTUDIO_SEMANA</th>\n",
              "      <th>PERIODO_ESCOLAR</th>\n",
              "      <th>SEMESTRE</th>\n",
              "      <th>CALIFICACION</th>\n",
              "      <th>TIPO_CALIFICACIÓN</th>\n",
              "    </tr>\n",
              "    <tr>\n",
              "      <th>DISCAPACIDAD</th>\n",
              "      <th></th>\n",
              "      <th></th>\n",
              "      <th></th>\n",
              "      <th></th>\n",
              "      <th></th>\n",
              "      <th></th>\n",
              "      <th></th>\n",
              "      <th></th>\n",
              "      <th></th>\n",
              "      <th></th>\n",
              "      <th></th>\n",
              "      <th></th>\n",
              "      <th></th>\n",
              "      <th></th>\n",
              "      <th></th>\n",
              "      <th></th>\n",
              "      <th></th>\n",
              "      <th></th>\n",
              "      <th></th>\n",
              "      <th></th>\n",
              "    </tr>\n",
              "  </thead>\n",
              "  <tbody>\n",
              "    <tr>\n",
              "      <th>0.000000</th>\n",
              "      <td>0.000001</td>\n",
              "      <td>1.078367e-06</td>\n",
              "      <td>1.068457e-06</td>\n",
              "      <td>0.000001</td>\n",
              "      <td>0.000001</td>\n",
              "      <td>1.067448e-06</td>\n",
              "      <td>0.000001</td>\n",
              "      <td>0.000001</td>\n",
              "      <td>0.000001</td>\n",
              "      <td>0.000001</td>\n",
              "      <td>0.000001</td>\n",
              "      <td>1.066962e-06</td>\n",
              "      <td>1.062539e-06</td>\n",
              "      <td>0.000001</td>\n",
              "      <td>0.000001</td>\n",
              "      <td>1.063158e-06</td>\n",
              "      <td>0.000001</td>\n",
              "      <td>0.000001</td>\n",
              "      <td>0.000001</td>\n",
              "      <td>0.000001</td>\n",
              "    </tr>\n",
              "    <tr>\n",
              "      <th>0.000048</th>\n",
              "      <td>0.000001</td>\n",
              "      <td>2.703861e-07</td>\n",
              "      <td>7.076872e-07</td>\n",
              "      <td>0.000001</td>\n",
              "      <td>0.000001</td>\n",
              "      <td>7.522564e-07</td>\n",
              "      <td>0.000001</td>\n",
              "      <td>0.000001</td>\n",
              "      <td>0.000001</td>\n",
              "      <td>0.000001</td>\n",
              "      <td>0.000001</td>\n",
              "      <td>7.736776e-07</td>\n",
              "      <td>9.688652e-07</td>\n",
              "      <td>0.000001</td>\n",
              "      <td>0.000001</td>\n",
              "      <td>9.415564e-07</td>\n",
              "      <td>0.000001</td>\n",
              "      <td>0.000001</td>\n",
              "      <td>0.000001</td>\n",
              "      <td>0.000001</td>\n",
              "    </tr>\n",
              "  </tbody>\n",
              "</table>\n",
              "</div>"
            ],
            "text/plain": [
              "              DIVISION  NIVEL_EDUCATIVO  ...  CALIFICACION  TIPO_CALIFICACIÓN\n",
              "DISCAPACIDAD                             ...                                 \n",
              "0.000000      0.000001     1.078367e-06  ...      0.000001           0.000001\n",
              "0.000048      0.000001     2.703861e-07  ...      0.000001           0.000001\n",
              "\n",
              "[2 rows x 20 columns]"
            ]
          },
          "metadata": {},
          "execution_count": 88
        }
      ]
    },
    {
      "cell_type": "code",
      "metadata": {
        "colab": {
          "base_uri": "https://localhost:8080/",
          "height": 192
        },
        "id": "NthLDMHLcwaV",
        "outputId": "c5a49972-3986-4984-890c-00ad3caaf138"
      },
      "source": [
        "# Radial position mean \n",
        "binder.groupby(by = \"DISCAPACIDAD\").mean().tail()"
      ],
      "execution_count": 89,
      "outputs": [
        {
          "output_type": "execute_result",
          "data": {
            "text/html": [
              "<div>\n",
              "<style scoped>\n",
              "    .dataframe tbody tr th:only-of-type {\n",
              "        vertical-align: middle;\n",
              "    }\n",
              "\n",
              "    .dataframe tbody tr th {\n",
              "        vertical-align: top;\n",
              "    }\n",
              "\n",
              "    .dataframe thead th {\n",
              "        text-align: right;\n",
              "    }\n",
              "</style>\n",
              "<table border=\"1\" class=\"dataframe\">\n",
              "  <thead>\n",
              "    <tr style=\"text-align: right;\">\n",
              "      <th></th>\n",
              "      <th>DIVISION</th>\n",
              "      <th>NIVEL_EDUCATIVO</th>\n",
              "      <th>SEXO</th>\n",
              "      <th>EDAD</th>\n",
              "      <th>ESTADO_CIVIL</th>\n",
              "      <th>NUMERO_HIJOS</th>\n",
              "      <th>TRABAJA</th>\n",
              "      <th>SOSTEN_ECONOMICO</th>\n",
              "      <th>INTERNET</th>\n",
              "      <th>INTERNET_LUGAR</th>\n",
              "      <th>EQUIPO_COMPUTO</th>\n",
              "      <th>EQUIPO_COMPUTO_DESC</th>\n",
              "      <th>EXPERIENCIA_MODALIDAD</th>\n",
              "      <th>MODALIDAD_ESTUDIOS_BACHILLERATO</th>\n",
              "      <th>PROMEDIO_BACHILLERATO</th>\n",
              "      <th>HORAS_ESTUDIO_SEMANA</th>\n",
              "      <th>PERIODO_ESCOLAR</th>\n",
              "      <th>SEMESTRE</th>\n",
              "      <th>CALIFICACION</th>\n",
              "      <th>TIPO_CALIFICACIÓN</th>\n",
              "    </tr>\n",
              "    <tr>\n",
              "      <th>DISCAPACIDAD</th>\n",
              "      <th></th>\n",
              "      <th></th>\n",
              "      <th></th>\n",
              "      <th></th>\n",
              "      <th></th>\n",
              "      <th></th>\n",
              "      <th></th>\n",
              "      <th></th>\n",
              "      <th></th>\n",
              "      <th></th>\n",
              "      <th></th>\n",
              "      <th></th>\n",
              "      <th></th>\n",
              "      <th></th>\n",
              "      <th></th>\n",
              "      <th></th>\n",
              "      <th></th>\n",
              "      <th></th>\n",
              "      <th></th>\n",
              "      <th></th>\n",
              "    </tr>\n",
              "  </thead>\n",
              "  <tbody>\n",
              "    <tr>\n",
              "      <th>0.000000</th>\n",
              "      <td>0.000001</td>\n",
              "      <td>1.078367e-06</td>\n",
              "      <td>1.068457e-06</td>\n",
              "      <td>0.000001</td>\n",
              "      <td>0.000001</td>\n",
              "      <td>1.067448e-06</td>\n",
              "      <td>0.000001</td>\n",
              "      <td>0.000001</td>\n",
              "      <td>0.000001</td>\n",
              "      <td>0.000001</td>\n",
              "      <td>0.000001</td>\n",
              "      <td>1.066962e-06</td>\n",
              "      <td>1.062539e-06</td>\n",
              "      <td>0.000001</td>\n",
              "      <td>0.000001</td>\n",
              "      <td>1.063158e-06</td>\n",
              "      <td>0.000001</td>\n",
              "      <td>0.000001</td>\n",
              "      <td>0.000001</td>\n",
              "      <td>0.000001</td>\n",
              "    </tr>\n",
              "    <tr>\n",
              "      <th>0.000048</th>\n",
              "      <td>0.000001</td>\n",
              "      <td>2.703861e-07</td>\n",
              "      <td>7.076872e-07</td>\n",
              "      <td>0.000001</td>\n",
              "      <td>0.000001</td>\n",
              "      <td>7.522564e-07</td>\n",
              "      <td>0.000001</td>\n",
              "      <td>0.000001</td>\n",
              "      <td>0.000001</td>\n",
              "      <td>0.000001</td>\n",
              "      <td>0.000001</td>\n",
              "      <td>7.736776e-07</td>\n",
              "      <td>9.688652e-07</td>\n",
              "      <td>0.000001</td>\n",
              "      <td>0.000001</td>\n",
              "      <td>9.415564e-07</td>\n",
              "      <td>0.000001</td>\n",
              "      <td>0.000001</td>\n",
              "      <td>0.000001</td>\n",
              "      <td>0.000001</td>\n",
              "    </tr>\n",
              "  </tbody>\n",
              "</table>\n",
              "</div>"
            ],
            "text/plain": [
              "              DIVISION  NIVEL_EDUCATIVO  ...  CALIFICACION  TIPO_CALIFICACIÓN\n",
              "DISCAPACIDAD                             ...                                 \n",
              "0.000000      0.000001     1.078367e-06  ...      0.000001           0.000001\n",
              "0.000048      0.000001     2.703861e-07  ...      0.000001           0.000001\n",
              "\n",
              "[2 rows x 20 columns]"
            ]
          },
          "metadata": {},
          "execution_count": 89
        }
      ]
    },
    {
      "cell_type": "code",
      "metadata": {
        "colab": {
          "base_uri": "https://localhost:8080/",
          "height": 192
        },
        "id": "V86rxrtfc-Ed",
        "outputId": "b14d8d50-9ce6-4b4e-9e3a-5b72f249b7ee"
      },
      "source": [
        "binder.groupby(by = binder.columns[2]).mean().head()"
      ],
      "execution_count": 90,
      "outputs": [
        {
          "output_type": "execute_result",
          "data": {
            "text/html": [
              "<div>\n",
              "<style scoped>\n",
              "    .dataframe tbody tr th:only-of-type {\n",
              "        vertical-align: middle;\n",
              "    }\n",
              "\n",
              "    .dataframe tbody tr th {\n",
              "        vertical-align: top;\n",
              "    }\n",
              "\n",
              "    .dataframe thead th {\n",
              "        text-align: right;\n",
              "    }\n",
              "</style>\n",
              "<table border=\"1\" class=\"dataframe\">\n",
              "  <thead>\n",
              "    <tr style=\"text-align: right;\">\n",
              "      <th></th>\n",
              "      <th>DIVISION</th>\n",
              "      <th>SEXO</th>\n",
              "      <th>EDAD</th>\n",
              "      <th>ESTADO_CIVIL</th>\n",
              "      <th>NUMERO_HIJOS</th>\n",
              "      <th>TRABAJA</th>\n",
              "      <th>SOSTEN_ECONOMICO</th>\n",
              "      <th>INTERNET</th>\n",
              "      <th>INTERNET_LUGAR</th>\n",
              "      <th>EQUIPO_COMPUTO</th>\n",
              "      <th>EQUIPO_COMPUTO_DESC</th>\n",
              "      <th>EXPERIENCIA_MODALIDAD</th>\n",
              "      <th>MODALIDAD_ESTUDIOS_BACHILLERATO</th>\n",
              "      <th>PROMEDIO_BACHILLERATO</th>\n",
              "      <th>HORAS_ESTUDIO_SEMANA</th>\n",
              "      <th>DISCAPACIDAD</th>\n",
              "      <th>PERIODO_ESCOLAR</th>\n",
              "      <th>SEMESTRE</th>\n",
              "      <th>CALIFICACION</th>\n",
              "      <th>TIPO_CALIFICACIÓN</th>\n",
              "    </tr>\n",
              "    <tr>\n",
              "      <th>NIVEL_EDUCATIVO</th>\n",
              "      <th></th>\n",
              "      <th></th>\n",
              "      <th></th>\n",
              "      <th></th>\n",
              "      <th></th>\n",
              "      <th></th>\n",
              "      <th></th>\n",
              "      <th></th>\n",
              "      <th></th>\n",
              "      <th></th>\n",
              "      <th></th>\n",
              "      <th></th>\n",
              "      <th></th>\n",
              "      <th></th>\n",
              "      <th></th>\n",
              "      <th></th>\n",
              "      <th></th>\n",
              "      <th></th>\n",
              "      <th></th>\n",
              "      <th></th>\n",
              "    </tr>\n",
              "  </thead>\n",
              "  <tbody>\n",
              "    <tr>\n",
              "      <th>0.000000</th>\n",
              "      <td>0.000001</td>\n",
              "      <td>1.070387e-06</td>\n",
              "      <td>1.063018e-06</td>\n",
              "      <td>0.000001</td>\n",
              "      <td>0.000001</td>\n",
              "      <td>0.000001</td>\n",
              "      <td>0.000001</td>\n",
              "      <td>0.000001</td>\n",
              "      <td>1.072928e-06</td>\n",
              "      <td>0.000001</td>\n",
              "      <td>1.066861e-06</td>\n",
              "      <td>0.000001</td>\n",
              "      <td>0.000001</td>\n",
              "      <td>0.000001</td>\n",
              "      <td>0.000001</td>\n",
              "      <td>1.086189e-06</td>\n",
              "      <td>1.062747e-06</td>\n",
              "      <td>1.064120e-06</td>\n",
              "      <td>0.000001</td>\n",
              "      <td>0.000001</td>\n",
              "    </tr>\n",
              "    <tr>\n",
              "      <th>0.000034</th>\n",
              "      <td>0.000001</td>\n",
              "      <td>7.556983e-07</td>\n",
              "      <td>9.820068e-07</td>\n",
              "      <td>0.000001</td>\n",
              "      <td>0.000001</td>\n",
              "      <td>0.000001</td>\n",
              "      <td>0.000001</td>\n",
              "      <td>0.000001</td>\n",
              "      <td>6.776390e-07</td>\n",
              "      <td>0.000001</td>\n",
              "      <td>8.639693e-07</td>\n",
              "      <td>0.000001</td>\n",
              "      <td>0.000001</td>\n",
              "      <td>0.000001</td>\n",
              "      <td>0.000001</td>\n",
              "      <td>2.703861e-07</td>\n",
              "      <td>9.903378e-07</td>\n",
              "      <td>9.481667e-07</td>\n",
              "      <td>0.000001</td>\n",
              "      <td>0.000001</td>\n",
              "    </tr>\n",
              "  </tbody>\n",
              "</table>\n",
              "</div>"
            ],
            "text/plain": [
              "                 DIVISION          SEXO  ...  CALIFICACION  TIPO_CALIFICACIÓN\n",
              "NIVEL_EDUCATIVO                          ...                                 \n",
              "0.000000         0.000001  1.070387e-06  ...      0.000001           0.000001\n",
              "0.000034         0.000001  7.556983e-07  ...      0.000001           0.000001\n",
              "\n",
              "[2 rows x 20 columns]"
            ]
          },
          "metadata": {},
          "execution_count": 90
        }
      ]
    },
    {
      "cell_type": "code",
      "metadata": {
        "colab": {
          "base_uri": "https://localhost:8080/",
          "height": 522
        },
        "id": "IsP1RZrodEfG",
        "outputId": "f93d61ab-8eea-4092-fb37-7bc881a295b6"
      },
      "source": [
        "binder.groupby(by = \"DISCAPACIDAD\").min().plot(kind=\"bar\")"
      ],
      "execution_count": 91,
      "outputs": [
        {
          "output_type": "execute_result",
          "data": {
            "text/plain": [
              "<matplotlib.axes._subplots.AxesSubplot at 0x7ff5ce9364d0>"
            ]
          },
          "metadata": {},
          "execution_count": 91
        },
        {
          "output_type": "display_data",
          "data": {
            "image/png": "[encoded data removed]",
            "text/plain": [
              "<Figure size 432x288 with 1 Axes>"
            ]
          },
          "metadata": {
            "needs_background": "light"
          }
        }
      ]
    },
    {
      "cell_type": "code",
      "metadata": {
        "colab": {
          "base_uri": "https://localhost:8080/",
          "height": 263
        },
        "id": "foO_CTeLdcsf",
        "outputId": "c319d0e1-2cc9-4a59-df61-c07260c4833b"
      },
      "source": [
        "import matplotlib.pyplot as plt\n",
        "\n",
        "class_series = binder.groupby('DISCAPACIDAD').size()\n",
        "class_series.name = ''\n",
        "class_series.plot.pie(autopct='%.2f')"
      ],
      "execution_count": 92,
      "outputs": [
        {
          "output_type": "execute_result",
          "data": {
            "text/plain": [
              "<matplotlib.axes._subplots.AxesSubplot at 0x7ff5ce6743d0>"
            ]
          },
          "metadata": {},
          "execution_count": 92
        },
        {
          "output_type": "display_data",
          "data": {
            "image/png": "[encoded data removed]",
            "text/plain": [
              "<Figure size 432x288 with 1 Axes>"
            ]
          },
          "metadata": {}
        }
      ]
    },
    {
      "cell_type": "code",
      "metadata": {
        "colab": {
          "base_uri": "https://localhost:8080/",
          "height": 394
        },
        "id": "jWFyCSkCdjjX",
        "outputId": "db7134e0-4751-4457-a741-051ee6226c3f"
      },
      "source": [
        "# uni-variate\n",
        "binder.plot()"
      ],
      "execution_count": 94,
      "outputs": [
        {
          "output_type": "execute_result",
          "data": {
            "text/plain": [
              "<matplotlib.axes._subplots.AxesSubplot at 0x7ff5ce358210>"
            ]
          },
          "metadata": {},
          "execution_count": 94
        },
        {
          "output_type": "display_data",
          "data": {
            "image/png": "[encoded data removed]",
            "text/plain": [
              "<Figure size 432x288 with 1 Axes>"
            ]
          },
          "metadata": {
            "needs_background": "light"
          }
        }
      ]
    },
    {
      "cell_type": "code",
      "metadata": {
        "colab": {
          "base_uri": "https://localhost:8080/",
          "height": 305
        },
        "id": "0IULZI59fVAv",
        "outputId": "abad65f4-983d-41d9-ac4d-08f0f2b58612"
      },
      "source": [
        "# bi-variate \n",
        "binder.plot(kind=\"scatter\", x=\"SEXO\", y=\"DIVISION\")"
      ],
      "execution_count": 99,
      "outputs": [
        {
          "output_type": "execute_result",
          "data": {
            "text/plain": [
              "<matplotlib.axes._subplots.AxesSubplot at 0x7ff5ce0d5210>"
            ]
          },
          "metadata": {},
          "execution_count": 99
        },
        {
          "output_type": "display_data",
          "data": {
            "image/png": "[encoded data removed]",
            "text/plain": [
              "<Figure size 432x288 with 1 Axes>"
            ]
          },
          "metadata": {
            "needs_background": "light"
          }
        }
      ]
    },
    {
      "cell_type": "code",
      "metadata": {
        "colab": {
          "base_uri": "https://localhost:8080/",
          "height": 468
        },
        "id": "gtVNLsMgffH1",
        "outputId": "13f945d1-8d16-41e1-f3c2-791805964926"
      },
      "source": [
        "# total correlation (itself)\n",
        "binder.plot(kind=\"scatter\", x=\"SEXO\", y=\"DIVISION\",figsize=(15, 7))"
      ],
      "execution_count": 100,
      "outputs": [
        {
          "output_type": "execute_result",
          "data": {
            "text/plain": [
              "<matplotlib.axes._subplots.AxesSubplot at 0x7ff5cdfce210>"
            ]
          },
          "metadata": {},
          "execution_count": 100
        },
        {
          "output_type": "display_data",
          "data": {
            "image/png": "[encoded data removed]",
            "text/plain": [
              "<Figure size 1080x504 with 1 Axes>"
            ]
          },
          "metadata": {
            "needs_background": "light"
          }
        }
      ]
    },
    {
      "cell_type": "code",
      "metadata": {
        "colab": {
          "base_uri": "https://localhost:8080/",
          "height": 305
        },
        "id": "kdLEAgvaflMR",
        "outputId": "a3335f46-4e3b-4f12-b90b-bb18b633d13e"
      },
      "source": [
        "binder.plot(kind=\"scatter\", x=\"SEXO\", y=\"DIVISION\")"
      ],
      "execution_count": 101,
      "outputs": [
        {
          "output_type": "execute_result",
          "data": {
            "text/plain": [
              "<matplotlib.axes._subplots.AxesSubplot at 0x7ff5cdf450d0>"
            ]
          },
          "metadata": {},
          "execution_count": 101
        },
        {
          "output_type": "display_data",
          "data": {
            "image/png": "[encoded data removed]",
            "text/plain": [
              "<Figure size 432x288 with 1 Axes>"
            ]
          },
          "metadata": {
            "needs_background": "light"
          }
        }
      ]
    },
    {
      "cell_type": "code",
      "metadata": {
        "colab": {
          "base_uri": "https://localhost:8080/",
          "height": 344
        },
        "id": "0hAf9_EOf0H9",
        "outputId": "38fcf04c-ee30-41ab-9082-5b4633c0b03b"
      },
      "source": [
        "# vs distribution\n",
        "binder[\"SEXO\"].hist()\n",
        "binder[\"DIVISION\"].value_counts()"
      ],
      "execution_count": 104,
      "outputs": [
        {
          "output_type": "execute_result",
          "data": {
            "text/plain": [
              "9.595391e-07    23869\n",
              "1.919078e-06    12879\n",
              "0.000000e+00     8156\n",
              "Name: DIVISION, dtype: int64"
            ]
          },
          "metadata": {},
          "execution_count": 104
        },
        {
          "output_type": "display_data",
          "data": {
            "image/png": "[encoded data removed]",
            "text/plain": [
              "<Figure size 432x288 with 1 Axes>"
            ]
          },
          "metadata": {
            "needs_background": "light"
          }
        }
      ]
    },
    {
      "cell_type": "code",
      "metadata": {
        "colab": {
          "base_uri": "https://localhost:8080/",
          "height": 283
        },
        "id": "fsbqGu-vf3xs",
        "outputId": "fb769815-60fe-4bd9-bf5d-e8a6e946ce6a"
      },
      "source": [
        "# spot outliers\n",
        "galaxy.boxplot()     "
      ],
      "execution_count": 105,
      "outputs": [
        {
          "output_type": "execute_result",
          "data": {
            "text/plain": [
              "<matplotlib.axes._subplots.AxesSubplot at 0x7ff5cdee4c10>"
            ]
          },
          "metadata": {},
          "execution_count": 105
        },
        {
          "output_type": "display_data",
          "data": {
            "image/png": "[encoded data removed]",
            "text/plain": [
              "<Figure size 432x288 with 1 Axes>"
            ]
          },
          "metadata": {
            "needs_background": "light"
          }
        }
      ]
    },
    {
      "cell_type": "code",
      "metadata": {
        "colab": {
          "base_uri": "https://localhost:8080/",
          "height": 1000
        },
        "id": "gfmScAYahcEw",
        "outputId": "4057ffed-9a4b-4a9e-8ac0-8b0f1c6e6703"
      },
      "source": [
        "from pandas.plotting import scatter_matrix\n",
        "\n",
        "scatter_matrix(galaxy)"
      ],
      "execution_count": 106,
      "outputs": [
        {
          "output_type": "execute_result",
          "data": {
            "text/plain": [
              "array([[<matplotlib.axes._subplots.AxesSubplot object at 0x7ff5cdbcb250>,\n",
              "        <matplotlib.axes._subplots.AxesSubplot object at 0x7ff5cdb7c510>,\n",
              "        <matplotlib.axes._subplots.AxesSubplot object at 0x7ff5cdbb0950>,\n",
              "        <matplotlib.axes._subplots.AxesSubplot object at 0x7ff5cdb67e50>,\n",
              "        <matplotlib.axes._subplots.AxesSubplot object at 0x7ff5cdb29390>,\n",
              "        <matplotlib.axes._subplots.AxesSubplot object at 0x7ff5cdade890>,\n",
              "        <matplotlib.axes._subplots.AxesSubplot object at 0x7ff5cda93e10>,\n",
              "        <matplotlib.axes._subplots.AxesSubplot object at 0x7ff5cda57290>,\n",
              "        <matplotlib.axes._subplots.AxesSubplot object at 0x7ff5cda572d0>,\n",
              "        <matplotlib.axes._subplots.AxesSubplot object at 0x7ff5cda0c8d0>,\n",
              "        <matplotlib.axes._subplots.AxesSubplot object at 0x7ff5cd987210>,\n",
              "        <matplotlib.axes._subplots.AxesSubplot object at 0x7ff5cd93d710>,\n",
              "        <matplotlib.axes._subplots.AxesSubplot object at 0x7ff5cd972c10>,\n",
              "        <matplotlib.axes._subplots.AxesSubplot object at 0x7ff5cd934150>,\n",
              "        <matplotlib.axes._subplots.AxesSubplot object at 0x7ff5cd8eb650>,\n",
              "        <matplotlib.axes._subplots.AxesSubplot object at 0x7ff5cd89fb50>,\n",
              "        <matplotlib.axes._subplots.AxesSubplot object at 0x7ff5cd84ab90>,\n",
              "        <matplotlib.axes._subplots.AxesSubplot object at 0x7ff5ce6712d0>,\n",
              "        <matplotlib.axes._subplots.AxesSubplot object at 0x7ff5ce2af0d0>,\n",
              "        <matplotlib.axes._subplots.AxesSubplot object at 0x7ff5ce1cf510>,\n",
              "        <matplotlib.axes._subplots.AxesSubplot object at 0x7ff5ce4ca4d0>],\n",
              "       [<matplotlib.axes._subplots.AxesSubplot object at 0x7ff5cdef5f10>,\n",
              "        <matplotlib.axes._subplots.AxesSubplot object at 0x7ff5ce30b7d0>,\n",
              "        <matplotlib.axes._subplots.AxesSubplot object at 0x7ff5ce8bb850>,\n",
              "        <matplotlib.axes._subplots.AxesSubplot object at 0x7ff5d3424cd0>,\n",
              "        <matplotlib.axes._subplots.AxesSubplot object at 0x7ff5d632e510>,\n",
              "        <matplotlib.axes._subplots.AxesSubplot object at 0x7ff5d6454f90>,\n",
              "        <matplotlib.axes._subplots.AxesSubplot object at 0x7ff5d64c9410>,\n",
              "        <matplotlib.axes._subplots.AxesSubplot object at 0x7ff5d63b4690>,\n",
              "        <matplotlib.axes._subplots.AxesSubplot object at 0x7ff5cd81ad10>,\n",
              "        <matplotlib.axes._subplots.AxesSubplot object at 0x7ff5cd7d6350>,\n",
              "        <matplotlib.axes._subplots.AxesSubplot object at 0x7ff5cd78e950>,\n",
              "        <matplotlib.axes._subplots.AxesSubplot object at 0x7ff5cd743f50>,\n",
              "        <matplotlib.axes._subplots.AxesSubplot object at 0x7ff5cd705590>,\n",
              "        <matplotlib.axes._subplots.AxesSubplot object at 0x7ff5cd6bab90>,\n",
              "        <matplotlib.axes._subplots.AxesSubplot object at 0x7ff5cd67f1d0>,\n",
              "        <matplotlib.axes._subplots.AxesSubplot object at 0x7ff5cd6b47d0>,\n",
              "        <matplotlib.axes._subplots.AxesSubplot object at 0x7ff5cd669dd0>,\n",
              "        <matplotlib.axes._subplots.AxesSubplot object at 0x7ff5cd62d410>,\n",
              "        <matplotlib.axes._subplots.AxesSubplot object at 0x7ff5cd5e2a10>,\n",
              "        <matplotlib.axes._subplots.AxesSubplot object at 0x7ff5cd599fd0>,\n",
              "        <matplotlib.axes._subplots.AxesSubplot object at 0x7ff5cd55d650>],\n",
              "       [<matplotlib.axes._subplots.AxesSubplot object at 0x7ff5cd512c50>,\n",
              "        <matplotlib.axes._subplots.AxesSubplot object at 0x7ff5cd4d5290>,\n",
              "        <matplotlib.axes._subplots.AxesSubplot object at 0x7ff5cd48b8d0>,\n",
              "        <matplotlib.axes._subplots.AxesSubplot object at 0x7ff5cd443ed0>,\n",
              "        <matplotlib.axes._subplots.AxesSubplot object at 0x7ff5cd404510>,\n",
              "        <matplotlib.axes._subplots.AxesSubplot object at 0x7ff5cd3bf410>,\n",
              "        <matplotlib.axes._subplots.AxesSubplot object at 0x7ff5cd3f6910>,\n",
              "        <matplotlib.axes._subplots.AxesSubplot object at 0x7ff5cd3abe10>,\n",
              "        <matplotlib.axes._subplots.AxesSubplot object at 0x7ff5cd36d350>,\n",
              "        <matplotlib.axes._subplots.AxesSubplot object at 0x7ff5cd323850>,\n",
              "        <matplotlib.axes._subplots.AxesSubplot object at 0x7ff5cd2d9d50>,\n",
              "        <matplotlib.axes._subplots.AxesSubplot object at 0x7ff5cd29c290>,\n",
              "        <matplotlib.axes._subplots.AxesSubplot object at 0x7ff5cd251790>,\n",
              "        <matplotlib.axes._subplots.AxesSubplot object at 0x7ff5cd209c90>,\n",
              "        <matplotlib.axes._subplots.AxesSubplot object at 0x7ff5cd1cc1d0>,\n",
              "        <matplotlib.axes._subplots.AxesSubplot object at 0x7ff5cd1806d0>,\n",
              "        <matplotlib.axes._subplots.AxesSubplot object at 0x7ff5cd1b6bd0>,\n",
              "        <matplotlib.axes._subplots.AxesSubplot object at 0x7ff5cd0fa110>,\n",
              "        <matplotlib.axes._subplots.AxesSubplot object at 0x7ff5cd130610>,\n",
              "        <matplotlib.axes._subplots.AxesSubplot object at 0x7ff5cd0e8b10>,\n",
              "        <matplotlib.axes._subplots.AxesSubplot object at 0x7ff5cd09cfd0>],\n",
              "       [<matplotlib.axes._subplots.AxesSubplot object at 0x7ff5cd05f550>,\n",
              "        <matplotlib.axes._subplots.AxesSubplot object at 0x7ff5cd015a50>,\n",
              "        <matplotlib.axes._subplots.AxesSubplot object at 0x7ff5ccfccf50>,\n",
              "        <matplotlib.axes._subplots.AxesSubplot object at 0x7ff5ccf8e490>,\n",
              "        <matplotlib.axes._subplots.AxesSubplot object at 0x7ff5ccf43990>,\n",
              "        <matplotlib.axes._subplots.AxesSubplot object at 0x7ff5ccefbe90>,\n",
              "        <matplotlib.axes._subplots.AxesSubplot object at 0x7ff5ccebd3d0>,\n",
              "        <matplotlib.axes._subplots.AxesSubplot object at 0x7ff5ccef08d0>,\n",
              "        <matplotlib.axes._subplots.AxesSubplot object at 0x7ff5ccea7dd0>,\n",
              "        <matplotlib.axes._subplots.AxesSubplot object at 0x7ff5cce6b310>,\n",
              "        <matplotlib.axes._subplots.AxesSubplot object at 0x7ff5cce22810>,\n",
              "        <matplotlib.axes._subplots.AxesSubplot object at 0x7ff5ccdd8d10>,\n",
              "        <matplotlib.axes._subplots.AxesSubplot object at 0x7ff5ccd9a250>,\n",
              "        <matplotlib.axes._subplots.AxesSubplot object at 0x7ff5ccd4f750>,\n",
              "        <matplotlib.axes._subplots.AxesSubplot object at 0x7ff5ccd04c50>,\n",
              "        <matplotlib.axes._subplots.AxesSubplot object at 0x7ff5cccc9190>,\n",
              "        <matplotlib.axes._subplots.AxesSubplot object at 0x7ff5ccc7e690>,\n",
              "        <matplotlib.axes._subplots.AxesSubplot object at 0x7ff5cccb5b90>,\n",
              "        <matplotlib.axes._subplots.AxesSubplot object at 0x7ff5ccbf90d0>,\n",
              "        <matplotlib.axes._subplots.AxesSubplot object at 0x7ff5ccc305d0>,\n",
              "        <matplotlib.axes._subplots.AxesSubplot object at 0x7ff5ccbe3ad0>],\n",
              "       [<matplotlib.axes._subplots.AxesSubplot object at 0x7ff5ccb90b10>,\n",
              "        <matplotlib.axes._subplots.AxesSubplot object at 0x7ff5ccb5d510>,\n",
              "        <matplotlib.axes._subplots.AxesSubplot object at 0x7ff5ccb13a10>,\n",
              "        <matplotlib.axes._subplots.AxesSubplot object at 0x7ff5ccac9f10>,\n",
              "        <matplotlib.axes._subplots.AxesSubplot object at 0x7ff5cca8c450>,\n",
              "        <matplotlib.axes._subplots.AxesSubplot object at 0x7ff5cca41950>,\n",
              "        <matplotlib.axes._subplots.AxesSubplot object at 0x7ff5cc9f8e50>,\n",
              "        <matplotlib.axes._subplots.AxesSubplot object at 0x7ff5cc9ba390>,\n",
              "        <matplotlib.axes._subplots.AxesSubplot object at 0x7ff5cc9f0890>,\n",
              "        <matplotlib.axes._subplots.AxesSubplot object at 0x7ff5cc9a6d90>,\n",
              "        <matplotlib.axes._subplots.AxesSubplot object at 0x7ff5cc9692d0>,\n",
              "        <matplotlib.axes._subplots.AxesSubplot object at 0x7ff5cc9207d0>,\n",
              "        <matplotlib.axes._subplots.AxesSubplot object at 0x7ff5cc8d7cd0>,\n",
              "        <matplotlib.axes._subplots.AxesSubplot object at 0x7ff5cc898210>,\n",
              "        <matplotlib.axes._subplots.AxesSubplot object at 0x7ff5cc8559d0>,\n",
              "        <matplotlib.axes._subplots.AxesSubplot object at 0x7ff5cc80dc50>,\n",
              "        <matplotlib.axes._subplots.AxesSubplot object at 0x7ff5cc7d0150>,\n",
              "        <matplotlib.axes._subplots.AxesSubplot object at 0x7ff5cc787650>,\n",
              "        <matplotlib.axes._subplots.AxesSubplot object at 0x7ff5cc73bb50>,\n",
              "        <matplotlib.axes._subplots.AxesSubplot object at 0x7ff5cc6ff0d0>,\n",
              "        <matplotlib.axes._subplots.AxesSubplot object at 0x7ff5cc7355d0>],\n",
              "       [<matplotlib.axes._subplots.AxesSubplot object at 0x7ff5cc6eaad0>,\n",
              "        <matplotlib.axes._subplots.AxesSubplot object at 0x7ff5cc696b10>,\n",
              "        <matplotlib.axes._subplots.AxesSubplot object at 0x7ff5cc663510>,\n",
              "        <matplotlib.axes._subplots.AxesSubplot object at 0x7ff5cc61aa10>,\n",
              "        <matplotlib.axes._subplots.AxesSubplot object at 0x7ff5cc5d1f10>,\n",
              "        <matplotlib.axes._subplots.AxesSubplot object at 0x7ff5cc593450>,\n",
              "        <matplotlib.axes._subplots.AxesSubplot object at 0x7ff5cc548950>,\n",
              "        <matplotlib.axes._subplots.AxesSubplot object at 0x7ff5cc4ffe50>,\n",
              "        <matplotlib.axes._subplots.AxesSubplot object at 0x7ff5cc4c0390>,\n",
              "        <matplotlib.axes._subplots.AxesSubplot object at 0x7ff5cc477890>,\n",
              "        <matplotlib.axes._subplots.AxesSubplot object at 0x7ff5cc4acd90>,\n",
              "        <matplotlib.axes._subplots.AxesSubplot object at 0x7ff5cc46f2d0>,\n",
              "        <matplotlib.axes._subplots.AxesSubplot object at 0x7ff5cc4267d0>,\n",
              "        <matplotlib.axes._subplots.AxesSubplot object at 0x7ff5cc3dacd0>,\n",
              "        <matplotlib.axes._subplots.AxesSubplot object at 0x7ff5cc39e210>,\n",
              "        <matplotlib.axes._subplots.AxesSubplot object at 0x7ff5cc354710>,\n",
              "        <matplotlib.axes._subplots.AxesSubplot object at 0x7ff5cc30ac10>,\n",
              "        <matplotlib.axes._subplots.AxesSubplot object at 0x7ff5cc2ce150>,\n",
              "        <matplotlib.axes._subplots.AxesSubplot object at 0x7ff5cc286650>,\n",
              "        <matplotlib.axes._subplots.AxesSubplot object at 0x7ff5cc239b50>,\n",
              "        <matplotlib.axes._subplots.AxesSubplot object at 0x7ff5cc266b90>],\n",
              "       [<matplotlib.axes._subplots.AxesSubplot object at 0x7ff5cc232590>,\n",
              "        <matplotlib.axes._subplots.AxesSubplot object at 0x7ff5cc1e8a90>,\n",
              "        <matplotlib.axes._subplots.AxesSubplot object at 0x7ff5cc19ff90>,\n",
              "        <matplotlib.axes._subplots.AxesSubplot object at 0x7ff5cc1634d0>,\n",
              "        <matplotlib.axes._subplots.AxesSubplot object at 0x7ff5cc1199d0>,\n",
              "        <matplotlib.axes._subplots.AxesSubplot object at 0x7ff5cc0cfed0>,\n",
              "        <matplotlib.axes._subplots.AxesSubplot object at 0x7ff5cc08e410>,\n",
              "        <matplotlib.axes._subplots.AxesSubplot object at 0x7ff5cc047910>,\n",
              "        <matplotlib.axes._subplots.AxesSubplot object at 0x7ff5cbffbe10>,\n",
              "        <matplotlib.axes._subplots.AxesSubplot object at 0x7ff5cbfbf350>,\n",
              "        <matplotlib.axes._subplots.AxesSubplot object at 0x7ff5cbf77850>,\n",
              "        <matplotlib.axes._subplots.AxesSubplot object at 0x7ff5cbfabd50>,\n",
              "        <matplotlib.axes._subplots.AxesSubplot object at 0x7ff5cbf6e290>,\n",
              "        <matplotlib.axes._subplots.AxesSubplot object at 0x7ff5cbf23790>,\n",
              "        <matplotlib.axes._subplots.AxesSubplot object at 0x7ff5cbedac90>,\n",
              "        <matplotlib.axes._subplots.AxesSubplot object at 0x7ff5cbe9b1d0>,\n",
              "        <matplotlib.axes._subplots.AxesSubplot object at 0x7ff5ce910590>,\n",
              "        <matplotlib.axes._subplots.AxesSubplot object at 0x7ff5cd86d750>,\n",
              "        <matplotlib.axes._subplots.AxesSubplot object at 0x7ff5cd647490>,\n",
              "        <matplotlib.axes._subplots.AxesSubplot object at 0x7ff5cd4e0f10>,\n",
              "        <matplotlib.axes._subplots.AxesSubplot object at 0x7ff5cbda2110>],\n",
              "       [<matplotlib.axes._subplots.AxesSubplot object at 0x7ff5cbd57710>,\n",
              "        <matplotlib.axes._subplots.AxesSubplot object at 0x7ff5cbd0cd10>,\n",
              "        <matplotlib.axes._subplots.AxesSubplot object at 0x7ff5cbcce350>,\n",
              "        <matplotlib.axes._subplots.AxesSubplot object at 0x7ff5cbc84950>,\n",
              "        <matplotlib.axes._subplots.AxesSubplot object at 0x7ff5cbc3bf50>,\n",
              "        <matplotlib.axes._subplots.AxesSubplot object at 0x7ff5cbbfe590>,\n",
              "        <matplotlib.axes._subplots.AxesSubplot object at 0x7ff5cbc33b90>,\n",
              "        <matplotlib.axes._subplots.AxesSubplot object at 0x7ff5cbb791d0>,\n",
              "        <matplotlib.axes._subplots.AxesSubplot object at 0x7ff5cbbae7d0>,\n",
              "        <matplotlib.axes._subplots.AxesSubplot object at 0x7ff5cbb63dd0>,\n",
              "        <matplotlib.axes._subplots.AxesSubplot object at 0x7ff5cbb27410>,\n",
              "        <matplotlib.axes._subplots.AxesSubplot object at 0x7ff5cbadea10>,\n",
              "        <matplotlib.axes._subplots.AxesSubplot object at 0x7ff5cba93fd0>,\n",
              "        <matplotlib.axes._subplots.AxesSubplot object at 0x7ff5cba58650>,\n",
              "        <matplotlib.axes._subplots.AxesSubplot object at 0x7ff5cba0ec50>,\n",
              "        <matplotlib.axes._subplots.AxesSubplot object at 0x7ff5cb9d0290>,\n",
              "        <matplotlib.axes._subplots.AxesSubplot object at 0x7ff5cb986890>,\n",
              "        <matplotlib.axes._subplots.AxesSubplot object at 0x7ff5cb93de90>,\n",
              "        <matplotlib.axes._subplots.AxesSubplot object at 0x7ff5cb9014d0>,\n",
              "        <matplotlib.axes._subplots.AxesSubplot object at 0x7ff5cb934ad0>,\n",
              "        <matplotlib.axes._subplots.AxesSubplot object at 0x7ff5cb878110>],\n",
              "       [<matplotlib.axes._subplots.AxesSubplot object at 0x7ff5cb8b0710>,\n",
              "        <matplotlib.axes._subplots.AxesSubplot object at 0x7ff5cb864d10>,\n",
              "        <matplotlib.axes._subplots.AxesSubplot object at 0x7ff5cb829350>,\n",
              "        <matplotlib.axes._subplots.AxesSubplot object at 0x7ff5cb7df950>,\n",
              "        <matplotlib.axes._subplots.AxesSubplot object at 0x7ff5cb796f50>,\n",
              "        <matplotlib.axes._subplots.AxesSubplot object at 0x7ff5cb758490>,\n",
              "        <matplotlib.axes._subplots.AxesSubplot object at 0x7ff5cb70e990>,\n",
              "        <matplotlib.axes._subplots.AxesSubplot object at 0x7ff5cb6c3e90>,\n",
              "        <matplotlib.axes._subplots.AxesSubplot object at 0x7ff5cb6873d0>,\n",
              "        <matplotlib.axes._subplots.AxesSubplot object at 0x7ff5cb63c8d0>,\n",
              "        <matplotlib.axes._subplots.AxesSubplot object at 0x7ff5cb672dd0>,\n",
              "        <matplotlib.axes._subplots.AxesSubplot object at 0x7ff5cb635310>,\n",
              "        <matplotlib.axes._subplots.AxesSubplot object at 0x7ff5cb5eb810>,\n",
              "        <matplotlib.axes._subplots.AxesSubplot object at 0x7ff5cb5a0d10>,\n",
              "        <matplotlib.axes._subplots.AxesSubplot object at 0x7ff5cb562250>,\n",
              "        <matplotlib.axes._subplots.AxesSubplot object at 0x7ff5cb519750>,\n",
              "        <matplotlib.axes._subplots.AxesSubplot object at 0x7ff5cb4d0c50>,\n",
              "        <matplotlib.axes._subplots.AxesSubplot object at 0x7ff5cb494190>,\n",
              "        <matplotlib.axes._subplots.AxesSubplot object at 0x7ff5cb44a690>,\n",
              "        <matplotlib.axes._subplots.AxesSubplot object at 0x7ff5cb400b90>,\n",
              "        <matplotlib.axes._subplots.AxesSubplot object at 0x7ff5cb3c20d0>],\n",
              "       [<matplotlib.axes._subplots.AxesSubplot object at 0x7ff5cb3785d0>,\n",
              "        <matplotlib.axes._subplots.AxesSubplot object at 0x7ff5cb3aead0>,\n",
              "        <matplotlib.axes._subplots.AxesSubplot object at 0x7ff5cb35bb10>,\n",
              "        <matplotlib.axes._subplots.AxesSubplot object at 0x7ff5cb327510>,\n",
              "        <matplotlib.axes._subplots.AxesSubplot object at 0x7ff5cb2dda10>,\n",
              "        <matplotlib.axes._subplots.AxesSubplot object at 0x7ff5cb295f10>,\n",
              "        <matplotlib.axes._subplots.AxesSubplot object at 0x7ff5cb254450>,\n",
              "        <matplotlib.axes._subplots.AxesSubplot object at 0x7ff5cb20fa50>,\n",
              "        <matplotlib.axes._subplots.AxesSubplot object at 0x7ff5cb1c7dd0>,\n",
              "        <matplotlib.axes._subplots.AxesSubplot object at 0x7ff5cb188310>,\n",
              "        <matplotlib.axes._subplots.AxesSubplot object at 0x7ff5cb13f810>,\n",
              "        <matplotlib.axes._subplots.AxesSubplot object at 0x7ff5cb176d10>,\n",
              "        <matplotlib.axes._subplots.AxesSubplot object at 0x7ff5cb0b72d0>,\n",
              "        <matplotlib.axes._subplots.AxesSubplot object at 0x7ff5cb0ec7d0>,\n",
              "        <matplotlib.axes._subplots.AxesSubplot object at 0x7ff5cb0a2cd0>,\n",
              "        <matplotlib.axes._subplots.AxesSubplot object at 0x7ff5cb063210>,\n",
              "        <matplotlib.axes._subplots.AxesSubplot object at 0x7ff5cb019710>,\n",
              "        <matplotlib.axes._subplots.AxesSubplot object at 0x7ff5cafcfc10>,\n",
              "        <matplotlib.axes._subplots.AxesSubplot object at 0x7ff5caf91150>,\n",
              "        <matplotlib.axes._subplots.AxesSubplot object at 0x7ff5caf48650>,\n",
              "        <matplotlib.axes._subplots.AxesSubplot object at 0x7ff5caefdb50>],\n",
              "       [<matplotlib.axes._subplots.AxesSubplot object at 0x7ff5caf2bb90>,\n",
              "        <matplotlib.axes._subplots.AxesSubplot object at 0x7ff5cae78590>,\n",
              "        <matplotlib.axes._subplots.AxesSubplot object at 0x7ff5caeaca90>,\n",
              "        <matplotlib.axes._subplots.AxesSubplot object at 0x7ff5cae63f90>,\n",
              "        <matplotlib.axes._subplots.AxesSubplot object at 0x7ff5cae264d0>,\n",
              "        <matplotlib.axes._subplots.AxesSubplot object at 0x7ff5caddb9d0>,\n",
              "        <matplotlib.axes._subplots.AxesSubplot object at 0x7ff5cad94ed0>,\n",
              "        <matplotlib.axes._subplots.AxesSubplot object at 0x7ff5cad56410>,\n",
              "        <matplotlib.axes._subplots.AxesSubplot object at 0x7ff5cad09910>,\n",
              "        <matplotlib.axes._subplots.AxesSubplot object at 0x7ff5cacc2e10>,\n",
              "        <matplotlib.axes._subplots.AxesSubplot object at 0x7ff5cac83350>,\n",
              "        <matplotlib.axes._subplots.AxesSubplot object at 0x7ff5cac39850>,\n",
              "        <matplotlib.axes._subplots.AxesSubplot object at 0x7ff5cac70d50>,\n",
              "        <matplotlib.axes._subplots.AxesSubplot object at 0x7ff5cac31290>,\n",
              "        <matplotlib.axes._subplots.AxesSubplot object at 0x7ff5cabea790>,\n",
              "        <matplotlib.axes._subplots.AxesSubplot object at 0x7ff5cab9dc90>,\n",
              "        <matplotlib.axes._subplots.AxesSubplot object at 0x7ff5cab611d0>,\n",
              "        <matplotlib.axes._subplots.AxesSubplot object at 0x7ff5cab186d0>,\n",
              "        <matplotlib.axes._subplots.AxesSubplot object at 0x7ff5caacdbd0>,\n",
              "        <matplotlib.axes._subplots.AxesSubplot object at 0x7ff5caa90110>,\n",
              "        <matplotlib.axes._subplots.AxesSubplot object at 0x7ff5caa46610>],\n",
              "       [<matplotlib.axes._subplots.AxesSubplot object at 0x7ff5ca9fbb10>,\n",
              "        <matplotlib.axes._subplots.AxesSubplot object at 0x7ff5caa34fd0>,\n",
              "        <matplotlib.axes._subplots.AxesSubplot object at 0x7ff5ca977550>,\n",
              "        <matplotlib.axes._subplots.AxesSubplot object at 0x7ff5ca9aca50>,\n",
              "        <matplotlib.axes._subplots.AxesSubplot object at 0x7ff5ca963f50>,\n",
              "        <matplotlib.axes._subplots.AxesSubplot object at 0x7ff5ca925490>,\n",
              "        <matplotlib.axes._subplots.AxesSubplot object at 0x7ff5ca8da990>,\n",
              "        <matplotlib.axes._subplots.AxesSubplot object at 0x7ff5ca88fe90>,\n",
              "        <matplotlib.axes._subplots.AxesSubplot object at 0x7ff5ca8513d0>,\n",
              "        <matplotlib.axes._subplots.AxesSubplot object at 0x7ff5ca80b8d0>,\n",
              "        <matplotlib.axes._subplots.AxesSubplot object at 0x7ff5ca7c1dd0>,\n",
              "        <matplotlib.axes._subplots.AxesSubplot object at 0x7ff5ca783310>,\n",
              "        <matplotlib.axes._subplots.AxesSubplot object at 0x7ff5ca739810>,\n",
              "        <matplotlib.axes._subplots.AxesSubplot object at 0x7ff5ca76fd10>,\n",
              "        <matplotlib.axes._subplots.AxesSubplot object at 0x7ff5ca72f250>,\n",
              "        <matplotlib.axes._subplots.AxesSubplot object at 0x7ff5ca6e6750>,\n",
              "        <matplotlib.axes._subplots.AxesSubplot object at 0x7ff5ca69dc50>,\n",
              "        <matplotlib.axes._subplots.AxesSubplot object at 0x7ff5ca66a310>,\n",
              "        <matplotlib.axes._subplots.AxesSubplot object at 0x7ff5ca620610>,\n",
              "        <matplotlib.axes._subplots.AxesSubplot object at 0x7ff5ca5d5b10>,\n",
              "        <matplotlib.axes._subplots.AxesSubplot object at 0x7ff5ca58dfd0>],\n",
              "       [<matplotlib.axes._subplots.AxesSubplot object at 0x7ff5ca54d550>,\n",
              "        <matplotlib.axes._subplots.AxesSubplot object at 0x7ff5ca504a50>,\n",
              "        <matplotlib.axes._subplots.AxesSubplot object at 0x7ff5ca4bbf50>,\n",
              "        <matplotlib.axes._subplots.AxesSubplot object at 0x7ff5ca47b490>,\n",
              "        <matplotlib.axes._subplots.AxesSubplot object at 0x7ff5ca4b3990>,\n",
              "        <matplotlib.axes._subplots.AxesSubplot object at 0x7ff5ca469e90>,\n",
              "        <matplotlib.axes._subplots.AxesSubplot object at 0x7ff5ca42d3d0>,\n",
              "        <matplotlib.axes._subplots.AxesSubplot object at 0x7ff5ca3e28d0>,\n",
              "        <matplotlib.axes._subplots.AxesSubplot object at 0x7ff5ca39add0>,\n",
              "        <matplotlib.axes._subplots.AxesSubplot object at 0x7ff5ca35a310>,\n",
              "        <matplotlib.axes._subplots.AxesSubplot object at 0x7ff5ca30e810>,\n",
              "        <matplotlib.axes._subplots.AxesSubplot object at 0x7ff5ca2c7d10>,\n",
              "        <matplotlib.axes._subplots.AxesSubplot object at 0x7ff5ca289250>,\n",
              "        <matplotlib.axes._subplots.AxesSubplot object at 0x7ff5ca241750>,\n",
              "        <matplotlib.axes._subplots.AxesSubplot object at 0x7ff5ca276c50>,\n",
              "        <matplotlib.axes._subplots.AxesSubplot object at 0x7ff5ca1b9190>,\n",
              "        <matplotlib.axes._subplots.AxesSubplot object at 0x7ff5ca1ef690>,\n",
              "        <matplotlib.axes._subplots.AxesSubplot object at 0x7ff5ca1a4b90>,\n",
              "        <matplotlib.axes._subplots.AxesSubplot object at 0x7ff5ca1670d0>,\n",
              "        <matplotlib.axes._subplots.AxesSubplot object at 0x7ff5ca11d5d0>,\n",
              "        <matplotlib.axes._subplots.AxesSubplot object at 0x7ff5ca0d5ad0>],\n",
              "       [<matplotlib.axes._subplots.AxesSubplot object at 0x7ff5ca082b10>,\n",
              "        <matplotlib.axes._subplots.AxesSubplot object at 0x7ff5ca04e510>,\n",
              "        <matplotlib.axes._subplots.AxesSubplot object at 0x7ff5ca002a10>,\n",
              "        <matplotlib.axes._subplots.AxesSubplot object at 0x7ff5c9fb8f10>,\n",
              "        <matplotlib.axes._subplots.AxesSubplot object at 0x7ff5c9ff64d0>,\n",
              "        <matplotlib.axes._subplots.AxesSubplot object at 0x7ff5c9fac9d0>,\n",
              "        <matplotlib.axes._subplots.AxesSubplot object at 0x7ff5c9f63ed0>,\n",
              "        <matplotlib.axes._subplots.AxesSubplot object at 0x7ff5c9f25410>,\n",
              "        <matplotlib.axes._subplots.AxesSubplot object at 0x7ff5c9edb910>,\n",
              "        <matplotlib.axes._subplots.AxesSubplot object at 0x7ff5c9e90e10>,\n",
              "        <matplotlib.axes._subplots.AxesSubplot object at 0x7ff5c9e51350>,\n",
              "        <matplotlib.axes._subplots.AxesSubplot object at 0x7ff5c9e08850>,\n",
              "        <matplotlib.axes._subplots.AxesSubplot object at 0x7ff5c9dbed50>,\n",
              "        <matplotlib.axes._subplots.AxesSubplot object at 0x7ff5c9d80290>,\n",
              "        <matplotlib.axes._subplots.AxesSubplot object at 0x7ff5c9d37790>,\n",
              "        <matplotlib.axes._subplots.AxesSubplot object at 0x7ff5c9d6ec90>,\n",
              "        <matplotlib.axes._subplots.AxesSubplot object at 0x7ff5c9d301d0>,\n",
              "        <matplotlib.axes._subplots.AxesSubplot object at 0x7ff5c9ce76d0>,\n",
              "        <matplotlib.axes._subplots.AxesSubplot object at 0x7ff5c9c9bbd0>,\n",
              "        <matplotlib.axes._subplots.AxesSubplot object at 0x7ff5c9c5e110>,\n",
              "        <matplotlib.axes._subplots.AxesSubplot object at 0x7ff5c9c16610>],\n",
              "       [<matplotlib.axes._subplots.AxesSubplot object at 0x7ff5c9bccb10>,\n",
              "        <matplotlib.axes._subplots.AxesSubplot object at 0x7ff5c9b82fd0>,\n",
              "        <matplotlib.axes._subplots.AxesSubplot object at 0x7ff5c9b43550>,\n",
              "        <matplotlib.axes._subplots.AxesSubplot object at 0x7ff5c9afaa50>,\n",
              "        <matplotlib.axes._subplots.AxesSubplot object at 0x7ff5cd79e4d0>,\n",
              "        <matplotlib.axes._subplots.AxesSubplot object at 0x7ff5cbc98ed0>,\n",
              "        <matplotlib.axes._subplots.AxesSubplot object at 0x7ff5cbb34910>,\n",
              "        <matplotlib.axes._subplots.AxesSubplot object at 0x7ff5cb955310>,\n",
              "        <matplotlib.axes._subplots.AxesSubplot object at 0x7ff5cb829b90>,\n",
              "        <matplotlib.axes._subplots.AxesSubplot object at 0x7ff5c99c6610>,\n",
              "        <matplotlib.axes._subplots.AxesSubplot object at 0x7ff5c997dc10>,\n",
              "        <matplotlib.axes._subplots.AxesSubplot object at 0x7ff5c993f250>,\n",
              "        <matplotlib.axes._subplots.AxesSubplot object at 0x7ff5c9976850>,\n",
              "        <matplotlib.axes._subplots.AxesSubplot object at 0x7ff5c992ee50>,\n",
              "        <matplotlib.axes._subplots.AxesSubplot object at 0x7ff5c98ef490>,\n",
              "        <matplotlib.axes._subplots.AxesSubplot object at 0x7ff5c98a5a90>,\n",
              "        <matplotlib.axes._subplots.AxesSubplot object at 0x7ff5c98680d0>,\n",
              "        <matplotlib.axes._subplots.AxesSubplot object at 0x7ff5c981f6d0>,\n",
              "        <matplotlib.axes._subplots.AxesSubplot object at 0x7ff5c97d6cd0>,\n",
              "        <matplotlib.axes._subplots.AxesSubplot object at 0x7ff5c9798310>,\n",
              "        <matplotlib.axes._subplots.AxesSubplot object at 0x7ff5c974f910>],\n",
              "       [<matplotlib.axes._subplots.AxesSubplot object at 0x7ff5c9707f10>,\n",
              "        <matplotlib.axes._subplots.AxesSubplot object at 0x7ff5c96c7550>,\n",
              "        <matplotlib.axes._subplots.AxesSubplot object at 0x7ff5c967fb50>,\n",
              "        <matplotlib.axes._subplots.AxesSubplot object at 0x7ff5c9641190>,\n",
              "        <matplotlib.axes._subplots.AxesSubplot object at 0x7ff5c95f7790>,\n",
              "        <matplotlib.axes._subplots.AxesSubplot object at 0x7ff5c962fd90>,\n",
              "        <matplotlib.axes._subplots.AxesSubplot object at 0x7ff5c95f13d0>,\n",
              "        <matplotlib.axes._subplots.AxesSubplot object at 0x7ff5c95a79d0>,\n",
              "        <matplotlib.axes._subplots.AxesSubplot object at 0x7ff5c9554b10>,\n",
              "        <matplotlib.axes._subplots.AxesSubplot object at 0x7ff5c9521610>,\n",
              "        <matplotlib.axes._subplots.AxesSubplot object at 0x7ff5c94d7c10>,\n",
              "        <matplotlib.axes._subplots.AxesSubplot object at 0x7ff5c9499250>,\n",
              "        <matplotlib.axes._subplots.AxesSubplot object at 0x7ff5c9452850>,\n",
              "        <matplotlib.axes._subplots.AxesSubplot object at 0x7ff5c940e750>,\n",
              "        <matplotlib.axes._subplots.AxesSubplot object at 0x7ff5c93c2c50>,\n",
              "        <matplotlib.axes._subplots.AxesSubplot object at 0x7ff5c9385190>,\n",
              "        <matplotlib.axes._subplots.AxesSubplot object at 0x7ff5c93b6550>,\n",
              "        <matplotlib.axes._subplots.AxesSubplot object at 0x7ff5c936bc10>,\n",
              "        <matplotlib.axes._subplots.AxesSubplot object at 0x7ff5c932d150>,\n",
              "        <matplotlib.axes._subplots.AxesSubplot object at 0x7ff5c92e2650>,\n",
              "        <matplotlib.axes._subplots.AxesSubplot object at 0x7ff5c9299b50>],\n",
              "       [<matplotlib.axes._subplots.AxesSubplot object at 0x7ff5c9247b90>,\n",
              "        <matplotlib.axes._subplots.AxesSubplot object at 0x7ff5c9212590>,\n",
              "        <matplotlib.axes._subplots.AxesSubplot object at 0x7ff5c91c8a90>,\n",
              "        <matplotlib.axes._subplots.AxesSubplot object at 0x7ff5c917ef90>,\n",
              "        <matplotlib.axes._subplots.AxesSubplot object at 0x7ff5c91404d0>,\n",
              "        <matplotlib.axes._subplots.AxesSubplot object at 0x7ff5c90f79d0>,\n",
              "        <matplotlib.axes._subplots.AxesSubplot object at 0x7ff5c9130ed0>,\n",
              "        <matplotlib.axes._subplots.AxesSubplot object at 0x7ff5c90f0410>,\n",
              "        <matplotlib.axes._subplots.AxesSubplot object at 0x7ff5c90a7910>,\n",
              "        <matplotlib.axes._subplots.AxesSubplot object at 0x7ff5c905de10>,\n",
              "        <matplotlib.axes._subplots.AxesSubplot object at 0x7ff5c901f350>,\n",
              "        <matplotlib.axes._subplots.AxesSubplot object at 0x7ff5c8fd6850>,\n",
              "        <matplotlib.axes._subplots.AxesSubplot object at 0x7ff5c8f8cd50>,\n",
              "        <matplotlib.axes._subplots.AxesSubplot object at 0x7ff5c8f4d290>,\n",
              "        <matplotlib.axes._subplots.AxesSubplot object at 0x7ff5c8f03790>,\n",
              "        <matplotlib.axes._subplots.AxesSubplot object at 0x7ff5c8ebac90>,\n",
              "        <matplotlib.axes._subplots.AxesSubplot object at 0x7ff5c8e7d1d0>,\n",
              "        <matplotlib.axes._subplots.AxesSubplot object at 0x7ff5c8eb36d0>,\n",
              "        <matplotlib.axes._subplots.AxesSubplot object at 0x7ff5c8e69bd0>,\n",
              "        <matplotlib.axes._subplots.AxesSubplot object at 0x7ff5c8e2c110>,\n",
              "        <matplotlib.axes._subplots.AxesSubplot object at 0x7ff5c8de4610>],\n",
              "       [<matplotlib.axes._subplots.AxesSubplot object at 0x7ff5c8d9ab10>,\n",
              "        <matplotlib.axes._subplots.AxesSubplot object at 0x7ff5c8d51fd0>,\n",
              "        <matplotlib.axes._subplots.AxesSubplot object at 0x7ff5c8d10550>,\n",
              "        <matplotlib.axes._subplots.AxesSubplot object at 0x7ff5c8cc9a50>,\n",
              "        <matplotlib.axes._subplots.AxesSubplot object at 0x7ff5c8c7ff50>,\n",
              "        <matplotlib.axes._subplots.AxesSubplot object at 0x7ff5c8c41490>,\n",
              "        <matplotlib.axes._subplots.AxesSubplot object at 0x7ff5c8c75990>,\n",
              "        <matplotlib.axes._subplots.AxesSubplot object at 0x7ff5c8c2ce90>,\n",
              "        <matplotlib.axes._subplots.AxesSubplot object at 0x7ff5c8bef3d0>,\n",
              "        <matplotlib.axes._subplots.AxesSubplot object at 0x7ff5c8ba48d0>,\n",
              "        <matplotlib.axes._subplots.AxesSubplot object at 0x7ff5c8b5bdd0>,\n",
              "        <matplotlib.axes._subplots.AxesSubplot object at 0x7ff5c8b1d310>,\n",
              "        <matplotlib.axes._subplots.AxesSubplot object at 0x7ff5c8ad5810>,\n",
              "        <matplotlib.axes._subplots.AxesSubplot object at 0x7ff5c8a8ad10>,\n",
              "        <matplotlib.axes._subplots.AxesSubplot object at 0x7ff5c8a4e250>,\n",
              "        <matplotlib.axes._subplots.AxesSubplot object at 0x7ff5c8a05750>,\n",
              "        <matplotlib.axes._subplots.AxesSubplot object at 0x7ff5c89bed10>,\n",
              "        <matplotlib.axes._subplots.AxesSubplot object at 0x7ff5c89831d0>,\n",
              "        <matplotlib.axes._subplots.AxesSubplot object at 0x7ff5c893a610>,\n",
              "        <matplotlib.axes._subplots.AxesSubplot object at 0x7ff5c8970b10>,\n",
              "        <matplotlib.axes._subplots.AxesSubplot object at 0x7ff5c8929fd0>],\n",
              "       [<matplotlib.axes._subplots.AxesSubplot object at 0x7ff5c88ea550>,\n",
              "        <matplotlib.axes._subplots.AxesSubplot object at 0x7ff5c889fa50>,\n",
              "        <matplotlib.axes._subplots.AxesSubplot object at 0x7ff5c8855f50>,\n",
              "        <matplotlib.axes._subplots.AxesSubplot object at 0x7ff5c8817490>,\n",
              "        <matplotlib.axes._subplots.AxesSubplot object at 0x7ff5c87cd990>,\n",
              "        <matplotlib.axes._subplots.AxesSubplot object at 0x7ff5c8783e90>,\n",
              "        <matplotlib.axes._subplots.AxesSubplot object at 0x7ff5c87463d0>,\n",
              "        <matplotlib.axes._subplots.AxesSubplot object at 0x7ff5c86fc8d0>,\n",
              "        <matplotlib.axes._subplots.AxesSubplot object at 0x7ff5c8732dd0>,\n",
              "        <matplotlib.axes._subplots.AxesSubplot object at 0x7ff5c86f5310>,\n",
              "        <matplotlib.axes._subplots.AxesSubplot object at 0x7ff5c86ab810>,\n",
              "        <matplotlib.axes._subplots.AxesSubplot object at 0x7ff5c8662d10>,\n",
              "        <matplotlib.axes._subplots.AxesSubplot object at 0x7ff5c8624250>,\n",
              "        <matplotlib.axes._subplots.AxesSubplot object at 0x7ff5c85da750>,\n",
              "        <matplotlib.axes._subplots.AxesSubplot object at 0x7ff5c8592c50>,\n",
              "        <matplotlib.axes._subplots.AxesSubplot object at 0x7ff5c8552190>,\n",
              "        <matplotlib.axes._subplots.AxesSubplot object at 0x7ff5c850a690>,\n",
              "        <matplotlib.axes._subplots.AxesSubplot object at 0x7ff5c84c0b90>,\n",
              "        <matplotlib.axes._subplots.AxesSubplot object at 0x7ff5c84830d0>,\n",
              "        <matplotlib.axes._subplots.AxesSubplot object at 0x7ff5c84375d0>,\n",
              "        <matplotlib.axes._subplots.AxesSubplot object at 0x7ff5c846ead0>],\n",
              "       [<matplotlib.axes._subplots.AxesSubplot object at 0x7ff5c841bb10>,\n",
              "        <matplotlib.axes._subplots.AxesSubplot object at 0x7ff5c83e7510>,\n",
              "        <matplotlib.axes._subplots.AxesSubplot object at 0x7ff5c839ea10>,\n",
              "        <matplotlib.axes._subplots.AxesSubplot object at 0x7ff5c8356f10>,\n",
              "        <matplotlib.axes._subplots.AxesSubplot object at 0x7ff5c8316450>,\n",
              "        <matplotlib.axes._subplots.AxesSubplot object at 0x7ff5c82cc950>,\n",
              "        <matplotlib.axes._subplots.AxesSubplot object at 0x7ff5c8284e50>,\n",
              "        <matplotlib.axes._subplots.AxesSubplot object at 0x7ff5c8246390>,\n",
              "        <matplotlib.axes._subplots.AxesSubplot object at 0x7ff5c81fb890>,\n",
              "        <matplotlib.axes._subplots.AxesSubplot object at 0x7ff5c8232d90>,\n",
              "        <matplotlib.axes._subplots.AxesSubplot object at 0x7ff5c81f52d0>,\n",
              "        <matplotlib.axes._subplots.AxesSubplot object at 0x7ff5c81aa7d0>,\n",
              "        <matplotlib.axes._subplots.AxesSubplot object at 0x7ff5c8160cd0>,\n",
              "        <matplotlib.axes._subplots.AxesSubplot object at 0x7ff5c811e290>,\n",
              "        <matplotlib.axes._subplots.AxesSubplot object at 0x7ff5c80d3790>,\n",
              "        <matplotlib.axes._subplots.AxesSubplot object at 0x7ff5c8087c90>,\n",
              "        <matplotlib.axes._subplots.AxesSubplot object at 0x7ff5c804b1d0>,\n",
              "        <matplotlib.axes._subplots.AxesSubplot object at 0x7ff5c80026d0>,\n",
              "        <matplotlib.axes._subplots.AxesSubplot object at 0x7ff5c7fb7bd0>,\n",
              "        <matplotlib.axes._subplots.AxesSubplot object at 0x7ff5c7f7a110>,\n",
              "        <matplotlib.axes._subplots.AxesSubplot object at 0x7ff5c7fb3610>],\n",
              "       [<matplotlib.axes._subplots.AxesSubplot object at 0x7ff5c7f67b10>,\n",
              "        <matplotlib.axes._subplots.AxesSubplot object at 0x7ff5c7f20fd0>,\n",
              "        <matplotlib.axes._subplots.AxesSubplot object at 0x7ff5c7edf550>,\n",
              "        <matplotlib.axes._subplots.AxesSubplot object at 0x7ff5c7e95a50>,\n",
              "        <matplotlib.axes._subplots.AxesSubplot object at 0x7ff5c7e4df50>,\n",
              "        <matplotlib.axes._subplots.AxesSubplot object at 0x7ff5c7e0f490>,\n",
              "        <matplotlib.axes._subplots.AxesSubplot object at 0x7ff5c7dc7990>,\n",
              "        <matplotlib.axes._subplots.AxesSubplot object at 0x7ff5c7d79e90>,\n",
              "        <matplotlib.axes._subplots.AxesSubplot object at 0x7ff5c7d3c3d0>,\n",
              "        <matplotlib.axes._subplots.AxesSubplot object at 0x7ff5c7d738d0>,\n",
              "        <matplotlib.axes._subplots.AxesSubplot object at 0x7ff5c7d28dd0>,\n",
              "        <matplotlib.axes._subplots.AxesSubplot object at 0x7ff5c7ceb310>,\n",
              "        <matplotlib.axes._subplots.AxesSubplot object at 0x7ff5c7ca3810>,\n",
              "        <matplotlib.axes._subplots.AxesSubplot object at 0x7ff5c7c59d10>,\n",
              "        <matplotlib.axes._subplots.AxesSubplot object at 0x7ff5c7c1c250>,\n",
              "        <matplotlib.axes._subplots.AxesSubplot object at 0x7ff5c7bd3750>,\n",
              "        <matplotlib.axes._subplots.AxesSubplot object at 0x7ff5c7b88c50>,\n",
              "        <matplotlib.axes._subplots.AxesSubplot object at 0x7ff5c7b4a190>,\n",
              "        <matplotlib.axes._subplots.AxesSubplot object at 0x7ff5c7b01690>,\n",
              "        <matplotlib.axes._subplots.AxesSubplot object at 0x7ff5c7b35b90>,\n",
              "        <matplotlib.axes._subplots.AxesSubplot object at 0x7ff5c7a7b0d0>]],\n",
              "      dtype=object)"
            ]
          },
          "metadata": {},
          "execution_count": 106
        },
        {
          "output_type": "display_data",
          "data": {
            "image/png": "[encoded data removed]",
            "text/plain": [
              "<Figure size 432x288 with 441 Axes>"
            ]
          },
          "metadata": {
            "needs_background": "light"
          }
        }
      ]
    },
    {
      "cell_type": "code",
      "metadata": {
        "colab": {
          "base_uri": "https://localhost:8080/",
          "height": 1000
        },
        "id": "NRvcI7nKhoiw",
        "outputId": "8c18411d-54af-4357-a652-44d5fa72f090"
      },
      "source": [
        "# vs\n",
        "scatter_matrix(galaxy,diagonal = 'kde')"
      ],
      "execution_count": 107,
      "outputs": [
        {
          "output_type": "execute_result",
          "data": {
            "text/plain": [
              "array([[<matplotlib.axes._subplots.AxesSubplot object at 0x7ff5c6315d50>,\n",
              "        <matplotlib.axes._subplots.AxesSubplot object at 0x7ff5c63d4710>,\n",
              "        <matplotlib.axes._subplots.AxesSubplot object at 0x7ff5c62ef510>,\n",
              "        <matplotlib.axes._subplots.AxesSubplot object at 0x7ff5c627f910>,\n",
              "        <matplotlib.axes._subplots.AxesSubplot object at 0x7ff5c60f1650>,\n",
              "        <matplotlib.axes._subplots.AxesSubplot object at 0x7ff5c6068b50>,\n",
              "        <matplotlib.axes._subplots.AxesSubplot object at 0x7ff5c5ec4b90>,\n",
              "        <matplotlib.axes._subplots.AxesSubplot object at 0x7ff5c5ede550>,\n",
              "        <matplotlib.axes._subplots.AxesSubplot object at 0x7ff5c5ede590>,\n",
              "        <matplotlib.axes._subplots.AxesSubplot object at 0x7ff5c5ef6b90>,\n",
              "        <matplotlib.axes._subplots.AxesSubplot object at 0x7ff5c5ea0490>,\n",
              "        <matplotlib.axes._subplots.AxesSubplot object at 0x7ff5c5eb3990>,\n",
              "        <matplotlib.axes._subplots.AxesSubplot object at 0x7ff5c5e4de90>,\n",
              "        <matplotlib.axes._subplots.AxesSubplot object at 0x7ff5c5e723d0>,\n",
              "        <matplotlib.axes._subplots.AxesSubplot object at 0x7ff5c5e108d0>,\n",
              "        <matplotlib.axes._subplots.AxesSubplot object at 0x7ff5c5e30dd0>,\n",
              "        <matplotlib.axes._subplots.AxesSubplot object at 0x7ff5c5dd6310>,\n",
              "        <matplotlib.axes._subplots.AxesSubplot object at 0x7ff5c5df4810>,\n",
              "        <matplotlib.axes._subplots.AxesSubplot object at 0x7ff5c5d94d10>,\n",
              "        <matplotlib.axes._subplots.AxesSubplot object at 0x7ff5c5d55250>,\n",
              "        <matplotlib.axes._subplots.AxesSubplot object at 0x7ff5c5d09750>],\n",
              "       [<matplotlib.axes._subplots.AxesSubplot object at 0x7ff5c5cbfc50>,\n",
              "        <matplotlib.axes._subplots.AxesSubplot object at 0x7ff5c5c84190>,\n",
              "        <matplotlib.axes._subplots.AxesSubplot object at 0x7ff5c5c39690>,\n",
              "        <matplotlib.axes._subplots.AxesSubplot object at 0x7ff5c5c6fb90>,\n",
              "        <matplotlib.axes._subplots.AxesSubplot object at 0x7ff5c5c330d0>,\n",
              "        <matplotlib.axes._subplots.AxesSubplot object at 0x7ff5c5be85d0>,\n",
              "        <matplotlib.axes._subplots.AxesSubplot object at 0x7ff5c5b9cad0>,\n",
              "        <matplotlib.axes._subplots.AxesSubplot object at 0x7ff5c5b4ab10>,\n",
              "        <matplotlib.axes._subplots.AxesSubplot object at 0x7ff5c5b17510>,\n",
              "        <matplotlib.axes._subplots.AxesSubplot object at 0x7ff5c5acea10>,\n",
              "        <matplotlib.axes._subplots.AxesSubplot object at 0x7ff5c5a84f10>,\n",
              "        <matplotlib.axes._subplots.AxesSubplot object at 0x7ff5c5a47450>,\n",
              "        <matplotlib.axes._subplots.AxesSubplot object at 0x7ff5c59fb950>,\n",
              "        <matplotlib.axes._subplots.AxesSubplot object at 0x7ff5c5a30e50>,\n",
              "        <matplotlib.axes._subplots.AxesSubplot object at 0x7ff5c59f4390>,\n",
              "        <matplotlib.axes._subplots.AxesSubplot object at 0x7ff5c59a8890>,\n",
              "        <matplotlib.axes._subplots.AxesSubplot object at 0x7ff5c5967d10>,\n",
              "        <matplotlib.axes._subplots.AxesSubplot object at 0x7ff5c5929250>,\n",
              "        <matplotlib.axes._subplots.AxesSubplot object at 0x7ff5c58e1750>,\n",
              "        <matplotlib.axes._subplots.AxesSubplot object at 0x7ff5c5895c50>,\n",
              "        <matplotlib.axes._subplots.AxesSubplot object at 0x7ff5c5858190>],\n",
              "       [<matplotlib.axes._subplots.AxesSubplot object at 0x7ff5c580e690>,\n",
              "        <matplotlib.axes._subplots.AxesSubplot object at 0x7ff5c57c2b90>,\n",
              "        <matplotlib.axes._subplots.AxesSubplot object at 0x7ff5c57880d0>,\n",
              "        <matplotlib.axes._subplots.AxesSubplot object at 0x7ff5c573d5d0>,\n",
              "        <matplotlib.axes._subplots.AxesSubplot object at 0x7ff5c5773ad0>,\n",
              "        <matplotlib.axes._subplots.AxesSubplot object at 0x7ff5c571fb10>,\n",
              "        <matplotlib.axes._subplots.AxesSubplot object at 0x7ff5c56ec510>,\n",
              "        <matplotlib.axes._subplots.AxesSubplot object at 0x7ff5c56a2a10>,\n",
              "        <matplotlib.axes._subplots.AxesSubplot object at 0x7ff5c5656f10>,\n",
              "        <matplotlib.axes._subplots.AxesSubplot object at 0x7ff5c561b450>,\n",
              "        <matplotlib.axes._subplots.AxesSubplot object at 0x7ff5c55d2950>,\n",
              "        <matplotlib.axes._subplots.AxesSubplot object at 0x7ff5c5586e50>,\n",
              "        <matplotlib.axes._subplots.AxesSubplot object at 0x7ff5c5548390>,\n",
              "        <matplotlib.axes._subplots.AxesSubplot object at 0x7ff5c5500890>,\n",
              "        <matplotlib.axes._subplots.AxesSubplot object at 0x7ff5c5535d90>,\n",
              "        <matplotlib.axes._subplots.AxesSubplot object at 0x7ff5c54782d0>,\n",
              "        <matplotlib.axes._subplots.AxesSubplot object at 0x7ff5c54ab810>,\n",
              "        <matplotlib.axes._subplots.AxesSubplot object at 0x7ff5c545dd50>,\n",
              "        <matplotlib.axes._subplots.AxesSubplot object at 0x7ff5c5422290>,\n",
              "        <matplotlib.axes._subplots.AxesSubplot object at 0x7ff5c53d6790>,\n",
              "        <matplotlib.axes._subplots.AxesSubplot object at 0x7ff5c538ec90>],\n",
              "       [<matplotlib.axes._subplots.AxesSubplot object at 0x7ff5c53511d0>,\n",
              "        <matplotlib.axes._subplots.AxesSubplot object at 0x7ff5c53076d0>,\n",
              "        <matplotlib.axes._subplots.AxesSubplot object at 0x7ff5c52bebd0>,\n",
              "        <matplotlib.axes._subplots.AxesSubplot object at 0x7ff5c5282110>,\n",
              "        <matplotlib.axes._subplots.AxesSubplot object at 0x7ff5c52b4610>,\n",
              "        <matplotlib.axes._subplots.AxesSubplot object at 0x7ff5c526cb10>,\n",
              "        <matplotlib.axes._subplots.AxesSubplot object at 0x7ff5c5222fd0>,\n",
              "        <matplotlib.axes._subplots.AxesSubplot object at 0x7ff5c51e4550>,\n",
              "        <matplotlib.axes._subplots.AxesSubplot object at 0x7ff5c519ca50>,\n",
              "        <matplotlib.axes._subplots.AxesSubplot object at 0x7ff5c5151f50>,\n",
              "        <matplotlib.axes._subplots.AxesSubplot object at 0x7ff5c5115490>,\n",
              "        <matplotlib.axes._subplots.AxesSubplot object at 0x7ff5c50c8990>,\n",
              "        <matplotlib.axes._subplots.AxesSubplot object at 0x7ff5c5080e90>,\n",
              "        <matplotlib.axes._subplots.AxesSubplot object at 0x7ff5c50423d0>,\n",
              "        <matplotlib.axes._subplots.AxesSubplot object at 0x7ff5c50768d0>,\n",
              "        <matplotlib.axes._subplots.AxesSubplot object at 0x7ff5c502ddd0>,\n",
              "        <matplotlib.axes._subplots.AxesSubplot object at 0x7ff5c4ff3310>,\n",
              "        <matplotlib.axes._subplots.AxesSubplot object at 0x7ff5c4fa6810>,\n",
              "        <matplotlib.axes._subplots.AxesSubplot object at 0x7ff5c4f5dd10>,\n",
              "        <matplotlib.axes._subplots.AxesSubplot object at 0x7ff5c4f20250>,\n",
              "        <matplotlib.axes._subplots.AxesSubplot object at 0x7ff5c4ed7750>],\n",
              "       [<matplotlib.axes._subplots.AxesSubplot object at 0x7ff5c4e8bc50>,\n",
              "        <matplotlib.axes._subplots.AxesSubplot object at 0x7ff5c4e50190>,\n",
              "        <matplotlib.axes._subplots.AxesSubplot object at 0x7ff5c4e04690>,\n",
              "        <matplotlib.axes._subplots.AxesSubplot object at 0x7ff5c4dbcb90>,\n",
              "        <matplotlib.axes._subplots.AxesSubplot object at 0x7ff5c4d7e0d0>,\n",
              "        <matplotlib.axes._subplots.AxesSubplot object at 0x7ff5c4db35d0>,\n",
              "        <matplotlib.axes._subplots.AxesSubplot object at 0x7ff5c4d69ad0>,\n",
              "        <matplotlib.axes._subplots.AxesSubplot object at 0x7ff5c4d15b10>,\n",
              "        <matplotlib.axes._subplots.AxesSubplot object at 0x7ff5c4ce3510>,\n",
              "        <matplotlib.axes._subplots.AxesSubplot object at 0x7ff5c4c98a10>,\n",
              "        <matplotlib.axes._subplots.AxesSubplot object at 0x7ff5c4c4ef10>,\n",
              "        <matplotlib.axes._subplots.AxesSubplot object at 0x7ff5c4c12450>,\n",
              "        <matplotlib.axes._subplots.AxesSubplot object at 0x7ff5c4bc8950>,\n",
              "        <matplotlib.axes._subplots.AxesSubplot object at 0x7ff5c4b7de50>,\n",
              "        <matplotlib.axes._subplots.AxesSubplot object at 0x7ff5c4b40390>,\n",
              "        <matplotlib.axes._subplots.AxesSubplot object at 0x7ff5c4b75890>,\n",
              "        <matplotlib.axes._subplots.AxesSubplot object at 0x7ff5c4b2bd90>,\n",
              "        <matplotlib.axes._subplots.AxesSubplot object at 0x7ff5c4af02d0>,\n",
              "        <matplotlib.axes._subplots.AxesSubplot object at 0x7ff5c4aa47d0>,\n",
              "        <matplotlib.axes._subplots.AxesSubplot object at 0x7ff5c4a5dcd0>,\n",
              "        <matplotlib.axes._subplots.AxesSubplot object at 0x7ff5c4a1f210>],\n",
              "       [<matplotlib.axes._subplots.AxesSubplot object at 0x7ff5c49d5710>,\n",
              "        <matplotlib.axes._subplots.AxesSubplot object at 0x7ff5c498ac10>,\n",
              "        <matplotlib.axes._subplots.AxesSubplot object at 0x7ff5c494d150>,\n",
              "        <matplotlib.axes._subplots.AxesSubplot object at 0x7ff5c4903650>,\n",
              "        <matplotlib.axes._subplots.AxesSubplot object at 0x7ff5c48b9b50>,\n",
              "        <matplotlib.axes._subplots.AxesSubplot object at 0x7ff5c48e4b90>,\n",
              "        <matplotlib.axes._subplots.AxesSubplot object at 0x7ff5c48b2590>,\n",
              "        <matplotlib.axes._subplots.AxesSubplot object at 0x7ff5c4867a90>,\n",
              "        <matplotlib.axes._subplots.AxesSubplot object at 0x7ff5c481df90>,\n",
              "        <matplotlib.axes._subplots.AxesSubplot object at 0x7ff5c47e14d0>,\n",
              "        <matplotlib.axes._subplots.AxesSubplot object at 0x7ff5c47969d0>,\n",
              "        <matplotlib.axes._subplots.AxesSubplot object at 0x7ff5c474ded0>,\n",
              "        <matplotlib.axes._subplots.AxesSubplot object at 0x7ff5c47144d0>,\n",
              "        <matplotlib.axes._subplots.AxesSubplot object at 0x7ff5c46ca890>,\n",
              "        <matplotlib.axes._subplots.AxesSubplot object at 0x7ff5c4680d90>,\n",
              "        <matplotlib.axes._subplots.AxesSubplot object at 0x7ff5c46432d0>,\n",
              "        <matplotlib.axes._subplots.AxesSubplot object at 0x7ff5c45f87d0>,\n",
              "        <matplotlib.axes._subplots.AxesSubplot object at 0x7ff5c4630d10>,\n",
              "        <matplotlib.axes._subplots.AxesSubplot object at 0x7ff5c45f2250>,\n",
              "        <matplotlib.axes._subplots.AxesSubplot object at 0x7ff5c45a7750>,\n",
              "        <matplotlib.axes._subplots.AxesSubplot object at 0x7ff5c455ec50>],\n",
              "       [<matplotlib.axes._subplots.AxesSubplot object at 0x7ff5c4522190>,\n",
              "        <matplotlib.axes._subplots.AxesSubplot object at 0x7ff5c44d6690>,\n",
              "        <matplotlib.axes._subplots.AxesSubplot object at 0x7ff5c448eb90>,\n",
              "        <matplotlib.axes._subplots.AxesSubplot object at 0x7ff5c44520d0>,\n",
              "        <matplotlib.axes._subplots.AxesSubplot object at 0x7ff5c44075d0>,\n",
              "        <matplotlib.axes._subplots.AxesSubplot object at 0x7ff5c43bdad0>,\n",
              "        <matplotlib.axes._subplots.AxesSubplot object at 0x7ff5c43e8b10>,\n",
              "        <matplotlib.axes._subplots.AxesSubplot object at 0x7ff5c43b4510>,\n",
              "        <matplotlib.axes._subplots.AxesSubplot object at 0x7ff5c436aa10>,\n",
              "        <matplotlib.axes._subplots.AxesSubplot object at 0x7ff5c4322f10>,\n",
              "        <matplotlib.axes._subplots.AxesSubplot object at 0x7ff5c42e4450>,\n",
              "        <matplotlib.axes._subplots.AxesSubplot object at 0x7ff5c4299950>,\n",
              "        <matplotlib.axes._subplots.AxesSubplot object at 0x7ff5c4250e50>,\n",
              "        <matplotlib.axes._subplots.AxesSubplot object at 0x7ff5c4213390>,\n",
              "        <matplotlib.axes._subplots.AxesSubplot object at 0x7ff5c41c9890>,\n",
              "        <matplotlib.axes._subplots.AxesSubplot object at 0x7ff5c417dd90>,\n",
              "        <matplotlib.axes._subplots.AxesSubplot object at 0x7ff5c41422d0>,\n",
              "        <matplotlib.axes._subplots.AxesSubplot object at 0x7ff5c40f87d0>,\n",
              "        <matplotlib.axes._subplots.AxesSubplot object at 0x7ff5c412fcd0>,\n",
              "        <matplotlib.axes._subplots.AxesSubplot object at 0x7ff5c40f1210>,\n",
              "        <matplotlib.axes._subplots.AxesSubplot object at 0x7ff5c40a6710>],\n",
              "       [<matplotlib.axes._subplots.AxesSubplot object at 0x7ff5c405cc10>,\n",
              "        <matplotlib.axes._subplots.AxesSubplot object at 0x7ff5c63c76d0>,\n",
              "        <matplotlib.axes._subplots.AxesSubplot object at 0x7ff5c6315fd0>,\n",
              "        <matplotlib.axes._subplots.AxesSubplot object at 0x7ff5c639f390>,\n",
              "        <matplotlib.axes._subplots.AxesSubplot object at 0x7ff5c641c350>,\n",
              "        <matplotlib.axes._subplots.AxesSubplot object at 0x7ff5c3ffaa10>,\n",
              "        <matplotlib.axes._subplots.AxesSubplot object at 0x7ff5c3ef7fd0>,\n",
              "        <matplotlib.axes._subplots.AxesSubplot object at 0x7ff5c3eba650>,\n",
              "        <matplotlib.axes._subplots.AxesSubplot object at 0x7ff5c3eeec50>,\n",
              "        <matplotlib.axes._subplots.AxesSubplot object at 0x7ff5c3eb1290>,\n",
              "        <matplotlib.axes._subplots.AxesSubplot object at 0x7ff5c3e67890>,\n",
              "        <matplotlib.axes._subplots.AxesSubplot object at 0x7ff5c3e1ee90>,\n",
              "        <matplotlib.axes._subplots.AxesSubplot object at 0x7ff5c3de24d0>,\n",
              "        <matplotlib.axes._subplots.AxesSubplot object at 0x7ff5c3d96ad0>,\n",
              "        <matplotlib.axes._subplots.AxesSubplot object at 0x7ff5c3d5b110>,\n",
              "        <matplotlib.axes._subplots.AxesSubplot object at 0x7ff5c3d11710>,\n",
              "        <matplotlib.axes._subplots.AxesSubplot object at 0x7ff5c3cc6d10>,\n",
              "        <matplotlib.axes._subplots.AxesSubplot object at 0x7ff5c3c88350>,\n",
              "        <matplotlib.axes._subplots.AxesSubplot object at 0x7ff5c3c40950>,\n",
              "        <matplotlib.axes._subplots.AxesSubplot object at 0x7ff5c3bf7f50>,\n",
              "        <matplotlib.axes._subplots.AxesSubplot object at 0x7ff5c3bb9590>],\n",
              "       [<matplotlib.axes._subplots.AxesSubplot object at 0x7ff5c3befb90>,\n",
              "        <matplotlib.axes._subplots.AxesSubplot object at 0x7ff5c3bb31d0>,\n",
              "        <matplotlib.axes._subplots.AxesSubplot object at 0x7ff5c3b697d0>,\n",
              "        <matplotlib.axes._subplots.AxesSubplot object at 0x7ff5c3b1edd0>,\n",
              "        <matplotlib.axes._subplots.AxesSubplot object at 0x7ff5c3ae3410>,\n",
              "        <matplotlib.axes._subplots.AxesSubplot object at 0x7ff5c3a98a10>,\n",
              "        <matplotlib.axes._subplots.AxesSubplot object at 0x7ff5c3a4ffd0>,\n",
              "        <matplotlib.axes._subplots.AxesSubplot object at 0x7ff5c3a13650>,\n",
              "        <matplotlib.axes._subplots.AxesSubplot object at 0x7ff5c39cac50>,\n",
              "        <matplotlib.axes._subplots.AxesSubplot object at 0x7ff5c398b290>,\n",
              "        <matplotlib.axes._subplots.AxesSubplot object at 0x7ff5c3946190>,\n",
              "        <matplotlib.axes._subplots.AxesSubplot object at 0x7ff5c38fc690>,\n",
              "        <matplotlib.axes._subplots.AxesSubplot object at 0x7ff5c3933b90>,\n",
              "        <matplotlib.axes._subplots.AxesSubplot object at 0x7ff5c3877110>,\n",
              "        <matplotlib.axes._subplots.AxesSubplot object at 0x7ff5c38ab5d0>,\n",
              "        <matplotlib.axes._subplots.AxesSubplot object at 0x7ff5c3862ad0>,\n",
              "        <matplotlib.axes._subplots.AxesSubplot object at 0x7ff5c3810b10>,\n",
              "        <matplotlib.axes._subplots.AxesSubplot object at 0x7ff5c37da510>,\n",
              "        <matplotlib.axes._subplots.AxesSubplot object at 0x7ff5c3792a10>,\n",
              "        <matplotlib.axes._subplots.AxesSubplot object at 0x7ff5c3747f10>,\n",
              "        <matplotlib.axes._subplots.AxesSubplot object at 0x7ff5c370a450>],\n",
              "       [<matplotlib.axes._subplots.AxesSubplot object at 0x7ff5c36bf950>,\n",
              "        <matplotlib.axes._subplots.AxesSubplot object at 0x7ff5c36f4e50>,\n",
              "        <matplotlib.axes._subplots.AxesSubplot object at 0x7ff5c3637390>,\n",
              "        <matplotlib.axes._subplots.AxesSubplot object at 0x7ff5c3670890>,\n",
              "        <matplotlib.axes._subplots.AxesSubplot object at 0x7ff5c3625d90>,\n",
              "        <matplotlib.axes._subplots.AxesSubplot object at 0x7ff5c35e82d0>,\n",
              "        <matplotlib.axes._subplots.AxesSubplot object at 0x7ff5c359f7d0>,\n",
              "        <matplotlib.axes._subplots.AxesSubplot object at 0x7ff5c3552cd0>,\n",
              "        <matplotlib.axes._subplots.AxesSubplot object at 0x7ff5c3516210>,\n",
              "        <matplotlib.axes._subplots.AxesSubplot object at 0x7ff5c34cd710>,\n",
              "        <matplotlib.axes._subplots.AxesSubplot object at 0x7ff5c3483c10>,\n",
              "        <matplotlib.axes._subplots.AxesSubplot object at 0x7ff5c3446150>,\n",
              "        <matplotlib.axes._subplots.AxesSubplot object at 0x7ff5c33fc650>,\n",
              "        <matplotlib.axes._subplots.AxesSubplot object at 0x7ff5c3432b50>,\n",
              "        <matplotlib.axes._subplots.AxesSubplot object at 0x7ff5c3377150>,\n",
              "        <matplotlib.axes._subplots.AxesSubplot object at 0x7ff5c33b0510>,\n",
              "        <matplotlib.axes._subplots.AxesSubplot object at 0x7ff5c3367a10>,\n",
              "        <matplotlib.axes._subplots.AxesSubplot object at 0x7ff5c331ef10>,\n",
              "        <matplotlib.axes._subplots.AxesSubplot object at 0x7ff5c32e1450>,\n",
              "        <matplotlib.axes._subplots.AxesSubplot object at 0x7ff5c32929d0>,\n",
              "        <matplotlib.axes._subplots.AxesSubplot object at 0x7ff5c3246ed0>],\n",
              "       [<matplotlib.axes._subplots.AxesSubplot object at 0x7ff5c3208410>,\n",
              "        <matplotlib.axes._subplots.AxesSubplot object at 0x7ff5c31bf910>,\n",
              "        <matplotlib.axes._subplots.AxesSubplot object at 0x7ff5c31f5e10>,\n",
              "        <matplotlib.axes._subplots.AxesSubplot object at 0x7ff5c3138350>,\n",
              "        <matplotlib.axes._subplots.AxesSubplot object at 0x7ff5c316e850>,\n",
              "        <matplotlib.axes._subplots.AxesSubplot object at 0x7ff5c3124d50>,\n",
              "        <matplotlib.axes._subplots.AxesSubplot object at 0x7ff5c30e5290>,\n",
              "        <matplotlib.axes._subplots.AxesSubplot object at 0x7ff5c309b790>,\n",
              "        <matplotlib.axes._subplots.AxesSubplot object at 0x7ff5c3052c90>,\n",
              "        <matplotlib.axes._subplots.AxesSubplot object at 0x7ff5c30141d0>,\n",
              "        <matplotlib.axes._subplots.AxesSubplot object at 0x7ff5c2fcb6d0>,\n",
              "        <matplotlib.axes._subplots.AxesSubplot object at 0x7ff5c2f81bd0>,\n",
              "        <matplotlib.axes._subplots.AxesSubplot object at 0x7ff5c2f44110>,\n",
              "        <matplotlib.axes._subplots.AxesSubplot object at 0x7ff5c2efa610>,\n",
              "        <matplotlib.axes._subplots.AxesSubplot object at 0x7ff5c2f32b10>,\n",
              "        <matplotlib.axes._subplots.AxesSubplot object at 0x7ff5c2ee9fd0>,\n",
              "        <matplotlib.axes._subplots.AxesSubplot object at 0x7ff5c2ea8550>,\n",
              "        <matplotlib.axes._subplots.AxesSubplot object at 0x7ff5c2e60a50>,\n",
              "        <matplotlib.axes._subplots.AxesSubplot object at 0x7ff5c2e16f50>,\n",
              "        <matplotlib.axes._subplots.AxesSubplot object at 0x7ff5c2dd8490>,\n",
              "        <matplotlib.axes._subplots.AxesSubplot object at 0x7ff5c2d8e990>],\n",
              "       [<matplotlib.axes._subplots.AxesSubplot object at 0x7ff5c2d44e90>,\n",
              "        <matplotlib.axes._subplots.AxesSubplot object at 0x7ff5c2d073d0>,\n",
              "        <matplotlib.axes._subplots.AxesSubplot object at 0x7ff5c2cbd8d0>,\n",
              "        <matplotlib.axes._subplots.AxesSubplot object at 0x7ff5c2cf3dd0>,\n",
              "        <matplotlib.axes._subplots.AxesSubplot object at 0x7ff5c2cb5310>,\n",
              "        <matplotlib.axes._subplots.AxesSubplot object at 0x7ff5c2c6c810>,\n",
              "        <matplotlib.axes._subplots.AxesSubplot object at 0x7ff5c2c21d10>,\n",
              "        <matplotlib.axes._subplots.AxesSubplot object at 0x7ff5c2be6250>,\n",
              "        <matplotlib.axes._subplots.AxesSubplot object at 0x7ff5c2b9d750>,\n",
              "        <matplotlib.axes._subplots.AxesSubplot object at 0x7ff5c2b51c50>,\n",
              "        <matplotlib.axes._subplots.AxesSubplot object at 0x7ff5c2b16190>,\n",
              "        <matplotlib.axes._subplots.AxesSubplot object at 0x7ff5c2aca690>,\n",
              "        <matplotlib.axes._subplots.AxesSubplot object at 0x7ff5c2a80b90>,\n",
              "        <matplotlib.axes._subplots.AxesSubplot object at 0x7ff5c2a420d0>,\n",
              "        <matplotlib.axes._subplots.AxesSubplot object at 0x7ff5c29f95d0>,\n",
              "        <matplotlib.axes._subplots.AxesSubplot object at 0x7ff5c2a2dad0>,\n",
              "        <matplotlib.axes._subplots.AxesSubplot object at 0x7ff5c29dcb10>,\n",
              "        <matplotlib.axes._subplots.AxesSubplot object at 0x7ff5c29a7510>,\n",
              "        <matplotlib.axes._subplots.AxesSubplot object at 0x7ff5c295ea10>,\n",
              "        <matplotlib.axes._subplots.AxesSubplot object at 0x7ff5c2914f10>,\n",
              "        <matplotlib.axes._subplots.AxesSubplot object at 0x7ff5c28d6450>],\n",
              "       [<matplotlib.axes._subplots.AxesSubplot object at 0x7ff5c288d950>,\n",
              "        <matplotlib.axes._subplots.AxesSubplot object at 0x7ff5c2842e50>,\n",
              "        <matplotlib.axes._subplots.AxesSubplot object at 0x7ff5c2805390>,\n",
              "        <matplotlib.axes._subplots.AxesSubplot object at 0x7ff5c27bd890>,\n",
              "        <matplotlib.axes._subplots.AxesSubplot object at 0x7ff5c2779e50>,\n",
              "        <matplotlib.axes._subplots.AxesSubplot object at 0x7ff5c273d290>,\n",
              "        <matplotlib.axes._subplots.AxesSubplot object at 0x7ff5c2773750>,\n",
              "        <matplotlib.axes._subplots.AxesSubplot object at 0x7ff5c272ac50>,\n",
              "        <matplotlib.axes._subplots.AxesSubplot object at 0x7ff5c26ea190>,\n",
              "        <matplotlib.axes._subplots.AxesSubplot object at 0x7ff5c26a2690>,\n",
              "        <matplotlib.axes._subplots.AxesSubplot object at 0x7ff5c2657b90>,\n",
              "        <matplotlib.axes._subplots.AxesSubplot object at 0x7ff5c261a0d0>,\n",
              "        <matplotlib.axes._subplots.AxesSubplot object at 0x7ff5c25d05d0>,\n",
              "        <matplotlib.axes._subplots.AxesSubplot object at 0x7ff5c2587ad0>,\n",
              "        <matplotlib.axes._subplots.AxesSubplot object at 0x7ff5c25b4b10>,\n",
              "        <matplotlib.axes._subplots.AxesSubplot object at 0x7ff5c24fe510>,\n",
              "        <matplotlib.axes._subplots.AxesSubplot object at 0x7ff5c2536a10>,\n",
              "        <matplotlib.axes._subplots.AxesSubplot object at 0x7ff5c24edf10>,\n",
              "        <matplotlib.axes._subplots.AxesSubplot object at 0x7ff5c24af450>,\n",
              "        <matplotlib.axes._subplots.AxesSubplot object at 0x7ff5c24609d0>,\n",
              "        <matplotlib.axes._subplots.AxesSubplot object at 0x7ff5c2415ed0>],\n",
              "       [<matplotlib.axes._subplots.AxesSubplot object at 0x7ff5c23d6410>,\n",
              "        <matplotlib.axes._subplots.AxesSubplot object at 0x7ff5c238c910>,\n",
              "        <matplotlib.axes._subplots.AxesSubplot object at 0x7ff5c2342e10>,\n",
              "        <matplotlib.axes._subplots.AxesSubplot object at 0x7ff5c2304350>,\n",
              "        <matplotlib.axes._subplots.AxesSubplot object at 0x7ff5c22bb850>,\n",
              "        <matplotlib.axes._subplots.AxesSubplot object at 0x7ff5c22f0d50>,\n",
              "        <matplotlib.axes._subplots.AxesSubplot object at 0x7ff5c22b5290>,\n",
              "        <matplotlib.axes._subplots.AxesSubplot object at 0x7ff5c226a790>,\n",
              "        <matplotlib.axes._subplots.AxesSubplot object at 0x7ff5c221ec90>,\n",
              "        <matplotlib.axes._subplots.AxesSubplot object at 0x7ff5c21e21d0>,\n",
              "        <matplotlib.axes._subplots.AxesSubplot object at 0x7ff5c21976d0>,\n",
              "        <matplotlib.axes._subplots.AxesSubplot object at 0x7ff5c214fbd0>,\n",
              "        <matplotlib.axes._subplots.AxesSubplot object at 0x7ff5c2111110>,\n",
              "        <matplotlib.axes._subplots.AxesSubplot object at 0x7ff5c20c6610>,\n",
              "        <matplotlib.axes._subplots.AxesSubplot object at 0x7ff5c207eb10>,\n",
              "        <matplotlib.axes._subplots.AxesSubplot object at 0x7ff5c20b6fd0>,\n",
              "        <matplotlib.axes._subplots.AxesSubplot object at 0x7ff5c1ff7550>,\n",
              "        <matplotlib.axes._subplots.AxesSubplot object at 0x7ff5c202da50>,\n",
              "        <matplotlib.axes._subplots.AxesSubplot object at 0x7ff5c1fe4f50>,\n",
              "        <matplotlib.axes._subplots.AxesSubplot object at 0x7ff5c1fa5490>,\n",
              "        <matplotlib.axes._subplots.AxesSubplot object at 0x7ff5c1f5b990>],\n",
              "       [<matplotlib.axes._subplots.AxesSubplot object at 0x7ff5c1f11e90>,\n",
              "        <matplotlib.axes._subplots.AxesSubplot object at 0x7ff5c1ed33d0>,\n",
              "        <matplotlib.axes._subplots.AxesSubplot object at 0x7ff5c1e8b8d0>,\n",
              "        <matplotlib.axes._subplots.AxesSubplot object at 0x7ff5c1e3fdd0>,\n",
              "        <matplotlib.axes._subplots.AxesSubplot object at 0x7ff5c1e03310>,\n",
              "        <matplotlib.axes._subplots.AxesSubplot object at 0x7ff5c1db9810>,\n",
              "        <matplotlib.axes._subplots.AxesSubplot object at 0x7ff5c1df0d10>,\n",
              "        <matplotlib.axes._subplots.AxesSubplot object at 0x7ff5c1db2250>,\n",
              "        <matplotlib.axes._subplots.AxesSubplot object at 0x7ff5c1d6a750>,\n",
              "        <matplotlib.axes._subplots.AxesSubplot object at 0x7ff5c1d20c50>,\n",
              "        <matplotlib.axes._subplots.AxesSubplot object at 0x7ff5c1ce2190>,\n",
              "        <matplotlib.axes._subplots.AxesSubplot object at 0x7ff5c1c98690>,\n",
              "        <matplotlib.axes._subplots.AxesSubplot object at 0x7ff5c1c4eb90>,\n",
              "        <matplotlib.axes._subplots.AxesSubplot object at 0x7ff5c1c0f0d0>,\n",
              "        <matplotlib.axes._subplots.AxesSubplot object at 0x7ff5c1bc65d0>,\n",
              "        <matplotlib.axes._subplots.AxesSubplot object at 0x7ff5c1b7dad0>,\n",
              "        <matplotlib.axes._subplots.AxesSubplot object at 0x7ff5c1ba9b10>,\n",
              "        <matplotlib.axes._subplots.AxesSubplot object at 0x7ff5c1b75510>,\n",
              "        <matplotlib.axes._subplots.AxesSubplot object at 0x7ff5c1b2ba10>,\n",
              "        <matplotlib.axes._subplots.AxesSubplot object at 0x7ff5c1ae1f10>,\n",
              "        <matplotlib.axes._subplots.AxesSubplot object at 0x7ff5c1aa4450>],\n",
              "       [<matplotlib.axes._subplots.AxesSubplot object at 0x7ff5c1a5a950>,\n",
              "        <matplotlib.axes._subplots.AxesSubplot object at 0x7ff5c1a12e50>,\n",
              "        <matplotlib.axes._subplots.AxesSubplot object at 0x7ff5c19d4390>,\n",
              "        <matplotlib.axes._subplots.AxesSubplot object at 0x7ff5c198a890>,\n",
              "        <matplotlib.axes._subplots.AxesSubplot object at 0x7ff5c1941d90>,\n",
              "        <matplotlib.axes._subplots.AxesSubplot object at 0x7ff5c19002d0>,\n",
              "        <matplotlib.axes._subplots.AxesSubplot object at 0x7ff5c18b87d0>,\n",
              "        <matplotlib.axes._subplots.AxesSubplot object at 0x7ff5c18efcd0>,\n",
              "        <matplotlib.axes._subplots.AxesSubplot object at 0x7ff5c18b2210>,\n",
              "        <matplotlib.axes._subplots.AxesSubplot object at 0x7ff5c1867710>,\n",
              "        <matplotlib.axes._subplots.AxesSubplot object at 0x7ff5c181dc10>,\n",
              "        <matplotlib.axes._subplots.AxesSubplot object at 0x7ff5c17df150>,\n",
              "        <matplotlib.axes._subplots.AxesSubplot object at 0x7ff5c1796650>,\n",
              "        <matplotlib.axes._subplots.AxesSubplot object at 0x7ff5c174db50>,\n",
              "        <matplotlib.axes._subplots.AxesSubplot object at 0x7ff5c16fbb90>,\n",
              "        <matplotlib.axes._subplots.AxesSubplot object at 0x7ff5c16c4590>,\n",
              "        <matplotlib.axes._subplots.AxesSubplot object at 0x7ff5c167ca90>,\n",
              "        <matplotlib.axes._subplots.AxesSubplot object at 0x7ff5c1643110>,\n",
              "        <matplotlib.axes._subplots.AxesSubplot object at 0x7ff5c15fc610>,\n",
              "        <matplotlib.axes._subplots.AxesSubplot object at 0x7ff5c1635950>,\n",
              "        <matplotlib.axes._subplots.AxesSubplot object at 0x7ff5c15e9e50>],\n",
              "       [<matplotlib.axes._subplots.AxesSubplot object at 0x7ff5c15ac390>,\n",
              "        <matplotlib.axes._subplots.AxesSubplot object at 0x7ff5c1563890>,\n",
              "        <matplotlib.axes._subplots.AxesSubplot object at 0x7ff5c1518d90>,\n",
              "        <matplotlib.axes._subplots.AxesSubplot object at 0x7ff5c14db2d0>,\n",
              "        <matplotlib.axes._subplots.AxesSubplot object at 0x7ff5c14907d0>,\n",
              "        <matplotlib.axes._subplots.AxesSubplot object at 0x7ff5c1445cd0>,\n",
              "        <matplotlib.axes._subplots.AxesSubplot object at 0x7ff5c1408210>,\n",
              "        <matplotlib.axes._subplots.AxesSubplot object at 0x7ff5c13c0710>,\n",
              "        <matplotlib.axes._subplots.AxesSubplot object at 0x7ff5c13f5c10>,\n",
              "        <matplotlib.axes._subplots.AxesSubplot object at 0x7ff5c1337150>,\n",
              "        <matplotlib.axes._subplots.AxesSubplot object at 0x7ff5c136e650>,\n",
              "        <matplotlib.axes._subplots.AxesSubplot object at 0x7ff5c1324b50>,\n",
              "        <matplotlib.axes._subplots.AxesSubplot object at 0x7ff5c12d3b90>,\n",
              "        <matplotlib.axes._subplots.AxesSubplot object at 0x7ff5c129c590>,\n",
              "        <matplotlib.axes._subplots.AxesSubplot object at 0x7ff5c1253a90>,\n",
              "        <matplotlib.axes._subplots.AxesSubplot object at 0x7ff5c120af90>,\n",
              "        <matplotlib.axes._subplots.AxesSubplot object at 0x7ff5c11cb4d0>,\n",
              "        <matplotlib.axes._subplots.AxesSubplot object at 0x7ff5c11839d0>,\n",
              "        <matplotlib.axes._subplots.AxesSubplot object at 0x7ff5c11b5f50>,\n",
              "        <matplotlib.axes._subplots.AxesSubplot object at 0x7ff5c1175490>,\n",
              "        <matplotlib.axes._subplots.AxesSubplot object at 0x7ff5c112a990>],\n",
              "       [<matplotlib.axes._subplots.AxesSubplot object at 0x7ff5c10dfe90>,\n",
              "        <matplotlib.axes._subplots.AxesSubplot object at 0x7ff5c10a13d0>,\n",
              "        <matplotlib.axes._subplots.AxesSubplot object at 0x7ff5c10578d0>,\n",
              "        <matplotlib.axes._subplots.AxesSubplot object at 0x7ff5c100ddd0>,\n",
              "        <matplotlib.axes._subplots.AxesSubplot object at 0x7ff5c0fd0310>,\n",
              "        <matplotlib.axes._subplots.AxesSubplot object at 0x7ff5c0f88810>,\n",
              "        <matplotlib.axes._subplots.AxesSubplot object at 0x7ff5c0f3ed10>,\n",
              "        <matplotlib.axes._subplots.AxesSubplot object at 0x7ff5c0eff250>,\n",
              "        <matplotlib.axes._subplots.AxesSubplot object at 0x7ff5c0f36750>,\n",
              "        <matplotlib.axes._subplots.AxesSubplot object at 0x7ff5c0eecc50>,\n",
              "        <matplotlib.axes._subplots.AxesSubplot object at 0x7ff5c0eaf190>,\n",
              "        <matplotlib.axes._subplots.AxesSubplot object at 0x7ff5c0e67690>,\n",
              "        <matplotlib.axes._subplots.AxesSubplot object at 0x7ff5c0e1cb90>,\n",
              "        <matplotlib.axes._subplots.AxesSubplot object at 0x7ff5c0dde0d0>,\n",
              "        <matplotlib.axes._subplots.AxesSubplot object at 0x7ff5c0d945d0>,\n",
              "        <matplotlib.axes._subplots.AxesSubplot object at 0x7ff5c0d4aad0>,\n",
              "        <matplotlib.axes._subplots.AxesSubplot object at 0x7ff5c0cf7b10>,\n",
              "        <matplotlib.axes._subplots.AxesSubplot object at 0x7ff5c0cc1510>,\n",
              "        <matplotlib.axes._subplots.AxesSubplot object at 0x7ff5c0c79a10>,\n",
              "        <matplotlib.axes._subplots.AxesSubplot object at 0x7ff5c0caff10>,\n",
              "        <matplotlib.axes._subplots.AxesSubplot object at 0x7ff5c0c71450>],\n",
              "       [<matplotlib.axes._subplots.AxesSubplot object at 0x7ff5c0c29950>,\n",
              "        <matplotlib.axes._subplots.AxesSubplot object at 0x7ff5c0bdee50>,\n",
              "        <matplotlib.axes._subplots.AxesSubplot object at 0x7ff5c0ba2390>,\n",
              "        <matplotlib.axes._subplots.AxesSubplot object at 0x7ff5c0b56890>,\n",
              "        <matplotlib.axes._subplots.AxesSubplot object at 0x7ff5c0b0ed90>,\n",
              "        <matplotlib.axes._subplots.AxesSubplot object at 0x7ff5c0ad02d0>,\n",
              "        <matplotlib.axes._subplots.AxesSubplot object at 0x7ff5c0a867d0>,\n",
              "        <matplotlib.axes._subplots.AxesSubplot object at 0x7ff5c0a3ccd0>,\n",
              "        <matplotlib.axes._subplots.AxesSubplot object at 0x7ff5c09ff210>,\n",
              "        <matplotlib.axes._subplots.AxesSubplot object at 0x7ff5c0a35710>,\n",
              "        <matplotlib.axes._subplots.AxesSubplot object at 0x7ff5c09e9c10>,\n",
              "        <matplotlib.axes._subplots.AxesSubplot object at 0x7ff5c09ad150>,\n",
              "        <matplotlib.axes._subplots.AxesSubplot object at 0x7ff5c0963650>,\n",
              "        <matplotlib.axes._subplots.AxesSubplot object at 0x7ff5c091ab50>,\n",
              "        <matplotlib.axes._subplots.AxesSubplot object at 0x7ff5c08c9b90>,\n",
              "        <matplotlib.axes._subplots.AxesSubplot object at 0x7ff5c0893590>,\n",
              "        <matplotlib.axes._subplots.AxesSubplot object at 0x7ff5c0849a90>,\n",
              "        <matplotlib.axes._subplots.AxesSubplot object at 0x7ff5c0800f90>,\n",
              "        <matplotlib.axes._subplots.AxesSubplot object at 0x7ff5c07c34d0>,\n",
              "        <matplotlib.axes._subplots.AxesSubplot object at 0x7ff5c07799d0>,\n",
              "        <matplotlib.axes._subplots.AxesSubplot object at 0x7ff5c07aeed0>],\n",
              "       [<matplotlib.axes._subplots.AxesSubplot object at 0x7ff5c0771410>,\n",
              "        <matplotlib.axes._subplots.AxesSubplot object at 0x7ff5c0727910>,\n",
              "        <matplotlib.axes._subplots.AxesSubplot object at 0x7ff5c06dce10>,\n",
              "        <matplotlib.axes._subplots.AxesSubplot object at 0x7ff5c069f350>,\n",
              "        <matplotlib.axes._subplots.AxesSubplot object at 0x7ff5c0657850>,\n",
              "        <matplotlib.axes._subplots.AxesSubplot object at 0x7ff5c060bd50>,\n",
              "        <matplotlib.axes._subplots.AxesSubplot object at 0x7ff5c05cf290>,\n",
              "        <matplotlib.axes._subplots.AxesSubplot object at 0x7ff5c0586790>,\n",
              "        <matplotlib.axes._subplots.AxesSubplot object at 0x7ff5c053bc90>,\n",
              "        <matplotlib.axes._subplots.AxesSubplot object at 0x7ff5c0507310>,\n",
              "        <matplotlib.axes._subplots.AxesSubplot object at 0x7ff5c04be650>,\n",
              "        <matplotlib.axes._subplots.AxesSubplot object at 0x7ff5c04f3b90>,\n",
              "        <matplotlib.axes._subplots.AxesSubplot object at 0x7ff5c04a0b90>,\n",
              "        <matplotlib.axes._subplots.AxesSubplot object at 0x7ff5c046a590>,\n",
              "        <matplotlib.axes._subplots.AxesSubplot object at 0x7ff5c0421a90>,\n",
              "        <matplotlib.axes._subplots.AxesSubplot object at 0x7ff5c03d8f90>,\n",
              "        <matplotlib.axes._subplots.AxesSubplot object at 0x7ff5c039a4d0>,\n",
              "        <matplotlib.axes._subplots.AxesSubplot object at 0x7ff5c03509d0>,\n",
              "        <matplotlib.axes._subplots.AxesSubplot object at 0x7ff5c0308ed0>,\n",
              "        <matplotlib.axes._subplots.AxesSubplot object at 0x7ff5c02c7410>,\n",
              "        <matplotlib.axes._subplots.AxesSubplot object at 0x7ff5c027e910>],\n",
              "       [<matplotlib.axes._subplots.AxesSubplot object at 0x7ff5c02b5e10>,\n",
              "        <matplotlib.axes._subplots.AxesSubplot object at 0x7ff5c01f7350>,\n",
              "        <matplotlib.axes._subplots.AxesSubplot object at 0x7ff5c022d850>,\n",
              "        <matplotlib.axes._subplots.AxesSubplot object at 0x7ff5c01e5d50>,\n",
              "        <matplotlib.axes._subplots.AxesSubplot object at 0x7ff5c01a7290>,\n",
              "        <matplotlib.axes._subplots.AxesSubplot object at 0x7ff5c015d790>,\n",
              "        <matplotlib.axes._subplots.AxesSubplot object at 0x7ff5c0114c90>,\n",
              "        <matplotlib.axes._subplots.AxesSubplot object at 0x7ff5c00d61d0>,\n",
              "        <matplotlib.axes._subplots.AxesSubplot object at 0x7ff5c008d6d0>,\n",
              "        <matplotlib.axes._subplots.AxesSubplot object at 0x7ff5c0042bd0>,\n",
              "        <matplotlib.axes._subplots.AxesSubplot object at 0x7ff5c0005110>,\n",
              "        <matplotlib.axes._subplots.AxesSubplot object at 0x7ff5bffbb610>,\n",
              "        <matplotlib.axes._subplots.AxesSubplot object at 0x7ff5bfff1b10>,\n",
              "        <matplotlib.axes._subplots.AxesSubplot object at 0x7ff5bffa8fd0>,\n",
              "        <matplotlib.axes._subplots.AxesSubplot object at 0x7ff5bff6a550>,\n",
              "        <matplotlib.axes._subplots.AxesSubplot object at 0x7ff5bff1bad0>,\n",
              "        <matplotlib.axes._subplots.AxesSubplot object at 0x7ff5bfec7b10>,\n",
              "        <matplotlib.axes._subplots.AxesSubplot object at 0x7ff5bfe91510>,\n",
              "        <matplotlib.axes._subplots.AxesSubplot object at 0x7ff5bfe46a10>,\n",
              "        <matplotlib.axes._subplots.AxesSubplot object at 0x7ff5bfdfff10>,\n",
              "        <matplotlib.axes._subplots.AxesSubplot object at 0x7ff5bfdc0450>]],\n",
              "      dtype=object)"
            ]
          },
          "metadata": {},
          "execution_count": 107
        },
        {
          "output_type": "display_data",
          "data": {
            "image/png": "[encoded data removed]",
            "text/plain": [
              "<Figure size 432x288 with 441 Axes>"
            ]
          },
          "metadata": {
            "needs_background": "light"
          }
        }
      ]
    },
    {
      "cell_type": "code",
      "metadata": {
        "colab": {
          "base_uri": "https://localhost:8080/",
          "height": 400
        },
        "id": "s3LCSWvOh1U_",
        "outputId": "2cb3860e-369e-4c0f-d002-95e94b2ea8d7"
      },
      "source": [
        "galaxy.plot.hist()"
      ],
      "execution_count": 108,
      "outputs": [
        {
          "output_type": "execute_result",
          "data": {
            "text/plain": [
              "<matplotlib.axes._subplots.AxesSubplot at 0x7ff5be813cd0>"
            ]
          },
          "metadata": {},
          "execution_count": 108
        },
        {
          "output_type": "display_data",
          "data": {
            "image/png": "[encoded data removed]",
            "text/plain": [
              "<Figure size 432x288 with 1 Axes>"
            ]
          },
          "metadata": {
            "needs_background": "light"
          }
        }
      ]
    },
    {
      "cell_type": "code",
      "metadata": {
        "colab": {
          "base_uri": "https://localhost:8080/",
          "height": 383
        },
        "id": "rp1aNnzlh42f",
        "outputId": "85f0b132-f308-44c3-c750-91f240ab76fa"
      },
      "source": [
        "# find how many modes\n",
        "galaxy.plot.density()"
      ],
      "execution_count": 109,
      "outputs": [
        {
          "output_type": "execute_result",
          "data": {
            "text/plain": [
              "<matplotlib.axes._subplots.AxesSubplot at 0x7ff5be340f90>"
            ]
          },
          "metadata": {},
          "execution_count": 109
        },
        {
          "output_type": "display_data",
          "data": {
            "image/png": "[encoded data removed]",
            "text/plain": [
              "<Figure size 432x288 with 1 Axes>"
            ]
          },
          "metadata": {
            "needs_background": "light"
          }
        }
      ]
    },
    {
      "cell_type": "code",
      "metadata": {
        "colab": {
          "base_uri": "https://localhost:8080/",
          "height": 708
        },
        "id": "A7N0h5Feh7uN",
        "outputId": "2c05e659-9c1d-4c58-bc01-0712552b5f3c"
      },
      "source": [
        "galaxy.hist()"
      ],
      "execution_count": 110,
      "outputs": [
        {
          "output_type": "execute_result",
          "data": {
            "text/plain": [
              "array([[<matplotlib.axes._subplots.AxesSubplot object at 0x7ff5be286650>,\n",
              "        <matplotlib.axes._subplots.AxesSubplot object at 0x7ff5be25e890>,\n",
              "        <matplotlib.axes._subplots.AxesSubplot object at 0x7ff5be217cd0>,\n",
              "        <matplotlib.axes._subplots.AxesSubplot object at 0x7ff5be1d7210>,\n",
              "        <matplotlib.axes._subplots.AxesSubplot object at 0x7ff5be18d710>],\n",
              "       [<matplotlib.axes._subplots.AxesSubplot object at 0x7ff5be144c10>,\n",
              "        <matplotlib.axes._subplots.AxesSubplot object at 0x7ff5be1071d0>,\n",
              "        <matplotlib.axes._subplots.AxesSubplot object at 0x7ff5be0bc610>,\n",
              "        <matplotlib.axes._subplots.AxesSubplot object at 0x7ff5be0bc650>,\n",
              "        <matplotlib.axes._subplots.AxesSubplot object at 0x7ff5be0f2c50>],\n",
              "       [<matplotlib.axes._subplots.AxesSubplot object at 0x7ff5be069590>,\n",
              "        <matplotlib.axes._subplots.AxesSubplot object at 0x7ff5be020a90>,\n",
              "        <matplotlib.axes._subplots.AxesSubplot object at 0x7ff5bdfd7f90>,\n",
              "        <matplotlib.axes._subplots.AxesSubplot object at 0x7ff5bdf994d0>,\n",
              "        <matplotlib.axes._subplots.AxesSubplot object at 0x7ff5bdf4f9d0>],\n",
              "       [<matplotlib.axes._subplots.AxesSubplot object at 0x7ff5bdf06ed0>,\n",
              "        <matplotlib.axes._subplots.AxesSubplot object at 0x7ff5bdec6410>,\n",
              "        <matplotlib.axes._subplots.AxesSubplot object at 0x7ff5bde7b990>,\n",
              "        <matplotlib.axes._subplots.AxesSubplot object at 0x7ff5bdeb2e90>,\n",
              "        <matplotlib.axes._subplots.AxesSubplot object at 0x7ff5bde753d0>],\n",
              "       [<matplotlib.axes._subplots.AxesSubplot object at 0x7ff5bde2b8d0>,\n",
              "        <matplotlib.axes._subplots.AxesSubplot object at 0x7ff5bdde0dd0>,\n",
              "        <matplotlib.axes._subplots.AxesSubplot object at 0x7ff5bdda4310>,\n",
              "        <matplotlib.axes._subplots.AxesSubplot object at 0x7ff5bdd58810>,\n",
              "        <matplotlib.axes._subplots.AxesSubplot object at 0x7ff5bdd11d10>]],\n",
              "      dtype=object)"
            ]
          },
          "metadata": {},
          "execution_count": 110
        },
        {
          "output_type": "display_data",
          "data": {
            "image/png": "[encoded data removed]",
            "text/plain": [
              "<Figure size 432x288 with 25 Axes>"
            ]
          },
          "metadata": {
            "needs_background": "light"
          }
        }
      ]
    },
    {
      "cell_type": "code",
      "metadata": {
        "colab": {
          "base_uri": "https://localhost:8080/",
          "height": 1000
        },
        "id": "bYcAHPK4h_2w",
        "outputId": "d664e98b-9fc8-4319-b4d8-353076dfab6f"
      },
      "source": [
        "# create correlation matrix\n",
        "corr = galaxy.corr()\n",
        "print(corr)\n",
        "#vs\n",
        "galaxy.cov()"
      ],
      "execution_count": 111,
      "outputs": [
        {
          "output_type": "stream",
          "name": "stdout",
          "text": [
            "                                 DIVISION  ...  TIPO_CALIFICACIÓN\n",
            "DIVISION                         1.000000  ...          -0.007101\n",
            "NIVEL_EDUCATIVO                  0.015086  ...          -0.006068\n",
            "SEXO                             0.243440  ...          -0.000844\n",
            "EDAD                             0.019208  ...           0.031231\n",
            "ESTADO_CIVIL                     0.027076  ...           0.007868\n",
            "NUMERO_HIJOS                     0.020944  ...           0.013139\n",
            "TRABAJA                         -0.020328  ...          -0.005877\n",
            "SOSTEN_ECONOMICO                 0.024947  ...          -0.004547\n",
            "INTERNET                        -0.021453  ...          -0.005660\n",
            "INTERNET_LUGAR                   0.042372  ...          -0.001801\n",
            "EQUIPO_COMPUTO                  -0.002889  ...          -0.001627\n",
            "EQUIPO_COMPUTO_DESC              0.003085  ...           0.004068\n",
            "EXPERIENCIA_MODALIDAD            0.014438  ...           0.001290\n",
            "MODALIDAD_ESTUDIOS_BACHILLERATO -0.004352  ...          -0.002717\n",
            "PROMEDIO_BACHILLERATO            0.013931  ...           0.004595\n",
            "HORAS_ESTUDIO_SEMANA             0.019458  ...           0.004311\n",
            "DISCAPACIDAD                     0.000749  ...           0.009970\n",
            "PERIODO_ESCOLAR                  0.031486  ...          -0.133620\n",
            "SEMESTRE                         0.072430  ...           0.046247\n",
            "CALIFICACION                     0.102302  ...           0.044440\n",
            "TIPO_CALIFICACIÓN               -0.007101  ...           1.000000\n",
            "\n",
            "[21 rows x 21 columns]\n"
          ]
        },
        {
          "output_type": "execute_result",
          "data": {
            "text/html": [
              "<div>\n",
              "<style scoped>\n",
              "    .dataframe tbody tr th:only-of-type {\n",
              "        vertical-align: middle;\n",
              "    }\n",
              "\n",
              "    .dataframe tbody tr th {\n",
              "        vertical-align: top;\n",
              "    }\n",
              "\n",
              "    .dataframe thead th {\n",
              "        text-align: right;\n",
              "    }\n",
              "</style>\n",
              "<table border=\"1\" class=\"dataframe\">\n",
              "  <thead>\n",
              "    <tr style=\"text-align: right;\">\n",
              "      <th></th>\n",
              "      <th>DIVISION</th>\n",
              "      <th>NIVEL_EDUCATIVO</th>\n",
              "      <th>SEXO</th>\n",
              "      <th>EDAD</th>\n",
              "      <th>ESTADO_CIVIL</th>\n",
              "      <th>NUMERO_HIJOS</th>\n",
              "      <th>TRABAJA</th>\n",
              "      <th>SOSTEN_ECONOMICO</th>\n",
              "      <th>INTERNET</th>\n",
              "      <th>INTERNET_LUGAR</th>\n",
              "      <th>EQUIPO_COMPUTO</th>\n",
              "      <th>EQUIPO_COMPUTO_DESC</th>\n",
              "      <th>EXPERIENCIA_MODALIDAD</th>\n",
              "      <th>MODALIDAD_ESTUDIOS_BACHILLERATO</th>\n",
              "      <th>PROMEDIO_BACHILLERATO</th>\n",
              "      <th>HORAS_ESTUDIO_SEMANA</th>\n",
              "      <th>DISCAPACIDAD</th>\n",
              "      <th>PERIODO_ESCOLAR</th>\n",
              "      <th>SEMESTRE</th>\n",
              "      <th>CALIFICACION</th>\n",
              "      <th>TIPO_CALIFICACIÓN</th>\n",
              "    </tr>\n",
              "  </thead>\n",
              "  <tbody>\n",
              "    <tr>\n",
              "      <th>DIVISION</th>\n",
              "      <td>0.457391</td>\n",
              "      <td>0.001783</td>\n",
              "      <td>0.082106</td>\n",
              "      <td>0.011888</td>\n",
              "      <td>0.032406</td>\n",
              "      <td>0.006833</td>\n",
              "      <td>-0.005858</td>\n",
              "      <td>0.013038</td>\n",
              "      <td>-0.000694</td>\n",
              "      <td>0.024567</td>\n",
              "      <td>-0.000283</td>\n",
              "      <td>0.003965</td>\n",
              "      <td>0.004673</td>\n",
              "      <td>-0.001673</td>\n",
              "      <td>0.007386</td>\n",
              "      <td>0.013793</td>\n",
              "      <td>0.000075</td>\n",
              "      <td>0.029715</td>\n",
              "      <td>0.065786</td>\n",
              "      <td>0.033392</td>\n",
              "      <td>-0.000559</td>\n",
              "    </tr>\n",
              "    <tr>\n",
              "      <th>NIVEL_EDUCATIVO</th>\n",
              "      <td>0.001783</td>\n",
              "      <td>0.030540</td>\n",
              "      <td>-0.004859</td>\n",
              "      <td>-0.002936</td>\n",
              "      <td>0.001903</td>\n",
              "      <td>0.000782</td>\n",
              "      <td>-0.000500</td>\n",
              "      <td>0.001255</td>\n",
              "      <td>0.000072</td>\n",
              "      <td>-0.002969</td>\n",
              "      <td>0.000253</td>\n",
              "      <td>-0.008347</td>\n",
              "      <td>-0.000070</td>\n",
              "      <td>-0.003145</td>\n",
              "      <td>0.007324</td>\n",
              "      <td>0.000082</td>\n",
              "      <td>-0.000521</td>\n",
              "      <td>-0.003219</td>\n",
              "      <td>-0.007467</td>\n",
              "      <td>-0.001270</td>\n",
              "      <td>-0.000123</td>\n",
              "    </tr>\n",
              "    <tr>\n",
              "      <th>SEXO</th>\n",
              "      <td>0.082106</td>\n",
              "      <td>-0.004859</td>\n",
              "      <td>0.248699</td>\n",
              "      <td>-0.024181</td>\n",
              "      <td>0.018584</td>\n",
              "      <td>0.004665</td>\n",
              "      <td>-0.000035</td>\n",
              "      <td>-0.010837</td>\n",
              "      <td>-0.000129</td>\n",
              "      <td>-0.003281</td>\n",
              "      <td>0.000341</td>\n",
              "      <td>0.000935</td>\n",
              "      <td>-0.001763</td>\n",
              "      <td>-0.002392</td>\n",
              "      <td>0.002203</td>\n",
              "      <td>0.003324</td>\n",
              "      <td>-0.003952</td>\n",
              "      <td>0.013618</td>\n",
              "      <td>0.019071</td>\n",
              "      <td>0.011267</td>\n",
              "      <td>-0.000049</td>\n",
              "    </tr>\n",
              "    <tr>\n",
              "      <th>EDAD</th>\n",
              "      <td>0.011888</td>\n",
              "      <td>-0.002936</td>\n",
              "      <td>-0.024181</td>\n",
              "      <td>0.837491</td>\n",
              "      <td>0.006403</td>\n",
              "      <td>-0.002114</td>\n",
              "      <td>-0.002123</td>\n",
              "      <td>-0.012397</td>\n",
              "      <td>0.000459</td>\n",
              "      <td>-0.012645</td>\n",
              "      <td>0.000307</td>\n",
              "      <td>-0.007070</td>\n",
              "      <td>-0.002583</td>\n",
              "      <td>-0.008741</td>\n",
              "      <td>0.016932</td>\n",
              "      <td>-0.004766</td>\n",
              "      <td>0.002359</td>\n",
              "      <td>0.054082</td>\n",
              "      <td>0.091914</td>\n",
              "      <td>0.047876</td>\n",
              "      <td>0.003327</td>\n",
              "    </tr>\n",
              "    <tr>\n",
              "      <th>ESTADO_CIVIL</th>\n",
              "      <td>0.032406</td>\n",
              "      <td>0.001903</td>\n",
              "      <td>0.018584</td>\n",
              "      <td>0.006403</td>\n",
              "      <td>3.131874</td>\n",
              "      <td>0.377545</td>\n",
              "      <td>0.010707</td>\n",
              "      <td>-0.047210</td>\n",
              "      <td>-0.004389</td>\n",
              "      <td>0.018135</td>\n",
              "      <td>-0.009400</td>\n",
              "      <td>-0.048924</td>\n",
              "      <td>-0.029264</td>\n",
              "      <td>0.033516</td>\n",
              "      <td>-0.003003</td>\n",
              "      <td>0.116573</td>\n",
              "      <td>-0.000022</td>\n",
              "      <td>0.008289</td>\n",
              "      <td>0.017010</td>\n",
              "      <td>0.011122</td>\n",
              "      <td>0.001621</td>\n",
              "    </tr>\n",
              "    <tr>\n",
              "      <th>NUMERO_HIJOS</th>\n",
              "      <td>0.006833</td>\n",
              "      <td>0.000782</td>\n",
              "      <td>0.004665</td>\n",
              "      <td>-0.002114</td>\n",
              "      <td>0.377545</td>\n",
              "      <td>0.232690</td>\n",
              "      <td>-0.002524</td>\n",
              "      <td>0.007743</td>\n",
              "      <td>-0.001966</td>\n",
              "      <td>0.002399</td>\n",
              "      <td>0.001264</td>\n",
              "      <td>0.033575</td>\n",
              "      <td>0.002162</td>\n",
              "      <td>-0.007158</td>\n",
              "      <td>0.000133</td>\n",
              "      <td>0.001770</td>\n",
              "      <td>-0.001296</td>\n",
              "      <td>0.003797</td>\n",
              "      <td>0.006397</td>\n",
              "      <td>0.001173</td>\n",
              "      <td>0.000738</td>\n",
              "    </tr>\n",
              "    <tr>\n",
              "      <th>TRABAJA</th>\n",
              "      <td>-0.005858</td>\n",
              "      <td>-0.000500</td>\n",
              "      <td>-0.000035</td>\n",
              "      <td>-0.002123</td>\n",
              "      <td>0.010707</td>\n",
              "      <td>-0.002524</td>\n",
              "      <td>0.181568</td>\n",
              "      <td>0.159432</td>\n",
              "      <td>-0.000413</td>\n",
              "      <td>0.027039</td>\n",
              "      <td>0.002392</td>\n",
              "      <td>0.001859</td>\n",
              "      <td>0.020814</td>\n",
              "      <td>-0.007118</td>\n",
              "      <td>-0.011372</td>\n",
              "      <td>-0.044620</td>\n",
              "      <td>0.000873</td>\n",
              "      <td>0.004022</td>\n",
              "      <td>0.003814</td>\n",
              "      <td>0.000717</td>\n",
              "      <td>-0.000292</td>\n",
              "    </tr>\n",
              "    <tr>\n",
              "      <th>SOSTEN_ECONOMICO</th>\n",
              "      <td>0.013038</td>\n",
              "      <td>0.001255</td>\n",
              "      <td>-0.010837</td>\n",
              "      <td>-0.012397</td>\n",
              "      <td>-0.047210</td>\n",
              "      <td>0.007743</td>\n",
              "      <td>0.159432</td>\n",
              "      <td>0.597186</td>\n",
              "      <td>-0.000619</td>\n",
              "      <td>0.029139</td>\n",
              "      <td>0.001467</td>\n",
              "      <td>0.016873</td>\n",
              "      <td>0.021857</td>\n",
              "      <td>-0.007929</td>\n",
              "      <td>-0.019673</td>\n",
              "      <td>-0.082540</td>\n",
              "      <td>0.000856</td>\n",
              "      <td>-0.000208</td>\n",
              "      <td>-0.000027</td>\n",
              "      <td>-0.000094</td>\n",
              "      <td>-0.000409</td>\n",
              "    </tr>\n",
              "    <tr>\n",
              "      <th>INTERNET</th>\n",
              "      <td>-0.000694</td>\n",
              "      <td>0.000072</td>\n",
              "      <td>-0.000129</td>\n",
              "      <td>0.000459</td>\n",
              "      <td>-0.004389</td>\n",
              "      <td>-0.001966</td>\n",
              "      <td>-0.000413</td>\n",
              "      <td>-0.000619</td>\n",
              "      <td>0.002289</td>\n",
              "      <td>-0.000382</td>\n",
              "      <td>0.000418</td>\n",
              "      <td>-0.000509</td>\n",
              "      <td>-0.000722</td>\n",
              "      <td>-0.000035</td>\n",
              "      <td>-0.000848</td>\n",
              "      <td>0.000762</td>\n",
              "      <td>-0.000194</td>\n",
              "      <td>0.000178</td>\n",
              "      <td>-0.000238</td>\n",
              "      <td>-0.000068</td>\n",
              "      <td>-0.000032</td>\n",
              "    </tr>\n",
              "    <tr>\n",
              "      <th>INTERNET_LUGAR</th>\n",
              "      <td>0.024567</td>\n",
              "      <td>-0.002969</td>\n",
              "      <td>-0.003281</td>\n",
              "      <td>-0.012645</td>\n",
              "      <td>0.018135</td>\n",
              "      <td>0.002399</td>\n",
              "      <td>0.027039</td>\n",
              "      <td>0.029139</td>\n",
              "      <td>-0.000382</td>\n",
              "      <td>0.734945</td>\n",
              "      <td>-0.022534</td>\n",
              "      <td>0.102843</td>\n",
              "      <td>0.004712</td>\n",
              "      <td>-0.015659</td>\n",
              "      <td>0.010718</td>\n",
              "      <td>-0.037918</td>\n",
              "      <td>0.001213</td>\n",
              "      <td>-0.006344</td>\n",
              "      <td>0.003207</td>\n",
              "      <td>-0.001498</td>\n",
              "      <td>-0.000180</td>\n",
              "    </tr>\n",
              "    <tr>\n",
              "      <th>EQUIPO_COMPUTO</th>\n",
              "      <td>-0.000283</td>\n",
              "      <td>0.000253</td>\n",
              "      <td>0.000341</td>\n",
              "      <td>0.000307</td>\n",
              "      <td>-0.009400</td>\n",
              "      <td>0.001264</td>\n",
              "      <td>0.002392</td>\n",
              "      <td>0.001467</td>\n",
              "      <td>0.000418</td>\n",
              "      <td>-0.022534</td>\n",
              "      <td>0.020986</td>\n",
              "      <td>-0.013792</td>\n",
              "      <td>0.002431</td>\n",
              "      <td>0.001466</td>\n",
              "      <td>-0.000774</td>\n",
              "      <td>0.007900</td>\n",
              "      <td>0.000030</td>\n",
              "      <td>0.000030</td>\n",
              "      <td>-0.003266</td>\n",
              "      <td>-0.000728</td>\n",
              "      <td>-0.000027</td>\n",
              "    </tr>\n",
              "    <tr>\n",
              "      <th>EQUIPO_COMPUTO_DESC</th>\n",
              "      <td>0.003965</td>\n",
              "      <td>-0.008347</td>\n",
              "      <td>0.000935</td>\n",
              "      <td>-0.007070</td>\n",
              "      <td>-0.048924</td>\n",
              "      <td>0.033575</td>\n",
              "      <td>0.001859</td>\n",
              "      <td>0.016873</td>\n",
              "      <td>-0.000509</td>\n",
              "      <td>0.102843</td>\n",
              "      <td>-0.013792</td>\n",
              "      <td>3.611578</td>\n",
              "      <td>0.019346</td>\n",
              "      <td>-0.068842</td>\n",
              "      <td>0.008062</td>\n",
              "      <td>-0.051278</td>\n",
              "      <td>-0.008561</td>\n",
              "      <td>0.025531</td>\n",
              "      <td>0.009868</td>\n",
              "      <td>0.008959</td>\n",
              "      <td>0.000900</td>\n",
              "    </tr>\n",
              "    <tr>\n",
              "      <th>EXPERIENCIA_MODALIDAD</th>\n",
              "      <td>0.004673</td>\n",
              "      <td>-0.000070</td>\n",
              "      <td>-0.001763</td>\n",
              "      <td>-0.002583</td>\n",
              "      <td>-0.029264</td>\n",
              "      <td>0.002162</td>\n",
              "      <td>0.020814</td>\n",
              "      <td>0.021857</td>\n",
              "      <td>-0.000722</td>\n",
              "      <td>0.004712</td>\n",
              "      <td>0.002431</td>\n",
              "      <td>0.019346</td>\n",
              "      <td>0.229071</td>\n",
              "      <td>-0.097878</td>\n",
              "      <td>0.034832</td>\n",
              "      <td>0.012611</td>\n",
              "      <td>-0.000680</td>\n",
              "      <td>0.011520</td>\n",
              "      <td>0.006866</td>\n",
              "      <td>0.003471</td>\n",
              "      <td>0.000072</td>\n",
              "    </tr>\n",
              "    <tr>\n",
              "      <th>MODALIDAD_ESTUDIOS_BACHILLERATO</th>\n",
              "      <td>-0.001673</td>\n",
              "      <td>-0.003145</td>\n",
              "      <td>-0.002392</td>\n",
              "      <td>-0.008741</td>\n",
              "      <td>0.033516</td>\n",
              "      <td>-0.007158</td>\n",
              "      <td>-0.007118</td>\n",
              "      <td>-0.007929</td>\n",
              "      <td>-0.000035</td>\n",
              "      <td>-0.015659</td>\n",
              "      <td>0.001466</td>\n",
              "      <td>-0.068842</td>\n",
              "      <td>-0.097878</td>\n",
              "      <td>0.323086</td>\n",
              "      <td>-0.033426</td>\n",
              "      <td>0.001363</td>\n",
              "      <td>-0.000946</td>\n",
              "      <td>-0.011991</td>\n",
              "      <td>-0.009045</td>\n",
              "      <td>-0.003898</td>\n",
              "      <td>-0.000180</td>\n",
              "    </tr>\n",
              "    <tr>\n",
              "      <th>PROMEDIO_BACHILLERATO</th>\n",
              "      <td>0.007386</td>\n",
              "      <td>0.007324</td>\n",
              "      <td>0.002203</td>\n",
              "      <td>0.016932</td>\n",
              "      <td>-0.003003</td>\n",
              "      <td>0.000133</td>\n",
              "      <td>-0.011372</td>\n",
              "      <td>-0.019673</td>\n",
              "      <td>-0.000848</td>\n",
              "      <td>0.010718</td>\n",
              "      <td>-0.000774</td>\n",
              "      <td>0.008062</td>\n",
              "      <td>0.034832</td>\n",
              "      <td>-0.033426</td>\n",
              "      <td>0.614589</td>\n",
              "      <td>0.003621</td>\n",
              "      <td>0.001654</td>\n",
              "      <td>0.004900</td>\n",
              "      <td>0.013322</td>\n",
              "      <td>0.007796</td>\n",
              "      <td>0.000419</td>\n",
              "    </tr>\n",
              "    <tr>\n",
              "      <th>HORAS_ESTUDIO_SEMANA</th>\n",
              "      <td>0.013793</td>\n",
              "      <td>0.000082</td>\n",
              "      <td>0.003324</td>\n",
              "      <td>-0.004766</td>\n",
              "      <td>0.116573</td>\n",
              "      <td>0.001770</td>\n",
              "      <td>-0.044620</td>\n",
              "      <td>-0.082540</td>\n",
              "      <td>0.000762</td>\n",
              "      <td>-0.037918</td>\n",
              "      <td>0.007900</td>\n",
              "      <td>-0.051278</td>\n",
              "      <td>0.012611</td>\n",
              "      <td>0.001363</td>\n",
              "      <td>0.003621</td>\n",
              "      <td>1.098606</td>\n",
              "      <td>-0.003864</td>\n",
              "      <td>-0.012558</td>\n",
              "      <td>-0.026428</td>\n",
              "      <td>-0.007670</td>\n",
              "      <td>0.000526</td>\n",
              "    </tr>\n",
              "    <tr>\n",
              "      <th>DISCAPACIDAD</th>\n",
              "      <td>0.000075</td>\n",
              "      <td>-0.000521</td>\n",
              "      <td>-0.003952</td>\n",
              "      <td>0.002359</td>\n",
              "      <td>-0.000022</td>\n",
              "      <td>-0.001296</td>\n",
              "      <td>0.000873</td>\n",
              "      <td>0.000856</td>\n",
              "      <td>-0.000194</td>\n",
              "      <td>0.001213</td>\n",
              "      <td>0.000030</td>\n",
              "      <td>-0.008561</td>\n",
              "      <td>-0.000680</td>\n",
              "      <td>-0.000946</td>\n",
              "      <td>0.001654</td>\n",
              "      <td>-0.003864</td>\n",
              "      <td>0.021668</td>\n",
              "      <td>0.002211</td>\n",
              "      <td>0.001940</td>\n",
              "      <td>0.001681</td>\n",
              "      <td>0.000171</td>\n",
              "    </tr>\n",
              "    <tr>\n",
              "      <th>PERIODO_ESCOLAR</th>\n",
              "      <td>0.029715</td>\n",
              "      <td>-0.003219</td>\n",
              "      <td>0.013618</td>\n",
              "      <td>0.054082</td>\n",
              "      <td>0.008289</td>\n",
              "      <td>0.003797</td>\n",
              "      <td>0.004022</td>\n",
              "      <td>-0.000208</td>\n",
              "      <td>0.000178</td>\n",
              "      <td>-0.006344</td>\n",
              "      <td>0.000030</td>\n",
              "      <td>0.025531</td>\n",
              "      <td>0.011520</td>\n",
              "      <td>-0.011991</td>\n",
              "      <td>0.004900</td>\n",
              "      <td>-0.012558</td>\n",
              "      <td>0.002211</td>\n",
              "      <td>1.947336</td>\n",
              "      <td>1.433109</td>\n",
              "      <td>0.076634</td>\n",
              "      <td>-0.021707</td>\n",
              "    </tr>\n",
              "    <tr>\n",
              "      <th>SEMESTRE</th>\n",
              "      <td>0.065786</td>\n",
              "      <td>-0.007467</td>\n",
              "      <td>0.019071</td>\n",
              "      <td>0.091914</td>\n",
              "      <td>0.017010</td>\n",
              "      <td>0.006397</td>\n",
              "      <td>0.003814</td>\n",
              "      <td>-0.000027</td>\n",
              "      <td>-0.000238</td>\n",
              "      <td>0.003207</td>\n",
              "      <td>-0.003266</td>\n",
              "      <td>0.009868</td>\n",
              "      <td>0.006866</td>\n",
              "      <td>-0.009045</td>\n",
              "      <td>0.013322</td>\n",
              "      <td>-0.026428</td>\n",
              "      <td>0.001940</td>\n",
              "      <td>1.433109</td>\n",
              "      <td>1.803583</td>\n",
              "      <td>0.165833</td>\n",
              "      <td>0.007230</td>\n",
              "    </tr>\n",
              "    <tr>\n",
              "      <th>CALIFICACION</th>\n",
              "      <td>0.033392</td>\n",
              "      <td>-0.001270</td>\n",
              "      <td>0.011267</td>\n",
              "      <td>0.047876</td>\n",
              "      <td>0.011122</td>\n",
              "      <td>0.001173</td>\n",
              "      <td>0.000717</td>\n",
              "      <td>-0.000094</td>\n",
              "      <td>-0.000068</td>\n",
              "      <td>-0.001498</td>\n",
              "      <td>-0.000728</td>\n",
              "      <td>0.008959</td>\n",
              "      <td>0.003471</td>\n",
              "      <td>-0.003898</td>\n",
              "      <td>0.007796</td>\n",
              "      <td>-0.007670</td>\n",
              "      <td>0.001681</td>\n",
              "      <td>0.076634</td>\n",
              "      <td>0.165833</td>\n",
              "      <td>0.232934</td>\n",
              "      <td>0.002497</td>\n",
              "    </tr>\n",
              "    <tr>\n",
              "      <th>TIPO_CALIFICACIÓN</th>\n",
              "      <td>-0.000559</td>\n",
              "      <td>-0.000123</td>\n",
              "      <td>-0.000049</td>\n",
              "      <td>0.003327</td>\n",
              "      <td>0.001621</td>\n",
              "      <td>0.000738</td>\n",
              "      <td>-0.000292</td>\n",
              "      <td>-0.000409</td>\n",
              "      <td>-0.000032</td>\n",
              "      <td>-0.000180</td>\n",
              "      <td>-0.000027</td>\n",
              "      <td>0.000900</td>\n",
              "      <td>0.000072</td>\n",
              "      <td>-0.000180</td>\n",
              "      <td>0.000419</td>\n",
              "      <td>0.000526</td>\n",
              "      <td>0.000171</td>\n",
              "      <td>-0.021707</td>\n",
              "      <td>0.007230</td>\n",
              "      <td>0.002497</td>\n",
              "      <td>0.013552</td>\n",
              "    </tr>\n",
              "  </tbody>\n",
              "</table>\n",
              "</div>"
            ],
            "text/plain": [
              "                                 DIVISION  ...  TIPO_CALIFICACIÓN\n",
              "DIVISION                         0.457391  ...          -0.000559\n",
              "NIVEL_EDUCATIVO                  0.001783  ...          -0.000123\n",
              "SEXO                             0.082106  ...          -0.000049\n",
              "EDAD                             0.011888  ...           0.003327\n",
              "ESTADO_CIVIL                     0.032406  ...           0.001621\n",
              "NUMERO_HIJOS                     0.006833  ...           0.000738\n",
              "TRABAJA                         -0.005858  ...          -0.000292\n",
              "SOSTEN_ECONOMICO                 0.013038  ...          -0.000409\n",
              "INTERNET                        -0.000694  ...          -0.000032\n",
              "INTERNET_LUGAR                   0.024567  ...          -0.000180\n",
              "EQUIPO_COMPUTO                  -0.000283  ...          -0.000027\n",
              "EQUIPO_COMPUTO_DESC              0.003965  ...           0.000900\n",
              "EXPERIENCIA_MODALIDAD            0.004673  ...           0.000072\n",
              "MODALIDAD_ESTUDIOS_BACHILLERATO -0.001673  ...          -0.000180\n",
              "PROMEDIO_BACHILLERATO            0.007386  ...           0.000419\n",
              "HORAS_ESTUDIO_SEMANA             0.013793  ...           0.000526\n",
              "DISCAPACIDAD                     0.000075  ...           0.000171\n",
              "PERIODO_ESCOLAR                  0.029715  ...          -0.021707\n",
              "SEMESTRE                         0.065786  ...           0.007230\n",
              "CALIFICACION                     0.033392  ...           0.002497\n",
              "TIPO_CALIFICACIÓN               -0.000559  ...           0.013552\n",
              "\n",
              "[21 rows x 21 columns]"
            ]
          },
          "metadata": {},
          "execution_count": 111
        }
      ]
    },
    {
      "cell_type": "code",
      "metadata": {
        "colab": {
          "base_uri": "https://localhost:8080/",
          "height": 312
        },
        "id": "uwZjh8tZiIBZ",
        "outputId": "6dd4bbe3-fc0f-49f2-e419-bba89fbe1d80"
      },
      "source": [
        "# the higher (red), the more correlated (cf. diagonal)\n",
        "import statsmodels.api as sm\n",
        "sm.graphics.plot_corr(corr, xnames=list(corr.columns))\n",
        "print()"
      ],
      "execution_count": 112,
      "outputs": [
        {
          "output_type": "stream",
          "name": "stdout",
          "text": [
            "\n"
          ]
        },
        {
          "output_type": "display_data",
          "data": {
            "image/png": "[encoded data removed]",
            "text/plain": [
              "<Figure size 432x288 with 2 Axes>"
            ]
          },
          "metadata": {
            "needs_background": "light"
          }
        }
      ]
    },
    {
      "cell_type": "code",
      "metadata": {
        "colab": {
          "base_uri": "https://localhost:8080/"
        },
        "id": "oy92GX4YJxuJ",
        "outputId": "372df566-84d8-4668-c768-fdb65a7bdfb3"
      },
      "source": [
        "# ranking correlations\n",
        "corr[\"SEXO\"].sort_values(ascending=False) "
      ],
      "execution_count": 114,
      "outputs": [
        {
          "output_type": "execute_result",
          "data": {
            "text/plain": [
              "SEXO                               1.000000\n",
              "DIVISION                           0.243440\n",
              "CALIFICACION                       0.046814\n",
              "SEMESTRE                           0.028475\n",
              "ESTADO_CIVIL                       0.021057\n",
              "PERIODO_ESCOLAR                    0.019568\n",
              "NUMERO_HIJOS                       0.019393\n",
              "HORAS_ESTUDIO_SEMANA               0.006359\n",
              "PROMEDIO_BACHILLERATO              0.005634\n",
              "EQUIPO_COMPUTO                     0.004718\n",
              "EQUIPO_COMPUTO_DESC                0.000987\n",
              "TRABAJA                           -0.000166\n",
              "TIPO_CALIFICACIÓN                 -0.000844\n",
              "INTERNET                          -0.005393\n",
              "EXPERIENCIA_MODALIDAD             -0.007387\n",
              "INTERNET_LUGAR                    -0.007674\n",
              "MODALIDAD_ESTUDIOS_BACHILLERATO   -0.008439\n",
              "SOSTEN_ECONOMICO                  -0.028121\n",
              "EDAD                              -0.052984\n",
              "DISCAPACIDAD                      -0.053838\n",
              "NIVEL_EDUCATIVO                   -0.055753\n",
              "Name: SEXO, dtype: float64"
            ]
          },
          "metadata": {},
          "execution_count": 114
        }
      ]
    },
    {
      "cell_type": "code",
      "metadata": {
        "colab": {
          "base_uri": "https://localhost:8080/",
          "height": 263
        },
        "id": "MpWx1bw_iU6W",
        "outputId": "953eab86-ea92-4c33-8b10-f15825d5a74a"
      },
      "source": [
        "# by class\n",
        "import matplotlib.pyplot as plt\n",
        "\n",
        "plt.scatter(x=galaxy['SEXO'], \n",
        "            y=galaxy[\"DIVISION\"],\n",
        "            c=galaxy[galaxy.columns[4]].astype('category').cat.codes,\n",
        "            s=10, \n",
        "            cmap=plt.cm.rainbow)\n",
        "plt.show()"
      ],
      "execution_count": 115,
      "outputs": [
        {
          "output_type": "display_data",
          "data": {
            "image/png": "[encoded data removed]",
            "text/plain": [
              "<Figure size 432x288 with 1 Axes>"
            ]
          },
          "metadata": {
            "needs_background": "light"
          }
        }
      ]
    },
    {
      "cell_type": "code",
      "metadata": {
        "colab": {
          "base_uri": "https://localhost:8080/",
          "height": 352
        },
        "id": "MJMsOUO3gZCt",
        "outputId": "a950a8d4-643d-4cc7-9ed7-8568483958c5"
      },
      "source": [
        "#Lineal\n",
        "x = galaxy['SEXO']\n",
        "y = galaxy['DIVISION']\n",
        "galaxy.head()"
      ],
      "execution_count": 116,
      "outputs": [
        {
          "output_type": "execute_result",
          "data": {
            "text/html": [
              "<div>\n",
              "<style scoped>\n",
              "    .dataframe tbody tr th:only-of-type {\n",
              "        vertical-align: middle;\n",
              "    }\n",
              "\n",
              "    .dataframe tbody tr th {\n",
              "        vertical-align: top;\n",
              "    }\n",
              "\n",
              "    .dataframe thead th {\n",
              "        text-align: right;\n",
              "    }\n",
              "</style>\n",
              "<table border=\"1\" class=\"dataframe\">\n",
              "  <thead>\n",
              "    <tr style=\"text-align: right;\">\n",
              "      <th></th>\n",
              "      <th>PROGRAMA_EDUCATIVO</th>\n",
              "      <th>DIVISION</th>\n",
              "      <th>NIVEL_EDUCATIVO</th>\n",
              "      <th>SEXO</th>\n",
              "      <th>EDAD</th>\n",
              "      <th>ESTADO_CIVIL</th>\n",
              "      <th>NUMERO_HIJOS</th>\n",
              "      <th>TRABAJA</th>\n",
              "      <th>SOSTEN_ECONOMICO</th>\n",
              "      <th>INTERNET</th>\n",
              "      <th>INTERNET_LUGAR</th>\n",
              "      <th>EQUIPO_COMPUTO</th>\n",
              "      <th>EQUIPO_COMPUTO_DESC</th>\n",
              "      <th>EXPERIENCIA_MODALIDAD</th>\n",
              "      <th>MODALIDAD_ESTUDIOS_BACHILLERATO</th>\n",
              "      <th>PROMEDIO_BACHILLERATO</th>\n",
              "      <th>HORAS_ESTUDIO_SEMANA</th>\n",
              "      <th>DISCAPACIDAD</th>\n",
              "      <th>PERIODO_ESCOLAR</th>\n",
              "      <th>ASIGNATURA</th>\n",
              "      <th>SEMESTRE</th>\n",
              "      <th>CALIFICACION</th>\n",
              "      <th>TIPO_CALIFICACIÓN</th>\n",
              "    </tr>\n",
              "  </thead>\n",
              "  <tbody>\n",
              "    <tr>\n",
              "      <th>0</th>\n",
              "      <td>Lic. en Mercadotecnia Internacional</td>\n",
              "      <td>1</td>\n",
              "      <td>0</td>\n",
              "      <td>0</td>\n",
              "      <td>3</td>\n",
              "      <td>0</td>\n",
              "      <td>0</td>\n",
              "      <td>1</td>\n",
              "      <td>5</td>\n",
              "      <td>1</td>\n",
              "      <td>0</td>\n",
              "      <td>1</td>\n",
              "      <td>5</td>\n",
              "      <td>0</td>\n",
              "      <td>1</td>\n",
              "      <td>2</td>\n",
              "      <td>3</td>\n",
              "      <td>0</td>\n",
              "      <td>0</td>\n",
              "      <td>Fundamentos de investigación</td>\n",
              "      <td>1</td>\n",
              "      <td>2</td>\n",
              "      <td>1</td>\n",
              "    </tr>\n",
              "    <tr>\n",
              "      <th>1</th>\n",
              "      <td>Lic. en Mercadotecnia Internacional</td>\n",
              "      <td>1</td>\n",
              "      <td>0</td>\n",
              "      <td>0</td>\n",
              "      <td>3</td>\n",
              "      <td>0</td>\n",
              "      <td>0</td>\n",
              "      <td>1</td>\n",
              "      <td>5</td>\n",
              "      <td>1</td>\n",
              "      <td>0</td>\n",
              "      <td>1</td>\n",
              "      <td>5</td>\n",
              "      <td>0</td>\n",
              "      <td>1</td>\n",
              "      <td>2</td>\n",
              "      <td>3</td>\n",
              "      <td>0</td>\n",
              "      <td>0</td>\n",
              "      <td>Fundamentos de administración</td>\n",
              "      <td>1</td>\n",
              "      <td>2</td>\n",
              "      <td>1</td>\n",
              "    </tr>\n",
              "    <tr>\n",
              "      <th>2</th>\n",
              "      <td>Lic. en Mercadotecnia Internacional</td>\n",
              "      <td>1</td>\n",
              "      <td>0</td>\n",
              "      <td>0</td>\n",
              "      <td>3</td>\n",
              "      <td>0</td>\n",
              "      <td>0</td>\n",
              "      <td>1</td>\n",
              "      <td>5</td>\n",
              "      <td>1</td>\n",
              "      <td>0</td>\n",
              "      <td>1</td>\n",
              "      <td>5</td>\n",
              "      <td>0</td>\n",
              "      <td>1</td>\n",
              "      <td>2</td>\n",
              "      <td>3</td>\n",
              "      <td>0</td>\n",
              "      <td>0</td>\n",
              "      <td>Contexto socioeconómico de México</td>\n",
              "      <td>1</td>\n",
              "      <td>2</td>\n",
              "      <td>1</td>\n",
              "    </tr>\n",
              "    <tr>\n",
              "      <th>3</th>\n",
              "      <td>Lic. en Mercadotecnia Internacional</td>\n",
              "      <td>1</td>\n",
              "      <td>0</td>\n",
              "      <td>0</td>\n",
              "      <td>3</td>\n",
              "      <td>0</td>\n",
              "      <td>0</td>\n",
              "      <td>1</td>\n",
              "      <td>5</td>\n",
              "      <td>1</td>\n",
              "      <td>0</td>\n",
              "      <td>1</td>\n",
              "      <td>5</td>\n",
              "      <td>0</td>\n",
              "      <td>1</td>\n",
              "      <td>2</td>\n",
              "      <td>3</td>\n",
              "      <td>0</td>\n",
              "      <td>0</td>\n",
              "      <td>Introducción a la contabilidad</td>\n",
              "      <td>1</td>\n",
              "      <td>2</td>\n",
              "      <td>1</td>\n",
              "    </tr>\n",
              "    <tr>\n",
              "      <th>4</th>\n",
              "      <td>Lic. en Mercadotecnia Internacional</td>\n",
              "      <td>1</td>\n",
              "      <td>0</td>\n",
              "      <td>0</td>\n",
              "      <td>3</td>\n",
              "      <td>0</td>\n",
              "      <td>0</td>\n",
              "      <td>1</td>\n",
              "      <td>5</td>\n",
              "      <td>1</td>\n",
              "      <td>0</td>\n",
              "      <td>1</td>\n",
              "      <td>5</td>\n",
              "      <td>0</td>\n",
              "      <td>1</td>\n",
              "      <td>2</td>\n",
              "      <td>3</td>\n",
              "      <td>0</td>\n",
              "      <td>1</td>\n",
              "      <td>Introducción al derecho</td>\n",
              "      <td>2</td>\n",
              "      <td>2</td>\n",
              "      <td>1</td>\n",
              "    </tr>\n",
              "  </tbody>\n",
              "</table>\n",
              "</div>"
            ],
            "text/plain": [
              "                    PROGRAMA_EDUCATIVO  ...  TIPO_CALIFICACIÓN\n",
              "0  Lic. en Mercadotecnia Internacional  ...                  1\n",
              "1  Lic. en Mercadotecnia Internacional  ...                  1\n",
              "2  Lic. en Mercadotecnia Internacional  ...                  1\n",
              "3  Lic. en Mercadotecnia Internacional  ...                  1\n",
              "4  Lic. en Mercadotecnia Internacional  ...                  1\n",
              "\n",
              "[5 rows x 23 columns]"
            ]
          },
          "metadata": {},
          "execution_count": 116
        }
      ]
    },
    {
      "cell_type": "code",
      "metadata": {
        "id": "7pS-kMxBfxAk"
      },
      "source": [
        "# select\n",
        "from sklearn.linear_model import LinearRegression\n",
        "import numpy as np\n",
        "import pandas as pd"
      ],
      "execution_count": 117,
      "outputs": []
    },
    {
      "cell_type": "code",
      "metadata": {
        "colab": {
          "base_uri": "https://localhost:8080/"
        },
        "id": "ECVvlSvYfzd7",
        "outputId": "65265b83-e4cb-4472-dac7-b4046d2c8750"
      },
      "source": [
        "# try some other parameters\n",
        "model = LinearRegression(fit_intercept=True)\n",
        "model"
      ],
      "execution_count": 118,
      "outputs": [
        {
          "output_type": "execute_result",
          "data": {
            "text/plain": [
              "LinearRegression()"
            ]
          },
          "metadata": {},
          "execution_count": 118
        }
      ]
    },
    {
      "cell_type": "code",
      "metadata": {
        "colab": {
          "base_uri": "https://localhost:8080/"
        },
        "id": "SN1l57APf20n",
        "outputId": "ee0c6029-b2e8-45fd-d540-e98851893ded"
      },
      "source": [
        "print(x)\n",
        "x.shape"
      ],
      "execution_count": 119,
      "outputs": [
        {
          "output_type": "stream",
          "name": "stdout",
          "text": [
            "0        0\n",
            "1        0\n",
            "2        0\n",
            "3        0\n",
            "4        0\n",
            "        ..\n",
            "44899    1\n",
            "44900    1\n",
            "44901    0\n",
            "44902    1\n",
            "44903    1\n",
            "Name: SEXO, Length: 44904, dtype: int64\n"
          ]
        },
        {
          "output_type": "execute_result",
          "data": {
            "text/plain": [
              "(44904,)"
            ]
          },
          "metadata": {},
          "execution_count": 119
        }
      ]
    },
    {
      "cell_type": "code",
      "metadata": {
        "colab": {
          "base_uri": "https://localhost:8080/"
        },
        "id": "klzk0U9wf3ib",
        "outputId": "e0bb653a-1768-4e47-e462-c8bee2ef37a1"
      },
      "source": [
        "# prep (etl)\n",
        "X = x[:, np.newaxis]\n",
        "X.shape"
      ],
      "execution_count": 120,
      "outputs": [
        {
          "output_type": "stream",
          "name": "stderr",
          "text": [
            "/usr/local/lib/python3.7/dist-packages/ipykernel_launcher.py:2: FutureWarning: Support for multi-dimensional indexing (e.g. `obj[:, None]`) is deprecated and will be removed in a future version.  Convert to a numpy array before indexing instead.\n",
            "  \n"
          ]
        },
        {
          "output_type": "execute_result",
          "data": {
            "text/plain": [
              "(44904, 1)"
            ]
          },
          "metadata": {},
          "execution_count": 120
        }
      ]
    },
    {
      "cell_type": "code",
      "metadata": {
        "colab": {
          "base_uri": "https://localhost:8080/"
        },
        "id": "MY29juQUf-CW",
        "outputId": "03673b71-9df0-495d-86e6-c392f31402a3"
      },
      "source": [
        "# train\n",
        "model.fit(X, y)"
      ],
      "execution_count": 121,
      "outputs": [
        {
          "output_type": "execute_result",
          "data": {
            "text/plain": [
              "LinearRegression()"
            ]
          },
          "metadata": {},
          "execution_count": 121
        }
      ]
    },
    {
      "cell_type": "code",
      "metadata": {
        "colab": {
          "base_uri": "https://localhost:8080/"
        },
        "id": "Tk1yKW5SgAT6",
        "outputId": "2c2d0c00-9b76-4f47-e1f5-91a0bff621f5"
      },
      "source": [
        "# evaluate (x)\n",
        "model.coef_"
      ],
      "execution_count": 122,
      "outputs": [
        {
          "output_type": "execute_result",
          "data": {
            "text/plain": [
              "array([0.3301407])"
            ]
          },
          "metadata": {},
          "execution_count": 122
        }
      ]
    },
    {
      "cell_type": "code",
      "metadata": {
        "colab": {
          "base_uri": "https://localhost:8080/"
        },
        "id": "uke6KGXUgCWN",
        "outputId": "6af85e13-4ded-4490-c786-f7ba189cee94"
      },
      "source": [
        "# evaluate (y)\n",
        "model.intercept_"
      ],
      "execution_count": 123,
      "outputs": [
        {
          "output_type": "execute_result",
          "data": {
            "text/plain": [
              "0.9281770608286527"
            ]
          },
          "metadata": {},
          "execution_count": 123
        }
      ]
    },
    {
      "cell_type": "code",
      "metadata": {
        "colab": {
          "base_uri": "https://localhost:8080/"
        },
        "id": "SzFEM2SwgEa-",
        "outputId": "47812b0f-c75c-4e60-9275-f9dc7274835a"
      },
      "source": [
        "# prep (etl)\n",
        "xfit = np.linspace(-1, 11)\n",
        "Xfit = xfit[:, np.newaxis]\n",
        "print(xfit.shape)\n",
        "Xfit.shape"
      ],
      "execution_count": 124,
      "outputs": [
        {
          "output_type": "stream",
          "name": "stdout",
          "text": [
            "(50,)\n"
          ]
        },
        {
          "output_type": "execute_result",
          "data": {
            "text/plain": [
              "(50, 1)"
            ]
          },
          "metadata": {},
          "execution_count": 124
        }
      ]
    },
    {
      "cell_type": "code",
      "metadata": {
        "id": "obl_OA9MgHI2"
      },
      "source": [
        "yfit = model.predict(Xfit)"
      ],
      "execution_count": 125,
      "outputs": []
    },
    {
      "cell_type": "code",
      "metadata": {
        "colab": {
          "base_uri": "https://localhost:8080/",
          "height": 263
        },
        "id": "niAMYg24gI2_",
        "outputId": "bc4688d6-eaa7-495e-b498-1c77569a9bb2"
      },
      "source": [
        "# eda (again)\n",
        "plt.scatter(x, y)\n",
        "plt.plot(xfit, yfit)\n",
        "plt.show()"
      ],
      "execution_count": 126,
      "outputs": [
        {
          "output_type": "display_data",
          "data": {
            "image/png": "[encoded data removed]",
            "text/plain": [
              "<Figure size 432x288 with 1 Axes>"
            ]
          },
          "metadata": {
            "needs_background": "light"
          }
        }
      ]
    },
    {
      "cell_type": "code",
      "metadata": {
        "colab": {
          "base_uri": "https://localhost:8080/"
        },
        "id": "amjuKzsXgM_j",
        "outputId": "cb0b9f84-c806-431a-ac8b-6be1292207e1"
      },
      "source": [
        "# cf\n",
        "yfit = model.predict([[0]])\n",
        "yfit"
      ],
      "execution_count": 127,
      "outputs": [
        {
          "output_type": "execute_result",
          "data": {
            "text/plain": [
              "array([0.92817706])"
            ]
          },
          "metadata": {},
          "execution_count": 127
        }
      ]
    }
  ]
}